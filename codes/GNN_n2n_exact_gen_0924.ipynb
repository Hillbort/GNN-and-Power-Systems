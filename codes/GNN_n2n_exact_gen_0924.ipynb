{
 "cells": [
  {
   "cell_type": "markdown",
   "metadata": {
    "colab_type": "text",
    "id": "dJ1P8LLwoCB-"
   },
   "source": [
    "# GNN for Optimal Generation Dispatch\n",
    "## IEEE 24-bus RTS system \n",
    "* System settings: 24 buses, 34 lines (concatenated from 38), 17 loads, 12 generating units on 10 buses.\n",
    "* Data: Currently we use a dataset with ~ 6000 samples, 80% used for training and 20% for validation."
   ]
  },
  {
   "cell_type": "markdown",
   "metadata": {},
   "source": [
    "# 0. Experiment env setting & import packages"
   ]
  },
  {
   "cell_type": "code",
   "execution_count": 1,
   "metadata": {
    "ExecuteTime": {
     "end_time": "2020-09-09T01:48:38.320098Z",
     "start_time": "2020-09-09T01:48:38.213795Z"
    },
    "pycharm": {
     "name": "#%%\n"
    }
   },
   "outputs": [],
   "source": [
    "# Check module 'dgl' is installed, if not, install the module\n",
    "import sys\n",
    "import subprocess\n",
    "import pkg_resources\n",
    "\n",
    "required = {'dgl'}\n",
    "installed = {pkg.key for pkg in pkg_resources.working_set}\n",
    "missing = required - installed\n",
    "\n",
    "if missing:\n",
    "    python = sys.executable\n",
    "    subprocess.check_call([python, '-m', 'pip', 'install', *missing], stdout=subprocess.DEVNULL)\n",
    "\n",
    "# !pip install dgl"
   ]
  },
  {
   "cell_type": "code",
   "execution_count": 2,
   "metadata": {
    "ExecuteTime": {
     "end_time": "2020-09-09T01:48:46.135670Z",
     "start_time": "2020-09-09T01:48:39.457696Z"
    },
    "pycharm": {
     "name": "#%%\n"
    },
    "tags": []
   },
   "outputs": [
    {
     "output_type": "stream",
     "name": "stderr",
     "text": "Using backend: pytorch\n"
    }
   ],
   "source": [
    "# Import necessary packages\n",
    "import dgl # graph convolution\n",
    "import numpy as np\n",
    "import pandas as pd\n",
    "import matplotlib.pyplot as plt\n",
    "import math\n",
    "import seaborn as sns\n",
    "import pickle\n",
    "\n",
    "import torch\n",
    "import torch.nn as nn\n",
    "import torch.nn.functional as F\n",
    "import torch.autograd.variable as Variable\n",
    "from torch.utils.data import DataLoader\n",
    "\n",
    "from sklearn.model_selection import train_test_split\n",
    "from dgl.nn.pytorch.conv import GraphConv"
   ]
  },
  {
   "cell_type": "markdown",
   "metadata": {},
   "source": [
    "# 1. Dataset Preprocessing\n",
    "## 1.1 Load the dataset"
   ]
  },
  {
   "cell_type": "code",
   "execution_count": 3,
   "metadata": {},
   "outputs": [],
   "source": [
    "\n",
    "# @ G-drive env\n",
    "# from google.colab import drive\n",
    "# drive.mount('/content/drive')\n",
    "# filename = './drive/My Drive/Colab Notebooks/ieee24_rts_6183exact_0831.txt' # active level 0.1024(line0.0124), max active line 3\n",
    "\n",
    "# @ Local env\n",
    "filename = '../data/ieee24_rts_6183exact_0831.txt'  # active level 0.1024(line0.0124), max active line 3\n",
    "\n",
    "data = pd.read_table(filename, sep=',', header=None).to_numpy()"
   ]
  },
  {
   "cell_type": "markdown",
   "metadata": {},
   "source": [
    "## 1.2 Data preprocessing"
   ]
  },
  {
   "cell_type": "code",
   "execution_count": 4,
   "metadata": {
    "ExecuteTime": {
     "end_time": "2020-09-09T01:48:48.231369Z",
     "start_time": "2020-09-09T01:48:46.147790Z"
    },
    "colab": {},
    "colab_type": "code",
    "executionInfo": {
     "elapsed": 2753,
     "status": "ok",
     "timestamp": 1599495155465,
     "user": {
      "displayName": "Jeehyun Park",
      "photoUrl": "https://lh3.googleusercontent.com/a-/AOh14GizNw5DW2QVCa5vUMiz0MiTNIYXIkGzaDCp0Es2=s64",
      "userId": "14458427846939093236"
     },
     "user_tz": 300
    },
    "id": "RamArMRLoCC7"
   },
   "outputs": [],
   "source": [
    "# system size\n",
    "n_bus = int(data[0, 0].copy())\n",
    "n_line = int(data[1, 0].copy())\n",
    "n_load = int(data[2, 0].copy())\n",
    "n_sample = int(data[3, 0].copy())\n",
    "\n",
    "# line connection\n",
    "line_bus = data[:, 1:3].copy()\n",
    "\n",
    "# load and corresponding line data\n",
    "load_data0 = data[:, 3 : n_sample + 3].copy()\n",
    "line_flow = data[:, n_sample + 3 : 2 * n_sample + 3].copy()\n",
    "bound_idx_low = data[:, 2 * n_sample + 3 : 3 * n_sample + 3].copy()\n",
    "bound_idx_up = data[:, 3 * n_sample + 3 : 4 * n_sample + 3].copy()\n",
    "bound_idx0 = bound_idx_up + bound_idx_low  # may use 'np.add(a,-b)' instead\n",
    "line_limit = data[:, 4 * n_sample + 3].copy()\n",
    "# print(line_limit)\n",
    "\n",
    "# generation data\n",
    "gen_exact = data[:, 4 * n_sample + 4 : 5 * n_sample + 4].copy()\n",
    "gen_low_limit = data[:, 5 * n_sample + 4].copy()\n",
    "gen_up_limit = data[:, 5 * n_sample + 5].copy()\n",
    "\n",
    "# normalize the generation data\n",
    "y0 = np.zeros((n_bus, n_sample))\n",
    "for i in range(n_sample):\n",
    "    # y0[:,i] = np.divide(line_flow[:,i],line_limit) # w/ direction\n",
    "    for j in range(n_bus):\n",
    "        if gen_up_limit[j] > 0:\n",
    "            y0[j, i] = np.divide(\n",
    "                gen_exact[j, i] - gen_low_limit[j], gen_up_limit[j] - gen_low_limit[j]\n",
    "            )\n",
    "        else:\n",
    "            y0[j, i] = 0\n",
    "\n",
    "# check the normalization\n",
    "assert np.max(y0) <= 1.0 and np.min(y0) >= 0.0\n",
    "\n",
    "\n",
    "# % exact generation\n",
    "# data1(1:N,4*n+5:5*n+4) = gen_data;\n",
    "# % generation lower bound & upper bound\n",
    "# data1(1:N,5*n+5) = g_min;\n",
    "# data1(1:N,5*n+6) = g_max;\n"
   ]
  },
  {
   "cell_type": "markdown",
   "metadata": {},
   "source": [
    "# 1.2 Check the dataset"
   ]
  },
  {
   "cell_type": "code",
   "execution_count": 5,
   "metadata": {
    "colab": {
     "base_uri": "https://localhost:8080/",
     "height": 102
    },
    "colab_type": "code",
    "executionInfo": {
     "elapsed": 461,
     "status": "ok",
     "timestamp": 1599495159819,
     "user": {
      "displayName": "Jeehyun Park",
      "photoUrl": "https://lh3.googleusercontent.com/a-/AOh14GizNw5DW2QVCa5vUMiz0MiTNIYXIkGzaDCp0Es2=s64",
      "userId": "14458427846939093236"
     },
     "user_tz": 300
    },
    "id": "yfMmqGJmru9O",
    "outputId": "1470369a-dc8d-4108-f259-a6ffa985b231",
    "tags": []
   },
   "outputs": [
    {
     "output_type": "stream",
     "name": "stdout",
     "text": "Test case:  ../data/ieee24_rts_6183exact_0831.txt\nNumber of buses:  24\nNumber of lines:  34\nNumber of loads:  17\nNumber of samples:  6000\n"
    }
   ],
   "source": [
    "# Use partial data for faster test\n",
    "n_sample = 6000\n",
    "\n",
    "load_data = load_data0[:, :n_sample].copy()\n",
    "bound_idx = bound_idx0[:, :n_sample].copy() * 1\n",
    "\n",
    "# gen_idx_low = gen_idx_low[:,:n_sample]\n",
    "# gen_idx_up = gen_idx_up[:,:n_sample]\n",
    "# gen_idx = gen_idx_up + gen_idx_low\n",
    "\n",
    "# print system info\n",
    "print('Test case: ', filename)\n",
    "print('Number of buses: ', n_bus)\n",
    "print('Number of lines: ', n_line)\n",
    "print('Number of loads: ', n_load)\n",
    "print('Number of samples: ', n_sample)\n"
   ]
  },
  {
   "cell_type": "markdown",
   "metadata": {},
   "source": [
    "# 1.3 EDA"
   ]
  },
  {
   "cell_type": "markdown",
   "metadata": {},
   "source": [
    "## Load Data"
   ]
  },
  {
   "cell_type": "code",
   "execution_count": 6,
   "metadata": {},
   "outputs": [
    {
     "output_type": "execute_result",
     "data": {
      "text/plain": "array([[ -30.35 ,    5.065, -256.29 , ..., -153.49 , -197.61 ,  -67.972],\n       [ -63.506, -255.7  ,   14.373, ..., -211.23 ,  -48.056, -154.33 ],\n       [-490.88 , -446.79 , -105.88 , ...,  -68.421,  -83.383, -178.69 ],\n       ...,\n       [  -0.   ,   -0.   ,   -0.   , ...,   -0.   ,   -0.   ,   -0.   ],\n       [   0.   ,    0.   ,    0.   , ...,    0.   ,    0.   ,    0.   ],\n       [   0.   ,    0.   ,    0.   , ...,    0.   ,    0.   ,    0.   ]])"
     },
     "metadata": {},
     "execution_count": 6
    }
   ],
   "source": [
    "load_data0"
   ]
  },
  {
   "cell_type": "code",
   "execution_count": 7,
   "metadata": {},
   "outputs": [
    {
     "output_type": "execute_result",
     "data": {
      "text/plain": "            0         1        2         3         4         5        6   \\\n0     -30.3500  -63.5060 -490.880  -73.7800  -87.3940  -31.7740 -266.970   \n1       5.0650 -255.7000 -446.790  -76.2070    5.2193  -67.6450  -62.836   \n2    -256.2900   14.3730 -105.880    9.8036 -183.3600  -78.8720 -116.520   \n3    -195.9100   -7.9061  -21.591  -35.5970 -193.3900  -13.0630 -179.410   \n4      -5.7108   -1.9999 -230.930  -35.2530 -148.0900   -4.1539 -296.200   \n...        ...       ...      ...       ...       ...       ...      ...   \n6178 -150.6200 -221.5000  -68.936 -171.6100 -177.8800   17.4640 -181.830   \n6179   10.6830 -105.9700 -293.430 -210.0500  -30.9880  -11.1690 -221.440   \n6180 -153.4900 -211.2300  -68.421 -133.0500  -82.2310 -114.5500 -117.090   \n6181 -197.6100  -48.0560  -83.383  -70.7830  -65.7330    7.6154  -18.000   \n6182  -67.9720 -154.3300 -178.690 -214.3500  -83.6070   12.0640 -359.200   \n\n           7         8         9   ...   24   25   26   27   28   29   30  \\\n0     -39.866  -82.6070 -165.3300  ... -0.0 -0.0 -0.0 -0.0 -0.0 -0.0 -0.0   \n1    -237.730  -72.2040   12.6940  ... -0.0 -0.0 -0.0 -0.0 -0.0 -0.0 -0.0   \n2    -357.890 -111.2900 -153.2400  ... -0.0 -0.0 -0.0 -0.0 -0.0 -0.0 -0.0   \n3     -36.190   -1.9161 -243.1100  ... -0.0 -0.0 -0.0 -0.0 -0.0 -0.0 -0.0   \n4     -53.374 -380.3200   -6.8886  ... -0.0 -0.0 -0.0 -0.0 -0.0 -0.0 -0.0   \n...       ...       ...       ...  ...  ...  ...  ...  ...  ...  ...  ...   \n6178 -275.370 -293.8000 -112.1500  ... -0.0 -0.0 -0.0 -0.0 -0.0 -0.0 -0.0   \n6179 -240.540  -77.4610  -63.1020  ... -0.0 -0.0 -0.0 -0.0 -0.0 -0.0 -0.0   \n6180 -262.190  -97.6670  -82.5620  ... -0.0 -0.0 -0.0 -0.0 -0.0 -0.0 -0.0   \n6181  -86.311 -254.0200 -113.9200  ... -0.0 -0.0 -0.0 -0.0 -0.0 -0.0 -0.0   \n6182 -219.900  -48.8010 -243.0300  ... -0.0 -0.0 -0.0 -0.0 -0.0 -0.0 -0.0   \n\n       31   32   33  \n0    -0.0  0.0  0.0  \n1    -0.0  0.0  0.0  \n2    -0.0  0.0  0.0  \n3    -0.0  0.0  0.0  \n4    -0.0  0.0  0.0  \n...   ...  ...  ...  \n6178 -0.0  0.0  0.0  \n6179 -0.0  0.0  0.0  \n6180 -0.0  0.0  0.0  \n6181 -0.0  0.0  0.0  \n6182 -0.0  0.0  0.0  \n\n[6183 rows x 34 columns]",
      "text/html": "<div>\n<style scoped>\n    .dataframe tbody tr th:only-of-type {\n        vertical-align: middle;\n    }\n\n    .dataframe tbody tr th {\n        vertical-align: top;\n    }\n\n    .dataframe thead th {\n        text-align: right;\n    }\n</style>\n<table border=\"1\" class=\"dataframe\">\n  <thead>\n    <tr style=\"text-align: right;\">\n      <th></th>\n      <th>0</th>\n      <th>1</th>\n      <th>2</th>\n      <th>3</th>\n      <th>4</th>\n      <th>5</th>\n      <th>6</th>\n      <th>7</th>\n      <th>8</th>\n      <th>9</th>\n      <th>...</th>\n      <th>24</th>\n      <th>25</th>\n      <th>26</th>\n      <th>27</th>\n      <th>28</th>\n      <th>29</th>\n      <th>30</th>\n      <th>31</th>\n      <th>32</th>\n      <th>33</th>\n    </tr>\n  </thead>\n  <tbody>\n    <tr>\n      <th>0</th>\n      <td>-30.3500</td>\n      <td>-63.5060</td>\n      <td>-490.880</td>\n      <td>-73.7800</td>\n      <td>-87.3940</td>\n      <td>-31.7740</td>\n      <td>-266.970</td>\n      <td>-39.866</td>\n      <td>-82.6070</td>\n      <td>-165.3300</td>\n      <td>...</td>\n      <td>-0.0</td>\n      <td>-0.0</td>\n      <td>-0.0</td>\n      <td>-0.0</td>\n      <td>-0.0</td>\n      <td>-0.0</td>\n      <td>-0.0</td>\n      <td>-0.0</td>\n      <td>0.0</td>\n      <td>0.0</td>\n    </tr>\n    <tr>\n      <th>1</th>\n      <td>5.0650</td>\n      <td>-255.7000</td>\n      <td>-446.790</td>\n      <td>-76.2070</td>\n      <td>5.2193</td>\n      <td>-67.6450</td>\n      <td>-62.836</td>\n      <td>-237.730</td>\n      <td>-72.2040</td>\n      <td>12.6940</td>\n      <td>...</td>\n      <td>-0.0</td>\n      <td>-0.0</td>\n      <td>-0.0</td>\n      <td>-0.0</td>\n      <td>-0.0</td>\n      <td>-0.0</td>\n      <td>-0.0</td>\n      <td>-0.0</td>\n      <td>0.0</td>\n      <td>0.0</td>\n    </tr>\n    <tr>\n      <th>2</th>\n      <td>-256.2900</td>\n      <td>14.3730</td>\n      <td>-105.880</td>\n      <td>9.8036</td>\n      <td>-183.3600</td>\n      <td>-78.8720</td>\n      <td>-116.520</td>\n      <td>-357.890</td>\n      <td>-111.2900</td>\n      <td>-153.2400</td>\n      <td>...</td>\n      <td>-0.0</td>\n      <td>-0.0</td>\n      <td>-0.0</td>\n      <td>-0.0</td>\n      <td>-0.0</td>\n      <td>-0.0</td>\n      <td>-0.0</td>\n      <td>-0.0</td>\n      <td>0.0</td>\n      <td>0.0</td>\n    </tr>\n    <tr>\n      <th>3</th>\n      <td>-195.9100</td>\n      <td>-7.9061</td>\n      <td>-21.591</td>\n      <td>-35.5970</td>\n      <td>-193.3900</td>\n      <td>-13.0630</td>\n      <td>-179.410</td>\n      <td>-36.190</td>\n      <td>-1.9161</td>\n      <td>-243.1100</td>\n      <td>...</td>\n      <td>-0.0</td>\n      <td>-0.0</td>\n      <td>-0.0</td>\n      <td>-0.0</td>\n      <td>-0.0</td>\n      <td>-0.0</td>\n      <td>-0.0</td>\n      <td>-0.0</td>\n      <td>0.0</td>\n      <td>0.0</td>\n    </tr>\n    <tr>\n      <th>4</th>\n      <td>-5.7108</td>\n      <td>-1.9999</td>\n      <td>-230.930</td>\n      <td>-35.2530</td>\n      <td>-148.0900</td>\n      <td>-4.1539</td>\n      <td>-296.200</td>\n      <td>-53.374</td>\n      <td>-380.3200</td>\n      <td>-6.8886</td>\n      <td>...</td>\n      <td>-0.0</td>\n      <td>-0.0</td>\n      <td>-0.0</td>\n      <td>-0.0</td>\n      <td>-0.0</td>\n      <td>-0.0</td>\n      <td>-0.0</td>\n      <td>-0.0</td>\n      <td>0.0</td>\n      <td>0.0</td>\n    </tr>\n    <tr>\n      <th>...</th>\n      <td>...</td>\n      <td>...</td>\n      <td>...</td>\n      <td>...</td>\n      <td>...</td>\n      <td>...</td>\n      <td>...</td>\n      <td>...</td>\n      <td>...</td>\n      <td>...</td>\n      <td>...</td>\n      <td>...</td>\n      <td>...</td>\n      <td>...</td>\n      <td>...</td>\n      <td>...</td>\n      <td>...</td>\n      <td>...</td>\n      <td>...</td>\n      <td>...</td>\n      <td>...</td>\n    </tr>\n    <tr>\n      <th>6178</th>\n      <td>-150.6200</td>\n      <td>-221.5000</td>\n      <td>-68.936</td>\n      <td>-171.6100</td>\n      <td>-177.8800</td>\n      <td>17.4640</td>\n      <td>-181.830</td>\n      <td>-275.370</td>\n      <td>-293.8000</td>\n      <td>-112.1500</td>\n      <td>...</td>\n      <td>-0.0</td>\n      <td>-0.0</td>\n      <td>-0.0</td>\n      <td>-0.0</td>\n      <td>-0.0</td>\n      <td>-0.0</td>\n      <td>-0.0</td>\n      <td>-0.0</td>\n      <td>0.0</td>\n      <td>0.0</td>\n    </tr>\n    <tr>\n      <th>6179</th>\n      <td>10.6830</td>\n      <td>-105.9700</td>\n      <td>-293.430</td>\n      <td>-210.0500</td>\n      <td>-30.9880</td>\n      <td>-11.1690</td>\n      <td>-221.440</td>\n      <td>-240.540</td>\n      <td>-77.4610</td>\n      <td>-63.1020</td>\n      <td>...</td>\n      <td>-0.0</td>\n      <td>-0.0</td>\n      <td>-0.0</td>\n      <td>-0.0</td>\n      <td>-0.0</td>\n      <td>-0.0</td>\n      <td>-0.0</td>\n      <td>-0.0</td>\n      <td>0.0</td>\n      <td>0.0</td>\n    </tr>\n    <tr>\n      <th>6180</th>\n      <td>-153.4900</td>\n      <td>-211.2300</td>\n      <td>-68.421</td>\n      <td>-133.0500</td>\n      <td>-82.2310</td>\n      <td>-114.5500</td>\n      <td>-117.090</td>\n      <td>-262.190</td>\n      <td>-97.6670</td>\n      <td>-82.5620</td>\n      <td>...</td>\n      <td>-0.0</td>\n      <td>-0.0</td>\n      <td>-0.0</td>\n      <td>-0.0</td>\n      <td>-0.0</td>\n      <td>-0.0</td>\n      <td>-0.0</td>\n      <td>-0.0</td>\n      <td>0.0</td>\n      <td>0.0</td>\n    </tr>\n    <tr>\n      <th>6181</th>\n      <td>-197.6100</td>\n      <td>-48.0560</td>\n      <td>-83.383</td>\n      <td>-70.7830</td>\n      <td>-65.7330</td>\n      <td>7.6154</td>\n      <td>-18.000</td>\n      <td>-86.311</td>\n      <td>-254.0200</td>\n      <td>-113.9200</td>\n      <td>...</td>\n      <td>-0.0</td>\n      <td>-0.0</td>\n      <td>-0.0</td>\n      <td>-0.0</td>\n      <td>-0.0</td>\n      <td>-0.0</td>\n      <td>-0.0</td>\n      <td>-0.0</td>\n      <td>0.0</td>\n      <td>0.0</td>\n    </tr>\n    <tr>\n      <th>6182</th>\n      <td>-67.9720</td>\n      <td>-154.3300</td>\n      <td>-178.690</td>\n      <td>-214.3500</td>\n      <td>-83.6070</td>\n      <td>12.0640</td>\n      <td>-359.200</td>\n      <td>-219.900</td>\n      <td>-48.8010</td>\n      <td>-243.0300</td>\n      <td>...</td>\n      <td>-0.0</td>\n      <td>-0.0</td>\n      <td>-0.0</td>\n      <td>-0.0</td>\n      <td>-0.0</td>\n      <td>-0.0</td>\n      <td>-0.0</td>\n      <td>-0.0</td>\n      <td>0.0</td>\n      <td>0.0</td>\n    </tr>\n  </tbody>\n</table>\n<p>6183 rows × 34 columns</p>\n</div>"
     },
     "metadata": {},
     "execution_count": 7
    }
   ],
   "source": [
    "load_data_df = pd.DataFrame(np.transpose(load_data0))\n",
    "load_data_df"
   ]
  },
  {
   "cell_type": "code",
   "execution_count": null,
   "metadata": {},
   "outputs": [],
   "source": []
  },
  {
   "cell_type": "code",
   "execution_count": null,
   "metadata": {},
   "outputs": [],
   "source": []
  },
  {
   "cell_type": "code",
   "execution_count": null,
   "metadata": {},
   "outputs": [],
   "source": []
  },
  {
   "cell_type": "markdown",
   "metadata": {},
   "source": [
    "## Gen Data"
   ]
  },
  {
   "cell_type": "code",
   "execution_count": 8,
   "metadata": {},
   "outputs": [
    {
     "output_type": "execute_result",
     "data": {
      "text/plain": "array([0.9382716 , 0.75270062, 0.99868827, ..., 0.9382716 , 0.        ,\n       0.95671296])"
     },
     "metadata": {},
     "execution_count": 8
    }
   ],
   "source": [
    "y0[0]"
   ]
  },
  {
   "cell_type": "code",
   "execution_count": 9,
   "metadata": {},
   "outputs": [
    {
     "output_type": "execute_result",
     "data": {
      "text/plain": "            0         1    2    3    4    5         6    7    8    9   ...  \\\n0     0.938272  0.938272  0.0  0.0  0.0  0.0  0.452311  0.0  0.0  0.0  ...   \n1     0.752701  0.752701  0.0  0.0  0.0  0.0  0.000000  0.0  0.0  0.0  ...   \n2     0.998688  1.000000  0.0  0.0  0.0  0.0  0.962311  0.0  0.0  0.0  ...   \n3     0.000000  0.000000  0.0  0.0  0.0  0.0  0.000000  0.0  0.0  0.0  ...   \n4     0.938272  0.938272  0.0  0.0  0.0  0.0  0.559822  0.0  0.0  0.0  ...   \n...        ...       ...  ...  ...  ...  ...       ...  ...  ...  ...  ...   \n6178  0.938272  0.938272  0.0  0.0  0.0  0.0  0.741956  0.0  0.0  0.0  ...   \n6179  0.938272  0.938272  0.0  0.0  0.0  0.0  1.000000  0.0  0.0  0.0  ...   \n6180  0.938272  0.938272  0.0  0.0  0.0  0.0  0.795644  0.0  0.0  0.0  ...   \n6181  0.000000  0.000000  0.0  0.0  0.0  0.0  0.000000  0.0  0.0  0.0  ...   \n6182  0.956713  1.000000  0.0  0.0  0.0  0.0  1.000000  0.0  0.0  0.0  ...   \n\n            14        15   16        17   18   19   20   21        22   23  \n0     0.677202  1.000000  0.0  1.000000  0.0  0.0  1.0  1.0  1.000000  0.0  \n1     0.677202  1.000000  0.0  1.000000  0.0  0.0  1.0  1.0  1.000000  0.0  \n2     0.000000  0.000000  0.0  0.228033  0.0  0.0  1.0  1.0  1.000000  0.0  \n3     0.646873  0.955214  0.0  1.000000  0.0  0.0  1.0  1.0  0.884492  0.0  \n4     0.677202  1.000000  0.0  1.000000  0.0  0.0  1.0  1.0  1.000000  0.0  \n...        ...       ...  ...       ...  ...  ...  ...  ...       ...  ...  \n6178  0.677202  1.000000  0.0  1.000000  0.0  0.0  1.0  1.0  1.000000  0.0  \n6179  0.912643  1.000000  0.0  1.000000  0.0  0.0  1.0  1.0  1.000000  0.0  \n6180  0.677202  0.542006  0.0  1.000000  0.0  0.0  1.0  1.0  1.000000  0.0  \n6181  0.577606  0.852929  0.0  1.000000  0.0  0.0  1.0  1.0  0.791760  0.0  \n6182  0.959247  1.000000  0.0  0.828733  0.0  0.0  1.0  1.0  1.000000  0.0  \n\n[6183 rows x 24 columns]",
      "text/html": "<div>\n<style scoped>\n    .dataframe tbody tr th:only-of-type {\n        vertical-align: middle;\n    }\n\n    .dataframe tbody tr th {\n        vertical-align: top;\n    }\n\n    .dataframe thead th {\n        text-align: right;\n    }\n</style>\n<table border=\"1\" class=\"dataframe\">\n  <thead>\n    <tr style=\"text-align: right;\">\n      <th></th>\n      <th>0</th>\n      <th>1</th>\n      <th>2</th>\n      <th>3</th>\n      <th>4</th>\n      <th>5</th>\n      <th>6</th>\n      <th>7</th>\n      <th>8</th>\n      <th>9</th>\n      <th>...</th>\n      <th>14</th>\n      <th>15</th>\n      <th>16</th>\n      <th>17</th>\n      <th>18</th>\n      <th>19</th>\n      <th>20</th>\n      <th>21</th>\n      <th>22</th>\n      <th>23</th>\n    </tr>\n  </thead>\n  <tbody>\n    <tr>\n      <th>0</th>\n      <td>0.938272</td>\n      <td>0.938272</td>\n      <td>0.0</td>\n      <td>0.0</td>\n      <td>0.0</td>\n      <td>0.0</td>\n      <td>0.452311</td>\n      <td>0.0</td>\n      <td>0.0</td>\n      <td>0.0</td>\n      <td>...</td>\n      <td>0.677202</td>\n      <td>1.000000</td>\n      <td>0.0</td>\n      <td>1.000000</td>\n      <td>0.0</td>\n      <td>0.0</td>\n      <td>1.0</td>\n      <td>1.0</td>\n      <td>1.000000</td>\n      <td>0.0</td>\n    </tr>\n    <tr>\n      <th>1</th>\n      <td>0.752701</td>\n      <td>0.752701</td>\n      <td>0.0</td>\n      <td>0.0</td>\n      <td>0.0</td>\n      <td>0.0</td>\n      <td>0.000000</td>\n      <td>0.0</td>\n      <td>0.0</td>\n      <td>0.0</td>\n      <td>...</td>\n      <td>0.677202</td>\n      <td>1.000000</td>\n      <td>0.0</td>\n      <td>1.000000</td>\n      <td>0.0</td>\n      <td>0.0</td>\n      <td>1.0</td>\n      <td>1.0</td>\n      <td>1.000000</td>\n      <td>0.0</td>\n    </tr>\n    <tr>\n      <th>2</th>\n      <td>0.998688</td>\n      <td>1.000000</td>\n      <td>0.0</td>\n      <td>0.0</td>\n      <td>0.0</td>\n      <td>0.0</td>\n      <td>0.962311</td>\n      <td>0.0</td>\n      <td>0.0</td>\n      <td>0.0</td>\n      <td>...</td>\n      <td>0.000000</td>\n      <td>0.000000</td>\n      <td>0.0</td>\n      <td>0.228033</td>\n      <td>0.0</td>\n      <td>0.0</td>\n      <td>1.0</td>\n      <td>1.0</td>\n      <td>1.000000</td>\n      <td>0.0</td>\n    </tr>\n    <tr>\n      <th>3</th>\n      <td>0.000000</td>\n      <td>0.000000</td>\n      <td>0.0</td>\n      <td>0.0</td>\n      <td>0.0</td>\n      <td>0.0</td>\n      <td>0.000000</td>\n      <td>0.0</td>\n      <td>0.0</td>\n      <td>0.0</td>\n      <td>...</td>\n      <td>0.646873</td>\n      <td>0.955214</td>\n      <td>0.0</td>\n      <td>1.000000</td>\n      <td>0.0</td>\n      <td>0.0</td>\n      <td>1.0</td>\n      <td>1.0</td>\n      <td>0.884492</td>\n      <td>0.0</td>\n    </tr>\n    <tr>\n      <th>4</th>\n      <td>0.938272</td>\n      <td>0.938272</td>\n      <td>0.0</td>\n      <td>0.0</td>\n      <td>0.0</td>\n      <td>0.0</td>\n      <td>0.559822</td>\n      <td>0.0</td>\n      <td>0.0</td>\n      <td>0.0</td>\n      <td>...</td>\n      <td>0.677202</td>\n      <td>1.000000</td>\n      <td>0.0</td>\n      <td>1.000000</td>\n      <td>0.0</td>\n      <td>0.0</td>\n      <td>1.0</td>\n      <td>1.0</td>\n      <td>1.000000</td>\n      <td>0.0</td>\n    </tr>\n    <tr>\n      <th>...</th>\n      <td>...</td>\n      <td>...</td>\n      <td>...</td>\n      <td>...</td>\n      <td>...</td>\n      <td>...</td>\n      <td>...</td>\n      <td>...</td>\n      <td>...</td>\n      <td>...</td>\n      <td>...</td>\n      <td>...</td>\n      <td>...</td>\n      <td>...</td>\n      <td>...</td>\n      <td>...</td>\n      <td>...</td>\n      <td>...</td>\n      <td>...</td>\n      <td>...</td>\n      <td>...</td>\n    </tr>\n    <tr>\n      <th>6178</th>\n      <td>0.938272</td>\n      <td>0.938272</td>\n      <td>0.0</td>\n      <td>0.0</td>\n      <td>0.0</td>\n      <td>0.0</td>\n      <td>0.741956</td>\n      <td>0.0</td>\n      <td>0.0</td>\n      <td>0.0</td>\n      <td>...</td>\n      <td>0.677202</td>\n      <td>1.000000</td>\n      <td>0.0</td>\n      <td>1.000000</td>\n      <td>0.0</td>\n      <td>0.0</td>\n      <td>1.0</td>\n      <td>1.0</td>\n      <td>1.000000</td>\n      <td>0.0</td>\n    </tr>\n    <tr>\n      <th>6179</th>\n      <td>0.938272</td>\n      <td>0.938272</td>\n      <td>0.0</td>\n      <td>0.0</td>\n      <td>0.0</td>\n      <td>0.0</td>\n      <td>1.000000</td>\n      <td>0.0</td>\n      <td>0.0</td>\n      <td>0.0</td>\n      <td>...</td>\n      <td>0.912643</td>\n      <td>1.000000</td>\n      <td>0.0</td>\n      <td>1.000000</td>\n      <td>0.0</td>\n      <td>0.0</td>\n      <td>1.0</td>\n      <td>1.0</td>\n      <td>1.000000</td>\n      <td>0.0</td>\n    </tr>\n    <tr>\n      <th>6180</th>\n      <td>0.938272</td>\n      <td>0.938272</td>\n      <td>0.0</td>\n      <td>0.0</td>\n      <td>0.0</td>\n      <td>0.0</td>\n      <td>0.795644</td>\n      <td>0.0</td>\n      <td>0.0</td>\n      <td>0.0</td>\n      <td>...</td>\n      <td>0.677202</td>\n      <td>0.542006</td>\n      <td>0.0</td>\n      <td>1.000000</td>\n      <td>0.0</td>\n      <td>0.0</td>\n      <td>1.0</td>\n      <td>1.0</td>\n      <td>1.000000</td>\n      <td>0.0</td>\n    </tr>\n    <tr>\n      <th>6181</th>\n      <td>0.000000</td>\n      <td>0.000000</td>\n      <td>0.0</td>\n      <td>0.0</td>\n      <td>0.0</td>\n      <td>0.0</td>\n      <td>0.000000</td>\n      <td>0.0</td>\n      <td>0.0</td>\n      <td>0.0</td>\n      <td>...</td>\n      <td>0.577606</td>\n      <td>0.852929</td>\n      <td>0.0</td>\n      <td>1.000000</td>\n      <td>0.0</td>\n      <td>0.0</td>\n      <td>1.0</td>\n      <td>1.0</td>\n      <td>0.791760</td>\n      <td>0.0</td>\n    </tr>\n    <tr>\n      <th>6182</th>\n      <td>0.956713</td>\n      <td>1.000000</td>\n      <td>0.0</td>\n      <td>0.0</td>\n      <td>0.0</td>\n      <td>0.0</td>\n      <td>1.000000</td>\n      <td>0.0</td>\n      <td>0.0</td>\n      <td>0.0</td>\n      <td>...</td>\n      <td>0.959247</td>\n      <td>1.000000</td>\n      <td>0.0</td>\n      <td>0.828733</td>\n      <td>0.0</td>\n      <td>0.0</td>\n      <td>1.0</td>\n      <td>1.0</td>\n      <td>1.000000</td>\n      <td>0.0</td>\n    </tr>\n  </tbody>\n</table>\n<p>6183 rows × 24 columns</p>\n</div>"
     },
     "metadata": {},
     "execution_count": 9
    }
   ],
   "source": [
    "gen_data_df = pd.DataFrame(np.transpose(y0))\n",
    "gen_data_df"
   ]
  },
  {
   "cell_type": "code",
   "execution_count": null,
   "metadata": {},
   "outputs": [],
   "source": []
  },
  {
   "cell_type": "code",
   "execution_count": null,
   "metadata": {},
   "outputs": [],
   "source": []
  },
  {
   "cell_type": "code",
   "execution_count": null,
   "metadata": {},
   "outputs": [],
   "source": []
  },
  {
   "cell_type": "code",
   "execution_count": null,
   "metadata": {},
   "outputs": [],
   "source": []
  },
  {
   "cell_type": "code",
   "execution_count": null,
   "metadata": {},
   "outputs": [],
   "source": []
  },
  {
   "cell_type": "code",
   "execution_count": null,
   "metadata": {},
   "outputs": [],
   "source": []
  },
  {
   "cell_type": "markdown",
   "metadata": {
    "colab_type": "text",
    "id": "eOjKm_RBoCCA"
   },
   "source": [
    "# 2. Creating a graph in DGL\n",
    "* Generate and visualize the DGL graph"
   ]
  },
  {
   "cell_type": "code",
   "execution_count": 10,
   "metadata": {
    "colab": {},
    "colab_type": "code",
    "executionInfo": {
     "elapsed": 708,
     "status": "ok",
     "timestamp": 1599495162760,
     "user": {
      "displayName": "Jeehyun Park",
      "photoUrl": "https://lh3.googleusercontent.com/a-/AOh14GizNw5DW2QVCa5vUMiz0MiTNIYXIkGzaDCp0Es2=s64",
      "userId": "14458427846939093236"
     },
     "user_tz": 300
    },
    "id": "NxaGvjWGoCEH"
   },
   "outputs": [],
   "source": [
    "def build_system_graph(src, dst):\n",
    "    # Edges are directional in DGL; Make them bi-directional.\n",
    "    # Matlab counts from 1 and python from 0\n",
    "    u = np.concatenate([src, dst]) - 1\n",
    "    v = np.concatenate([dst, src]) - 1\n",
    "    # Construct a DGLGraph\n",
    "    return dgl.DGLGraph((u, v))"
   ]
  },
  {
   "cell_type": "code",
   "execution_count": 11,
   "metadata": {
    "colab": {
     "base_uri": "https://localhost:8080/",
     "height": 85
    },
    "colab_type": "code",
    "executionInfo": {
     "elapsed": 365,
     "status": "ok",
     "timestamp": 1599495163662,
     "user": {
      "displayName": "Jeehyun Park",
      "photoUrl": "https://lh3.googleusercontent.com/a-/AOh14GizNw5DW2QVCa5vUMiz0MiTNIYXIkGzaDCp0Es2=s64",
      "userId": "14458427846939093236"
     },
     "user_tz": 300
    },
    "id": "H3zws2wBoCEd",
    "outputId": "7710c6dc-932e-40f1-b648-eca13c837273",
    "tags": []
   },
   "outputs": [
    {
     "output_type": "stream",
     "name": "stdout",
     "text": "- variable type: <class 'dgl.heterograph.DGLHeteroGraph'>\n- device: cpu\n- node num: 24\n- edge num: 68\n"
    }
   ],
   "source": [
    "line_src = line_bus[:,0].copy().astype(int)\n",
    "line_dst = line_bus[:,1].copy().astype(int)\n",
    "\n",
    "G = build_system_graph(line_src,line_dst)\n",
    "\n",
    "# check G's properties\n",
    "print(\"- variable type: {}\".format(type(G)))\n",
    "print(\"- device: {}\".format(G.device))\n",
    "print('- node num: {}'.format(G.number_of_nodes()))\n",
    "print('- edge num: {}'.format(G.number_of_edges()))\n",
    "\n",
    "# import networkx as nx\n",
    "# Since the actual graph is undirected, we convert it for visualization\n",
    "# purpose.\n",
    "# nx_G = G.to_networkx().to_undirected()\n",
    "# # Kamada-Kawaii layout usually looks pretty for arbitrary graphs\n",
    "# pos = nx.kamada_kawai_layout(nx_G)\n",
    "# nx.draw(nx_G, pos, with_labels=True, node_color=[[.7, .7, .7]])"
   ]
  },
  {
   "cell_type": "code",
   "execution_count": null,
   "metadata": {},
   "outputs": [],
   "source": []
  },
  {
   "cell_type": "markdown",
   "metadata": {
    "colab_type": "text",
    "id": "HLmJ64bCoCFJ"
   },
   "source": [
    "# 3. Assign features to nodes, edges\n",
    "\n",
    "e.g.: Graph neural networks associate features with nodes and edges for training.\n",
    "\n",
    "* In our case, inputs on nodes, features on egdes\n"
   ]
  },
  {
   "cell_type": "code",
   "execution_count": 12,
   "metadata": {
    "colab": {},
    "colab_type": "code",
    "executionInfo": {
     "elapsed": 308,
     "status": "ok",
     "timestamp": 1599495166537,
     "user": {
      "displayName": "Jeehyun Park",
      "photoUrl": "https://lh3.googleusercontent.com/a-/AOh14GizNw5DW2QVCa5vUMiz0MiTNIYXIkGzaDCp0Es2=s64",
      "userId": "14458427846939093236"
     },
     "user_tz": 300
    },
    "id": "7xqplmGwoCFe"
   },
   "outputs": [],
   "source": [
    "# # In DGL, you can add features for all nodes at once, using a feature tensor that\n",
    "# # batches node features along the first dimension. The code below adds the learnable\n",
    "# # embeddings for all nodes:\n",
    "\n",
    "# embed_feature = 10\n",
    "# embed = nn.Embedding(G.number_of_edges(), embed_feature)  \n",
    "# # 68 edges with embedding dim equal to 10 for edge classification\n",
    "# G.edata['feat'] = embed.weight"
   ]
  },
  {
   "cell_type": "markdown",
   "metadata": {
    "colab_type": "text",
    "id": "eHOzg-9PoCF3"
   },
   "source": [
    "# 4. Define a Graph Convolutional Network (GCN) and Train the model\n",
    "\n",
    "To perform node classification, use the Graph Convolutional Network\n",
    "(GCN) developed by `Kipf and Welling <https://arxiv.org/abs/1609.02907>`_. Here\n",
    "is the simplest definition of a GCN framework. We recommend that you \n",
    "read the original paper for more details.\n",
    "\n",
    "- At layer $l$, each node $v_i^l$ carries a feature vector $h_i^l$.\n",
    "- Each layer of the GCN tries to aggregate the features from $u_i^{l}$ where\n",
    "  $u_i$'s are neighborhood nodes to $v$ into the next layer representation at\n",
    "  $v_i^{l+1}$. This is followed by an affine transformation with some\n",
    "  non-linearity.\n",
    "\n",
    " **In this project we use weighted graph convolution and weights are \n",
    "learned during the trainning process.**\n",
    "\n",
    "The above definition of GCN fits into a **message-passing** paradigm: Each\n",
    "node will update its own feature with information sent from neighboring\n",
    "nodes. A graphical demonstration is displayed below.\n",
    "\n",
    "\n",
    "In DGL, we provide implementations of popular Graph Neural Network layers under\n",
    "the `dgl.<backend>.nn` subpackage. The :class:`~dgl.nn.pytorch.GraphConv` module\n",
    "implements one Graph Convolutional layer."
   ]
  },
  {
   "cell_type": "markdown",
   "metadata": {
    "colab_type": "text",
    "id": "eBIgnqqtoCGB"
   },
   "source": [
    "**In our case, we want to perform edge classification based on feature inputs from nodes.**\n",
    "* Thus we need to redesign the GNN to map the features from node to deges\n",
    "* Define a deeper GCN model that contains two GCN layers:\n",
    "\n",
    "We first try convolutions on the nodes first then map to edges then try mapping to edges first then do convolutions on edges"
   ]
  },
  {
   "cell_type": "code",
   "execution_count": 13,
   "metadata": {
    "ExecuteTime": {
     "end_time": "2020-09-23T23:46:13.428662Z",
     "start_time": "2020-09-23T23:46:13.261516Z"
    },
    "colab": {},
    "colab_type": "code",
    "executionInfo": {
     "elapsed": 361,
     "status": "ok",
     "timestamp": 1599495170106,
     "user": {
      "displayName": "Jeehyun Park",
      "photoUrl": "https://lh3.googleusercontent.com/a-/AOh14GizNw5DW2QVCa5vUMiz0MiTNIYXIkGzaDCp0Es2=s64",
      "userId": "14458427846939093236"
     },
     "user_tz": 300
    },
    "id": "J2fkZxWsoCGP"
   },
   "outputs": [],
   "source": [
    "# One layer Graph convolution from nodes to edges\n",
    "class Graph_convolution_v2e(nn.Module):\n",
    "    def __init__(self, in_features, out_features, W, bias=True):\n",
    "        super(Graph_convolution_v2e, self).__init__()\n",
    "        #         self.Weight=nn.Parameter(torch.Tensor(W))\n",
    "        #         self.Weight=nn.Parameter(torch.from_numpy(W))\n",
    "        self.register_buffer(\"w\", torch.from_numpy(W).float())\n",
    "        #         for temp in self.Weight:\n",
    "        #             temp.requires_grad=False\n",
    "        #         self.Weight = self.Weight.detach()\n",
    "        self.scale = nn.Parameter(torch.Tensor(out_features, 1))\n",
    "        self.bias = nn.Parameter(torch.Tensor(out_features, 1))\n",
    "\n",
    "    def forward(self, input):\n",
    "        # print(input.shape)\n",
    "        # print(self.scale.shape)\n",
    "        h = torch.matmul(Variable(self.w), input)\n",
    "        return torch.mul(h, self.scale) + self.bias\n",
    "\n",
    "\n",
    "# Need to change that to our case: 2 networks, one node clustering (or double it as in the reference),\n",
    "# one node to edge.\n",
    "\n",
    "# Set dummy bus signals as zero\n",
    "# Q. why ???\n",
    "I_bus = np.identity(n_bus)\n",
    "idx = [2, 3, 4, 5, 7, 8, 9, 10, 11, 16, 18, 19, 23]\n",
    "for i in range(len(idx)):\n",
    "    I_bus[idx, idx] = 0\n",
    "I_bus = torch.from_numpy(I_bus).float()\n",
    "\n",
    "# GNN using DGL v2v graph convolution and our own v2e graph convolution\n",
    "class GCN(nn.Module):\n",
    "    def __init__(self, in_feats, hidden_size, num_nodes):\n",
    "        super(GCN, self).__init__()\n",
    "        self.conv1 = GraphConv(\n",
    "            in_feats,\n",
    "            hidden_size[0],\n",
    "            norm=\"both\",\n",
    "            weight=True,\n",
    "            bias=True,\n",
    "            activation=None,\n",
    "        )\n",
    "        # norm='both', weight=True, bias=True, activation=None\n",
    "        self.conv2 = GraphConv(\n",
    "            hidden_size[0],\n",
    "            hidden_size[1],\n",
    "            norm=\"both\",\n",
    "            weight=True,\n",
    "            bias=True,\n",
    "            activation=None,\n",
    "        )\n",
    "        self.conv3 = GraphConv(\n",
    "            hidden_size[1],\n",
    "            hidden_size[2],\n",
    "            norm=\"both\",\n",
    "            weight=True,\n",
    "            bias=True,\n",
    "            activation=None,\n",
    "        )\n",
    "        self.conv4 = GraphConv(\n",
    "            hidden_size[2],\n",
    "            hidden_size[3],\n",
    "            norm=\"both\",\n",
    "            weight=True,\n",
    "            bias=True,\n",
    "            activation=None,\n",
    "        )\n",
    "        self.conv5 = GraphConv(\n",
    "            hidden_size[3],\n",
    "            hidden_size[4],\n",
    "            norm=\"both\",\n",
    "            weight=True,\n",
    "            bias=True,\n",
    "            activation=None,\n",
    "        )\n",
    "        self.conv6 = GraphConv(\n",
    "            hidden_size[4],\n",
    "            hidden_size[5],\n",
    "            norm=\"both\",\n",
    "            weight=True,\n",
    "            bias=True,\n",
    "            activation=None,\n",
    "        )\n",
    "        # self.conv7 = GraphConv(hidden_size[5], hidden_size[6],norm='both', weight=True, bias=True, activation=None)\n",
    "        # self.conv8 = GraphConv(hidden_size[6], hidden_size[7],norm='both', weight=True, bias=True, activation=None)\n",
    "        # self.conv9 = GraphConv(hidden_size[7], hidden_size[8],norm='both', weight=True, bias=True, activation=None)\n",
    "        # self.conv3 = Graph_convolution_v2e(hidden_size[1], num_edges, W)\n",
    "        # self.W = W\n",
    "\n",
    "        self.lin_output = nn.Linear(num_nodes, num_nodes)\n",
    "\n",
    "    def forward(self, g, I, inputs):  # I ???\n",
    "        # g is the graph stored in DGL\n",
    "        # print(g)\n",
    "        # nx_G = g.to_networkx().to_undirected()\n",
    "        # pos = nx.kamada_kawai_layout(nx_G)\n",
    "        # nx.draw(nx_G, pos, with_labels=True, node_color=[[.7, .7, .7]])\n",
    "        # print('inputs data type:', inputs.data.type())\n",
    "        # print(inputs.shape)\n",
    "        h = self.conv1(g, inputs)\n",
    "        # h = torch.sigmoid(h)\n",
    "        # print(h.shape)\n",
    "        h = self.conv2(g, h)\n",
    "        # print(h.shape)\n",
    "        h = torch.sigmoid(h)\n",
    "        # print(h.shape)\n",
    "        h = self.conv3(g, h)\n",
    "        # h = torch.sigmoid(h)\n",
    "        h = self.conv4(g, h)\n",
    "        h = torch.sigmoid(h)\n",
    "        h = self.conv5(g, h)\n",
    "        # h = torch.sigmoid(h)\n",
    "        h = self.conv6(g, h)\n",
    "        h = torch.sigmoid(h)\n",
    "        # h = self.conv7(g, h)\n",
    "        # # h = torch.sigmoid(h)\n",
    "        # h = self.conv8(g, h)\n",
    "        # h = torch.sigmoid(h)\n",
    "        # h = self.conv9(g, h)\n",
    "        # h = torch.sigmoid(h)\n",
    "        # h = self.conv3(h)\n",
    "        # h = torch.matmul(I,h)\n",
    "        h = self.lin_output(h.transpose(0, 1)).transpose(0, 1)\n",
    "        # h = torch.matmul(I,h)\n",
    "        return h\n",
    "\n",
    "\n",
    "# net = GCN_self(n_bus, [10,10], n_line, W, W1)\n",
    "# net = GCN(n_bus, [10,10,10,10,10,10,10,1], n_line, W1)\n",
    "w_params = [40, 80, 80, 80, 80, 1]\n",
    "net = GCN(1, w_params, n_bus)\n"
   ]
  },
  {
   "cell_type": "code",
   "execution_count": 14,
   "metadata": {
    "tags": []
   },
   "outputs": [
    {
     "output_type": "stream",
     "name": "stdout",
     "text": "Network info:GCN(\n  (conv1): GraphConv(in=1, out=40, normalization=both, activation=None)\n  (conv2): GraphConv(in=40, out=80, normalization=both, activation=None)\n  (conv3): GraphConv(in=80, out=80, normalization=both, activation=None)\n  (conv4): GraphConv(in=80, out=80, normalization=both, activation=None)\n  (conv5): GraphConv(in=80, out=80, normalization=both, activation=None)\n  (conv6): GraphConv(in=80, out=1, normalization=both, activation=None)\n  (lin_output): Linear(in_features=24, out_features=24, bias=True)\n)\n\n> WeightParam size: torch.Size([1, 40])\n> Parameter containing:\ntensor([[ 0.3094, -0.1415,  0.0947,  0.1866, -0.0851, -0.1724, -0.1600, -0.0518,\n         -0.0908,  0.2999,  0.1512,  0.0059,  0.3008,  0.1240,  0.0247,  0.1389,\n         -0.1658,  0.2679, -0.1012, -0.3675,  0.3406, -0.0177,  0.2552, -0.2975,\n         -0.3654, -0.2571,  0.1203,  0.2060, -0.3443, -0.1190, -0.2183, -0.0823,\n          0.0544,  0.2827,  0.3364,  0.1204, -0.0618, -0.3111, -0.0066, -0.0996]],\n       requires_grad=True)\n\n> WeightParam size: torch.Size([40])\n> Parameter containing:\ntensor([0., 0., 0., 0., 0., 0., 0., 0., 0., 0., 0., 0., 0., 0., 0., 0., 0., 0., 0., 0., 0., 0., 0., 0.,\n        0., 0., 0., 0., 0., 0., 0., 0., 0., 0., 0., 0., 0., 0., 0., 0.],\n       requires_grad=True)\n\n> WeightParam size: torch.Size([40, 80])\n> Parameter containing:\ntensor([[ 0.1274, -0.1851, -0.0035,  ...,  0.0051, -0.1514, -0.1334],\n        [ 0.0724, -0.1817,  0.2039,  ...,  0.0120,  0.0551, -0.2133],\n        [ 0.0415, -0.0957,  0.0095,  ..., -0.1923,  0.0059, -0.0873],\n        ...,\n        [ 0.1090,  0.0767, -0.1534,  ...,  0.0747, -0.0653, -0.2046],\n        [ 0.1840,  0.0132,  0.2073,  ..., -0.1519,  0.1278, -0.1025],\n        [-0.1796, -0.1468,  0.0925,  ...,  0.1222,  0.0958, -0.0089]],\n       requires_grad=True)\n\n> WeightParam size: torch.Size([80])\n> Parameter containing:\ntensor([0., 0., 0., 0., 0., 0., 0., 0., 0., 0., 0., 0., 0., 0., 0., 0., 0., 0., 0., 0., 0., 0., 0., 0.,\n        0., 0., 0., 0., 0., 0., 0., 0., 0., 0., 0., 0., 0., 0., 0., 0., 0., 0., 0., 0., 0., 0., 0., 0.,\n        0., 0., 0., 0., 0., 0., 0., 0., 0., 0., 0., 0., 0., 0., 0., 0., 0., 0., 0., 0., 0., 0., 0., 0.,\n        0., 0., 0., 0., 0., 0., 0., 0.], requires_grad=True)\n\n> WeightParam size: torch.Size([80, 80])\n> Parameter containing:\ntensor([[ 0.1027,  0.0488, -0.1756,  ..., -0.1402,  0.1799, -0.0649],\n        [-0.1377,  0.0747,  0.1714,  ..., -0.0619,  0.1765, -0.1849],\n        [-0.1905, -0.0544, -0.1916,  ...,  0.0396,  0.0464,  0.1303],\n        ...,\n        [-0.0153,  0.1712,  0.0293,  ..., -0.1114, -0.1612,  0.0306],\n        [-0.0328,  0.0261, -0.0203,  ..., -0.0038, -0.1702,  0.1706],\n        [-0.1410,  0.0677, -0.1874,  ...,  0.1473, -0.0441,  0.0224]],\n       requires_grad=True)\n\n> WeightParam size: torch.Size([80])\n> Parameter containing:\ntensor([0., 0., 0., 0., 0., 0., 0., 0., 0., 0., 0., 0., 0., 0., 0., 0., 0., 0., 0., 0., 0., 0., 0., 0.,\n        0., 0., 0., 0., 0., 0., 0., 0., 0., 0., 0., 0., 0., 0., 0., 0., 0., 0., 0., 0., 0., 0., 0., 0.,\n        0., 0., 0., 0., 0., 0., 0., 0., 0., 0., 0., 0., 0., 0., 0., 0., 0., 0., 0., 0., 0., 0., 0., 0.,\n        0., 0., 0., 0., 0., 0., 0., 0.], requires_grad=True)\n\n> WeightParam size: torch.Size([80, 80])\n> Parameter containing:\ntensor([[ 0.0648,  0.1367, -0.1650,  ...,  0.1782,  0.1354, -0.1149],\n        [ 0.1882, -0.0593,  0.0030,  ..., -0.0806,  0.1597, -0.1785],\n        [ 0.1362,  0.0142,  0.1494,  ..., -0.1490,  0.1913, -0.1613],\n        ...,\n        [-0.1207,  0.1380,  0.1336,  ..., -0.0316, -0.0024, -0.1364],\n        [ 0.1821, -0.1628,  0.1117,  ...,  0.1387, -0.1216,  0.1479],\n        [ 0.0787,  0.0699,  0.1519,  ..., -0.1728,  0.1534,  0.1576]],\n       requires_grad=True)\n\n> WeightParam size: torch.Size([80])\n> Parameter containing:\ntensor([0., 0., 0., 0., 0., 0., 0., 0., 0., 0., 0., 0., 0., 0., 0., 0., 0., 0., 0., 0., 0., 0., 0., 0.,\n        0., 0., 0., 0., 0., 0., 0., 0., 0., 0., 0., 0., 0., 0., 0., 0., 0., 0., 0., 0., 0., 0., 0., 0.,\n        0., 0., 0., 0., 0., 0., 0., 0., 0., 0., 0., 0., 0., 0., 0., 0., 0., 0., 0., 0., 0., 0., 0., 0.,\n        0., 0., 0., 0., 0., 0., 0., 0.], requires_grad=True)\n\n> WeightParam size: torch.Size([80, 80])\n> Parameter containing:\ntensor([[-0.0564,  0.0322, -0.0817,  ..., -0.0921, -0.0374, -0.1122],\n        [-0.0134, -0.1193,  0.0473,  ..., -0.0044,  0.1333,  0.1470],\n        [-0.0763, -0.1710,  0.1349,  ..., -0.1380, -0.0939,  0.0007],\n        ...,\n        [-0.1029, -0.0092, -0.1064,  ..., -0.1773,  0.0583, -0.1680],\n        [-0.0380, -0.1081,  0.1310,  ..., -0.1464, -0.0363,  0.0339],\n        [ 0.1489, -0.1574,  0.1577,  ..., -0.0804,  0.1817,  0.0634]],\n       requires_grad=True)\n\n> WeightParam size: torch.Size([80])\n> Parameter containing:\ntensor([0., 0., 0., 0., 0., 0., 0., 0., 0., 0., 0., 0., 0., 0., 0., 0., 0., 0., 0., 0., 0., 0., 0., 0.,\n        0., 0., 0., 0., 0., 0., 0., 0., 0., 0., 0., 0., 0., 0., 0., 0., 0., 0., 0., 0., 0., 0., 0., 0.,\n        0., 0., 0., 0., 0., 0., 0., 0., 0., 0., 0., 0., 0., 0., 0., 0., 0., 0., 0., 0., 0., 0., 0., 0.,\n        0., 0., 0., 0., 0., 0., 0., 0.], requires_grad=True)\n\n> WeightParam size: torch.Size([80, 1])\n> Parameter containing:\ntensor([[-0.1529],\n        [ 0.2405],\n        [-0.2140],\n        [-0.1011],\n        [ 0.0862],\n        [ 0.1260],\n        [-0.2002],\n        [ 0.0830],\n        [-0.1980],\n        [ 0.0700],\n        [ 0.0267],\n        [-0.0498],\n        [-0.0846],\n        [-0.0791],\n        [ 0.0891],\n        [ 0.1291],\n        [ 0.1850],\n        [ 0.0387],\n        [-0.1461],\n        [-0.0198],\n        [-0.0343],\n        [-0.2418],\n        [-0.0511],\n        [ 0.0153],\n        [ 0.2142],\n        [-0.1159],\n        [-0.1106],\n        [ 0.1277],\n        [ 0.2483],\n        [ 0.1717],\n        [ 0.2717],\n        [-0.0721],\n        [-0.0129],\n        [-0.0554],\n        [-0.1824],\n        [ 0.1650],\n        [ 0.0387],\n        [ 0.0459],\n        [-0.1030],\n        [ 0.2082],\n        [ 0.1667],\n        [ 0.1971],\n        [ 0.1908],\n        [-0.1547],\n        [ 0.1420],\n        [ 0.0204],\n        [ 0.2593],\n        [-0.2405],\n        [-0.0151],\n        [-0.0130],\n        [-0.0381],\n        [ 0.0480],\n        [-0.0669],\n        [ 0.1660],\n        [ 0.0983],\n        [ 0.1326],\n        [-0.0515],\n        [ 0.2403],\n        [ 0.2148],\n        [ 0.2300],\n        [-0.2194],\n        [ 0.1249],\n        [-0.1222],\n        [-0.0938],\n        [ 0.1280],\n        [-0.1634],\n        [-0.0652],\n        [-0.1825],\n        [ 0.1215],\n        [ 0.2462],\n        [-0.1598],\n        [ 0.0939],\n        [-0.1665],\n        [-0.2285],\n        [ 0.0613],\n        [-0.0187],\n        [-0.1239],\n        [-0.1867],\n        [-0.0490],\n        [ 0.1519]], requires_grad=True)\n\n> WeightParam size: torch.Size([1])\n> Parameter containing:\ntensor([0.], requires_grad=True)\n\n> WeightParam size: torch.Size([24, 24])\n> Parameter containing:\ntensor([[ 0.0883, -0.0915, -0.0087,  0.1462,  0.0855, -0.0334, -0.1658, -0.0019,\n         -0.0800, -0.2026, -0.0102, -0.1654,  0.1211, -0.0239,  0.1274,  0.1973,\n         -0.1618,  0.1621,  0.1787,  0.1142,  0.0004, -0.1436, -0.0424, -0.1780],\n        [ 0.0567, -0.0956, -0.0876,  0.0929,  0.1065, -0.1795,  0.0847,  0.1529,\n         -0.1415, -0.1259,  0.1039,  0.0110,  0.1132, -0.1229,  0.1070,  0.0777,\n          0.0263, -0.1892,  0.1562, -0.1563,  0.1385, -0.0306,  0.0536,  0.0390],\n        [ 0.1645, -0.1822, -0.1421, -0.1463,  0.1878, -0.0704,  0.0916, -0.1730,\n         -0.1770,  0.0538, -0.0607,  0.1922,  0.1415,  0.2014, -0.0649,  0.1739,\n         -0.1684, -0.0188, -0.0987, -0.0286, -0.0405, -0.1000, -0.0979,  0.0340],\n        [ 0.0415, -0.0157,  0.1683, -0.0991, -0.1401, -0.1679, -0.0077,  0.1393,\n          0.0209, -0.1962,  0.0205, -0.0449, -0.0484,  0.0227, -0.0827, -0.0442,\n          0.1043,  0.1388, -0.1938,  0.0323,  0.0080,  0.0865, -0.0710, -0.0917],\n        [ 0.1870, -0.0647,  0.1241, -0.1353,  0.1594,  0.1880, -0.0292,  0.0120,\n          0.1460, -0.1841, -0.0103,  0.1731, -0.0592, -0.0422, -0.0237,  0.0913,\n         -0.1271, -0.1900, -0.1654, -0.1202,  0.1255, -0.1548,  0.1976,  0.1790],\n        [-0.0837, -0.1231,  0.0139,  0.1518, -0.0831, -0.0953,  0.0608,  0.1390,\n          0.1863,  0.2041,  0.1398, -0.1077,  0.1335,  0.1203,  0.0935,  0.1848,\n         -0.0087,  0.0404,  0.1655,  0.0102,  0.1688,  0.1896, -0.1344, -0.1279],\n        [ 0.1258,  0.1654, -0.0668, -0.1962,  0.0280,  0.1526,  0.0819,  0.0293,\n          0.0610, -0.0402, -0.1689, -0.0483, -0.1443, -0.2006, -0.0224, -0.1589,\n          0.0519, -0.0263, -0.1292,  0.0054, -0.0851, -0.1410, -0.0166, -0.0048],\n        [-0.0569,  0.1760, -0.0966,  0.0184, -0.1819,  0.1385,  0.0565, -0.1912,\n         -0.1644, -0.0940, -0.1402,  0.0301,  0.2020,  0.0581, -0.1479,  0.1464,\n         -0.1301, -0.1183, -0.1217, -0.0225, -0.0651, -0.1960,  0.0573,  0.2030],\n        [-0.0475, -0.0047,  0.1593,  0.1185, -0.1669,  0.0557, -0.1852,  0.1700,\n          0.0607,  0.0274, -0.0386,  0.1518, -0.0557,  0.0941, -0.0234, -0.1923,\n         -0.0959,  0.1871,  0.0865,  0.0612,  0.0450,  0.0463, -0.1370, -0.0266],\n        [-0.1830,  0.1779, -0.1256, -0.0338,  0.1715,  0.0282,  0.0840, -0.0391,\n          0.1924,  0.0622, -0.0487, -0.1176, -0.0965, -0.0180,  0.1675,  0.0258,\n         -0.1619, -0.0422,  0.1926, -0.1595, -0.1712, -0.0713, -0.1449,  0.1263],\n        [ 0.0413, -0.1514, -0.1834, -0.0760, -0.0722, -0.0007, -0.1241,  0.0905,\n         -0.0581, -0.0373, -0.1884, -0.0156,  0.1438, -0.0405,  0.0467,  0.0701,\n          0.1405,  0.0569,  0.0301, -0.0081,  0.0977,  0.1399, -0.0794,  0.0115],\n        [ 0.0853,  0.0296, -0.1570, -0.1821,  0.0888, -0.1604, -0.1065,  0.1673,\n          0.1927,  0.0254, -0.0062, -0.1375,  0.1130, -0.1755,  0.0169, -0.1179,\n          0.2020,  0.1569, -0.1900, -0.0289,  0.0073,  0.1999, -0.1505, -0.0175],\n        [-0.0819,  0.1423, -0.0367,  0.0783,  0.0106, -0.1773,  0.1617, -0.1959,\n         -0.1264, -0.1243,  0.0218,  0.0531, -0.0973,  0.0064,  0.1709, -0.1140,\n         -0.0776,  0.0929,  0.0507,  0.0617,  0.1594, -0.1832,  0.0614, -0.1913],\n        [-0.1153, -0.1367, -0.0449, -0.1847, -0.1513,  0.0257, -0.1899,  0.1276,\n         -0.0391,  0.0362, -0.1602, -0.1634,  0.0891,  0.0918, -0.0643,  0.0925,\n         -0.0490,  0.1410,  0.0931, -0.1510,  0.0597,  0.0308,  0.0927,  0.0293],\n        [ 0.1901,  0.0525,  0.0554,  0.0969, -0.0556, -0.1706, -0.0165,  0.0733,\n         -0.1587,  0.1330, -0.0455, -0.0197, -0.0032, -0.1936,  0.1718, -0.1116,\n          0.0947,  0.1072,  0.0909,  0.1728,  0.0387,  0.1175,  0.1394, -0.0170],\n        [ 0.0310, -0.1029,  0.1208,  0.0323, -0.0887, -0.1642, -0.1544,  0.0930,\n         -0.1695,  0.0852, -0.0099, -0.1941,  0.0051,  0.1768,  0.0458, -0.0812,\n         -0.1282,  0.0890,  0.0472,  0.1697,  0.0504, -0.0013,  0.1950, -0.0460],\n        [ 0.0435,  0.0126, -0.1393,  0.1927, -0.0198, -0.1937,  0.0654,  0.1626,\n         -0.0898,  0.0170,  0.0290,  0.0278, -0.0784,  0.0370,  0.1496,  0.1746,\n         -0.0466,  0.1827, -0.2021,  0.1850,  0.0032,  0.0123, -0.0072, -0.1224],\n        [ 0.0981,  0.1650, -0.0279, -0.1277,  0.1453,  0.1598, -0.1635, -0.1256,\n          0.0010, -0.0933, -0.1892, -0.1689, -0.1433,  0.1758,  0.0314,  0.0104,\n         -0.1814, -0.1006, -0.0027, -0.0760, -0.1010,  0.1849, -0.1764, -0.1335],\n        [ 0.1997,  0.1656,  0.1485, -0.0711,  0.0134,  0.0309,  0.1801, -0.1364,\n          0.1717, -0.1014, -0.1152, -0.0204,  0.1304, -0.0526, -0.1391,  0.0074,\n          0.0338, -0.1508, -0.0986,  0.1847,  0.2024, -0.0168,  0.0842, -0.1032],\n        [ 0.1450, -0.0516, -0.1487,  0.1182, -0.1901, -0.0120, -0.1366,  0.2017,\n         -0.1555,  0.1821, -0.1293,  0.1650,  0.0953, -0.0971, -0.0959, -0.0983,\n          0.1911, -0.0467, -0.2036,  0.1900, -0.1371, -0.0349,  0.1377,  0.0577],\n        [-0.1179,  0.0020, -0.0512,  0.1025,  0.0393, -0.1954,  0.1981,  0.0934,\n         -0.0092, -0.1009, -0.0623,  0.1642, -0.1113, -0.0558, -0.0503,  0.1274,\n          0.0438, -0.2000, -0.0531,  0.1003,  0.0129, -0.1947, -0.0927, -0.0794],\n        [-0.1288, -0.0008, -0.0147, -0.1297, -0.1377,  0.1860,  0.1881, -0.1858,\n         -0.0286,  0.1064,  0.1141,  0.0192,  0.1376,  0.0421,  0.0750, -0.1629,\n          0.0810, -0.0031, -0.1177,  0.1542, -0.1936, -0.0540,  0.0270, -0.1029],\n        [ 0.0260, -0.0248, -0.0568, -0.1301, -0.1945,  0.1104, -0.1011, -0.1829,\n         -0.0648,  0.0323, -0.0172,  0.1096, -0.0434, -0.0341,  0.1826, -0.0396,\n         -0.1912, -0.1355,  0.0817,  0.1642,  0.1357, -0.1137, -0.0758,  0.1937],\n        [-0.1937, -0.1828, -0.0117,  0.0976,  0.0979, -0.0803, -0.0542,  0.1069,\n         -0.0847, -0.1459,  0.0520,  0.0773,  0.1909,  0.1842, -0.1645,  0.1166,\n          0.1390, -0.0087, -0.0485, -0.1642,  0.1235,  0.0286,  0.0048, -0.1237]],\n       requires_grad=True)\n\n> WeightParam size: torch.Size([24])\n> Parameter containing:\ntensor([ 0.0161,  0.0205, -0.0814, -0.0960,  0.1562,  0.1681,  0.1234, -0.0674,\n        -0.0120, -0.1980,  0.0148,  0.0471,  0.0627, -0.0898,  0.1264,  0.0564,\n         0.1241, -0.0023, -0.0238,  0.0945, -0.1142, -0.0715, -0.1810, -0.1567],\n       requires_grad=True)\n\n"
    }
   ],
   "source": [
    "# GNN model information\n",
    "print('Network info:{}\\n'.format(net)) # in = 1 ??? \n",
    "for weight_param in net.parameters():\n",
    "    print('> WeightParam size: {}\\n> {}\\n'.format(weight_param.shape, weight_param))"
   ]
  },
  {
   "cell_type": "code",
   "execution_count": 15,
   "metadata": {
    "colab": {
     "base_uri": "https://localhost:8080/",
     "height": 85
    },
    "colab_type": "code",
    "executionInfo": {
     "elapsed": 306,
     "status": "ok",
     "timestamp": 1599495181187,
     "user": {
      "displayName": "Jeehyun Park",
      "photoUrl": "https://lh3.googleusercontent.com/a-/AOh14GizNw5DW2QVCa5vUMiz0MiTNIYXIkGzaDCp0Es2=s64",
      "userId": "14458427846939093236"
     },
     "user_tz": 300
    },
    "id": "mpNqT4YmoCGg",
    "outputId": "2992762c-a4cc-4f3e-c7d6-98662cc3927f",
    "tags": []
   },
   "outputs": [],
   "source": [
    "\n",
    "\n",
    "\n",
    "\n",
    "\n",
    "# # get the training data for DGL\n",
    "def get_xy(index):\n",
    "    tempx = np.array([np.transpose(x_train)[index]])\n",
    "    x_train_one = torch.from_numpy(tempx).float()\n",
    "    x_train_one = x_train_one.transpose(0, 1)\n",
    "\n",
    "    tempy = np.array([np.transpose(y_train)[index]])\n",
    "    y_train_one = torch.from_numpy(tempy).float()\n",
    "    y_train_one = y_train_one.transpose(0, 1)\n",
    "\n",
    "    return x_train_one, y_train_one\n",
    "\n",
    "\n",
    "\n"
   ]
  },
  {
   "cell_type": "code",
   "execution_count": 16,
   "metadata": {
    "tags": []
   },
   "outputs": [
    {
     "output_type": "stream",
     "name": "stdout",
     "text": "Data set size: 6000\n > Training set size: 4800\n > Test set size: 1200\n"
    }
   ],
   "source": [
    "# Set the ratio of training/test set\n",
    "train_ratio = 0.8\n",
    "n_train = int(np.floor(train_ratio * n_sample))\n",
    "n_test = n_sample - n_train\n",
    "print(\n",
    "    \"Data set size: {}\\n > Training set size: {}\\n > Test set size: {}\".format(\n",
    "        n_sample, n_train, n_test\n",
    "    )\n",
    ")\n"
   ]
  },
  {
   "cell_type": "code",
   "execution_count": 17,
   "metadata": {
    "tags": []
   },
   "outputs": [
    {
     "output_type": "stream",
     "name": "stdout",
     "text": "x_train shape: (24, 4800)\ny_train shape: (24, 4800)\nx_test shape: (24, 1200)\ny_test shape: (24, 1200)\n"
    }
   ],
   "source": [
    "# Generate training set and test set\n",
    "x_train2, x_test2, y_train2, y_test2 = train_test_split(\n",
    "    load_data[0:n_bus, :].transpose(),\n",
    "    y0[:, 0:n_sample].transpose(),\n",
    "    test_size=0.2,\n",
    "    random_state=22,\n",
    ")\n",
    "x_train = x_train2.transpose()\n",
    "y_train = y_train2.transpose()\n",
    "x_test = x_test2.transpose()\n",
    "y_test = y_test2.transpose()\n",
    "# x_train = load_data[0:n_bus,0:n_train].copy()\n",
    "# y_train = bound_idx[:,0:n_train].copy()\n",
    "# x_test = load_data[0:n_bus,n_train:n_sample].copy()\n",
    "# y_test = bound_idx[:,n_train:n_sample].copy()\n",
    "print(\"x_train shape: {}\".format(x_train.shape))\n",
    "print(\"y_train shape: {}\".format(y_train.shape))\n",
    "print(\"x_test shape: {}\".format(x_test.shape))\n",
    "print(\"y_test shape: {}\".format(y_test.shape))\n",
    "\n"
   ]
  },
  {
   "cell_type": "code",
   "execution_count": 18,
   "metadata": {
    "tags": []
   },
   "outputs": [],
   "source": [
    "# tempx = np.array([np.transpose(x_train)[0]])\n",
    "# x_train_one = torch.from_numpy(tempx).float()\n",
    "# x_train_one = x_train_one.transpose(0, 1)\n",
    "# print(x_train_one.shape)\n",
    "\n",
    "\n",
    "# tempy = np.array([np.transpose(y_train)[0]])\n",
    "# y_train_one = torch.from_numpy(tempy).float()\n",
    "# y_train_one = y_train_one.transpose(0, 1)\n",
    "# print(y_train_one.shape)\n",
    "# print('Training data size:',x_train.shape)\n",
    "# print('Training label size:',y_train.shape)"
   ]
  },
  {
   "cell_type": "code",
   "execution_count": 19,
   "metadata": {
    "tags": []
   },
   "outputs": [
    {
     "output_type": "stream",
     "name": "stdout",
     "text": "torch.Size([24, 1, 4800])\n"
    }
   ],
   "source": [
    "# generate torch y_train for concatenated obj\n",
    "y_train1 = torch.from_numpy(y_train)  # .float()\n",
    "# expand into 3d tensor\n",
    "y_train1.unsqueeze_(-1)\n",
    "y_train1 = y_train1.expand(n_bus, n_train, 1)\n",
    "y_train1 = y_train1.transpose(2, 1)\n",
    "print(y_train1.shape)"
   ]
  },
  {
   "cell_type": "code",
   "execution_count": 21,
   "metadata": {},
   "outputs": [
    {
     "output_type": "execute_result",
     "data": {
      "text/plain": "numpy.ndarray"
     },
     "metadata": {},
     "execution_count": 21
    }
   ],
   "source": [
    "type(x_train)"
   ]
  },
  {
   "cell_type": "code",
   "execution_count": null,
   "metadata": {},
   "outputs": [],
   "source": []
  },
  {
   "cell_type": "code",
   "execution_count": 28,
   "metadata": {},
   "outputs": [],
   "source": [
    "class Dataset(torch.utils.data.Dataset):\n",
    "    \"\"\"Optimal Power Flow Dataset.\n",
    "    \"\"\"\n",
    "\n",
    "    def __init__(self, features, labels):\n",
    "        \"\"\"Initialization.\n",
    "        \n",
    "        Args:\n",
    "            features (numpy.ndarray): feature data.\n",
    "            labels (numpy.ndarray): label data.\n",
    "        \"\"\"\n",
    "        self.features = np.transpose(features)\n",
    "        self.labels = np.transpose(labels)\n",
    "\n",
    "    def __len__(self):\n",
    "        \"\"\"Denotes the total number of samples.\n",
    "\n",
    "        Returns:\n",
    "            int: data length.\n",
    "        \"\"\"\n",
    "        return len(self.features)\n",
    "\n",
    "    def __getitem__(self, idx):\n",
    "        \"\"\"Generates one sample of data\n",
    "\n",
    "        Args:\n",
    "            idx ([type]): [description]\n",
    "\n",
    "        Returns:\n",
    "            [type]: [description]\n",
    "        \"\"\"\n",
    "        if torch.is_tensor(idx):\n",
    "            idx = idx.tolist()\n",
    "        # Select sample\n",
    "        X = self.features[idx]\n",
    "        y = self.labels[idx]\n",
    "\n",
    "        return X, y"
   ]
  },
  {
   "cell_type": "code",
   "execution_count": 20,
   "metadata": {},
   "outputs": [],
   "source": [
    "# device option setting\n",
    "use_cuda = torch.cuda.is_available()\n",
    "device = torch.device(\"cuda\" if use_cuda else \"cpu\")\n",
    "G = G.to(device)"
   ]
  },
  {
   "cell_type": "code",
   "execution_count": 38,
   "metadata": {},
   "outputs": [],
   "source": [
    "# hyper param setting\n",
    "params = {'batch_size': 1,\n",
    "          'shuffle': True,\n",
    "          'num_workers': 3}\n",
    "\n",
    "accumulation_steps = 100\n",
    "max_epochs = 5"
   ]
  },
  {
   "cell_type": "code",
   "execution_count": 39,
   "metadata": {},
   "outputs": [],
   "source": [
    "# Dataset Generators\n",
    "training_set = Dataset(features=x_train, labels=y_train)\n",
    "training_generator = torch.utils.data.DataLoader(training_set, **params)\n",
    "\n",
    "validation_set = Dataset(features=x_test, labels=y_test)\n",
    "validation_generator = torch.utils.data.DataLoader(validation_set, **params)"
   ]
  },
  {
   "cell_type": "code",
   "execution_count": 40,
   "metadata": {},
   "outputs": [],
   "source": [
    "# set loss_func & optimizer\n",
    "loss_func = F.mse_loss\n",
    "optimizer = torch.optim.Adam(net.parameters())\n",
    "loss_optm = []\n"
   ]
  },
  {
   "cell_type": "code",
   "execution_count": 44,
   "metadata": {
    "colab": {
     "base_uri": "https://localhost:8080/",
     "height": 1000
    },
    "colab_type": "code",
    "executionInfo": {
     "elapsed": 4321761,
     "status": "ok",
     "timestamp": 1599499509571,
     "user": {
      "displayName": "Jeehyun Park",
      "photoUrl": "https://lh3.googleusercontent.com/a-/AOh14GizNw5DW2QVCa5vUMiz0MiTNIYXIkGzaDCp0Es2=s64",
      "userId": "14458427846939093236"
     },
     "user_tz": 300
    },
    "id": "7uHUoHNZoCGq",
    "outputId": "4990d41b-96f9-4a42-c6c0-1e0888aa55d5",
    "tags": []
   },
   "outputs": [],
   "source": [
    "for epoch in range(max_epochs):\n",
    "    # training loop\n",
    "    for local_batch, local_labels in training_generator:\n",
    "        # Transfer to GPU\n",
    "        local_batch, local_labels = local_batch.to(device), local_labels.to(device)\n",
    "\n",
    "        print(local_batch.shape)\n",
    "\n",
    "        # net.train() # ???\n",
    "        logits = net(G, I_bus, local_batch) # I_bus ???\n",
    "\n",
    "        \n",
    "        loss = loss_func(logits, local_labels)  # / accumulation_steps\n",
    "        loss.backward()\n",
    "\n",
    "        if ((sample + 1) % accumulation_steps) == 0:\n",
    "            optimizer.step()  # update parameters of net\n",
    "            optimizer.zero_grad()  # clear the psat gradient\n",
    "\n",
    "    # test for simple adaptive scheme\n",
    "    # if epoch > 10:\n",
    "    #   optimizer = torch.optim.Adam(net.parameters(), lr=0.15)\n",
    "    # if epoch > 10:\n",
    "    #   optimizer = torch.optim.Adam(net.parameters(), lr=0.04)\n",
    "    # if epoch > 20:\n",
    "    #   optimizer = torch.optim.Adam(net.parameters(), lr=0.03)\n",
    "    # if epoch > 30:\n",
    "    #   optimizer = torch.optim.Adam(net.parameters(), lr=0.02)\n",
    "    # if epoch > 40:\n",
    "    #   optimizer = torch.optim.Adam(net.parameters(), lr=0.01)\n",
    "\n",
    "    # # Decay Learning Rate\n",
    "    # if epoch > 1:\n",
    "    #   scheduler.step()\n",
    "\n",
    "    print(\"Epoch %d | Loss: %.4f\" % (epoch, loss.item()))\n",
    "    loss_optm.append(loss.item())\n",
    "\n",
    "    # validation loop\n",
    "    with torch.set_grad_enabled(False):\n",
    "        pass\n"
   ]
  },
  {
   "cell_type": "code",
   "execution_count": 20,
   "metadata": {
    "colab": {},
    "colab_type": "code",
    "id": "LSw7m9Tos9MH",
    "tags": []
   },
   "outputs": [
    {
     "name": "stdout",
     "output_type": "stream",
     "text": [
      "Epoch 11 | Loss: 0.0074\n",
      "Epoch 12 | Loss: 0.0085\n",
      "Epoch 13 | Loss: 0.0077\n",
      "Epoch 14 | Loss: 0.0092\n",
      "Epoch 15 | Loss: 0.0088\n"
     ]
    }
   ],
   "source": [
    "ep_range1 = 5\n",
    "\n",
    "for epoch in range(ep_range1):\n",
    "    # print('Epoch:', epoch,'LR:', scheduler.get_lr())\n",
    "    for sample in range(n_train):\n",
    "        x_train_one, y_train_one = get_xy(sample)\n",
    "        net.train()\n",
    "        logits = net(G, I_bus, x_train_one)\n",
    "        # loss = F.binary_cross_entropy(torch.sigmoid(logits), y_train_one) #/ accumulation_steps\n",
    "        # loss = F.mse_loss(torch.sigmoid(logits), y_train_one) #/ accumulation_steps\n",
    "        loss = F.mse_loss(logits, y_train_one)  #/ accumulation_steps\n",
    "        loss.backward()\n",
    "\n",
    "        if ((sample + 1) % accumulation_steps) == 0:\n",
    "            optimizer.step()  # update parameters of net\n",
    "            optimizer.zero_grad()  # clear the psat gradient\n",
    "\n",
    "    print('Epoch %d | Loss: %.4f' % (epoch + ep_range + 1, loss.item()))\n",
    "    loss_optm.append(loss.item())"
   ]
  },
  {
   "cell_type": "markdown",
   "metadata": {
    "colab_type": "text",
    "id": "zZ0nLutzpyHX"
   },
   "source": [
    "## Optimization methods:\n",
    "**We need to incorporate batch size into the optimization step size for mini batches.** \n",
    "- **Rprop:** A gradient descent algorithm that only uses the signs of gradients to compute updates. It stands for Resilient Propagation and works well in many situations because it adapts the step size dynamically for each weight independently.\n",
    "- **Learning rate scheduling:** used with optimizers\n",
    "- **lr_scheduler.StepLR:** Decays the learning rate of each parameter group by gamma every step_size epochs. Notice that such decay can happen simultaneously with other changes to the learning rate from outside this scheduler. When last_epoch=-1, sets initial lr as lr. https://www.deeplearningwizard.com/deep_learning/boosting_models_pytorch/lr_scheduling/\n",
    "- **lr_scheduler.CyclicLR:** Sets the learning rate of each parameter group according to cyclical learning rate policy (CLR). The policy cycles the learning rate between two boundaries with a constant frequency. Cyclical learning rate policy changes the learning rate after every batch. step should be called after a batch has been used for training."
   ]
  },
  {
   "cell_type": "code",
   "execution_count": 21,
   "metadata": {
    "colab": {},
    "colab_type": "code",
    "id": "pfTSSX29R7jP"
   },
   "outputs": [
    {
     "data": {
      "image/png": "[encoded data removed]",
      "image/svg+xml": [
       "<?xml version=\"1.0\" encoding=\"utf-8\" standalone=\"no\"?>\n",
       "<!DOCTYPE svg PUBLIC \"-//W3C//DTD SVG 1.1//EN\"\n",
       "  \"http://www.w3.org/Graphics/SVG/1.1/DTD/svg11.dtd\">\n",
       "<!-- Created with matplotlib (https://matplotlib.org/) -->\n",
       "<svg height=\"262.19625pt\" version=\"1.1\" viewBox=\"0 0 411.23125 262.19625\" width=\"411.23125pt\" xmlns=\"http://www.w3.org/2000/svg\" xmlns:xlink=\"http://www.w3.org/1999/xlink\">\n",
       " <metadata>\n",
       "  <rdf:RDF xmlns:cc=\"http://creativecommons.org/ns#\" xmlns:dc=\"http://purl.org/dc/elements/1.1/\" xmlns:rdf=\"http://www.w3.org/1999/02/22-rdf-syntax-ns#\">\n",
       "   <cc:Work>\n",
       "    <dc:type rdf:resource=\"http://purl.org/dc/dcmitype/StillImage\"/>\n",
       "    <dc:date>2020-09-11T19:51:16.136358</dc:date>\n",
       "    <dc:format>image/svg+xml</dc:format>\n",
       "    <dc:creator>\n",
       "     <cc:Agent>\n",
       "      <dc:title>Matplotlib v3.3.1, https://matplotlib.org/</dc:title>\n",
       "     </cc:Agent>\n",
       "    </dc:creator>\n",
       "   </cc:Work>\n",
       "  </rdf:RDF>\n",
       " </metadata>\n",
       " <defs>\n",
       "  <style type=\"text/css\">*{stroke-linecap:butt;stroke-linejoin:round;}</style>\n",
       " </defs>\n",
       " <g id=\"figure_1\">\n",
       "  <g id=\"patch_1\">\n",
       "   <path d=\"M -0 262.19625 \n",
       "L 411.23125 262.19625 \n",
       "L 411.23125 0 \n",
       "L -0 0 \n",
       "z\n",
       "\" style=\"fill:none;\"/>\n",
       "  </g>\n",
       "  <g id=\"axes_1\">\n",
       "   <g id=\"patch_2\">\n",
       "    <path d=\"M 69.23125 224.64 \n",
       "L 404.03125 224.64 \n",
       "L 404.03125 7.2 \n",
       "L 69.23125 7.2 \n",
       "z\n",
       "\" style=\"fill:#ffffff;\"/>\n",
       "   </g>\n",
       "   <g id=\"matplotlib.axis_1\">\n",
       "    <g id=\"xtick_1\">\n",
       "     <g id=\"line2d_1\">\n",
       "      <defs>\n",
       "       <path d=\"M 0 0 \n",
       "L 0 3.5 \n",
       "\" id=\"mcb2f155ce4\" style=\"stroke:#000000;stroke-width:0.8;\"/>\n",
       "      </defs>\n",
       "      <g>\n",
       "       <use style=\"stroke:#000000;stroke-width:0.8;\" x=\"114.885795\" xlink:href=\"#mcb2f155ce4\" y=\"224.64\"/>\n",
       "      </g>\n",
       "     </g>\n",
       "     <g id=\"text_1\">\n",
       "      <!-- 4 -->\n",
       "      <g transform=\"translate(111.704545 239.238437)scale(0.1 -0.1)\">\n",
       "       <defs>\n",
       "        <path d=\"M 37.796875 64.3125 \n",
       "L 12.890625 25.390625 \n",
       "L 37.796875 25.390625 \n",
       "z\n",
       "M 35.203125 72.90625 \n",
       "L 47.609375 72.90625 \n",
       "L 47.609375 25.390625 \n",
       "L 58.015625 25.390625 \n",
       "L 58.015625 17.1875 \n",
       "L 47.609375 17.1875 \n",
       "L 47.609375 0 \n",
       "L 37.796875 0 \n",
       "L 37.796875 17.1875 \n",
       "L 4.890625 17.1875 \n",
       "L 4.890625 26.703125 \n",
       "z\n",
       "\" id=\"DejaVuSans-52\"/>\n",
       "       </defs>\n",
       "       <use xlink:href=\"#DejaVuSans-52\"/>\n",
       "      </g>\n",
       "     </g>\n",
       "    </g>\n",
       "    <g id=\"xtick_2\">\n",
       "     <g id=\"line2d_2\">\n",
       "      <g>\n",
       "       <use style=\"stroke:#000000;stroke-width:0.8;\" x=\"175.758523\" xlink:href=\"#mcb2f155ce4\" y=\"224.64\"/>\n",
       "      </g>\n",
       "     </g>\n",
       "     <g id=\"text_2\">\n",
       "      <!-- 6 -->\n",
       "      <g transform=\"translate(172.577273 239.238437)scale(0.1 -0.1)\">\n",
       "       <defs>\n",
       "        <path d=\"M 33.015625 40.375 \n",
       "Q 26.375 40.375 22.484375 35.828125 \n",
       "Q 18.609375 31.296875 18.609375 23.390625 \n",
       "Q 18.609375 15.53125 22.484375 10.953125 \n",
       "Q 26.375 6.390625 33.015625 6.390625 \n",
       "Q 39.65625 6.390625 43.53125 10.953125 \n",
       "Q 47.40625 15.53125 47.40625 23.390625 \n",
       "Q 47.40625 31.296875 43.53125 35.828125 \n",
       "Q 39.65625 40.375 33.015625 40.375 \n",
       "z\n",
       "M 52.59375 71.296875 \n",
       "L 52.59375 62.3125 \n",
       "Q 48.875 64.0625 45.09375 64.984375 \n",
       "Q 41.3125 65.921875 37.59375 65.921875 \n",
       "Q 27.828125 65.921875 22.671875 59.328125 \n",
       "Q 17.53125 52.734375 16.796875 39.40625 \n",
       "Q 19.671875 43.65625 24.015625 45.921875 \n",
       "Q 28.375 48.1875 33.59375 48.1875 \n",
       "Q 44.578125 48.1875 50.953125 41.515625 \n",
       "Q 57.328125 34.859375 57.328125 23.390625 \n",
       "Q 57.328125 12.15625 50.6875 5.359375 \n",
       "Q 44.046875 -1.421875 33.015625 -1.421875 \n",
       "Q 20.359375 -1.421875 13.671875 8.265625 \n",
       "Q 6.984375 17.96875 6.984375 36.375 \n",
       "Q 6.984375 53.65625 15.1875 63.9375 \n",
       "Q 23.390625 74.21875 37.203125 74.21875 \n",
       "Q 40.921875 74.21875 44.703125 73.484375 \n",
       "Q 48.484375 72.75 52.59375 71.296875 \n",
       "z\n",
       "\" id=\"DejaVuSans-54\"/>\n",
       "       </defs>\n",
       "       <use xlink:href=\"#DejaVuSans-54\"/>\n",
       "      </g>\n",
       "     </g>\n",
       "    </g>\n",
       "    <g id=\"xtick_3\">\n",
       "     <g id=\"line2d_3\">\n",
       "      <g>\n",
       "       <use style=\"stroke:#000000;stroke-width:0.8;\" x=\"236.63125\" xlink:href=\"#mcb2f155ce4\" y=\"224.64\"/>\n",
       "      </g>\n",
       "     </g>\n",
       "     <g id=\"text_3\">\n",
       "      <!-- 8 -->\n",
       "      <g transform=\"translate(233.45 239.238437)scale(0.1 -0.1)\">\n",
       "       <defs>\n",
       "        <path d=\"M 31.78125 34.625 \n",
       "Q 24.75 34.625 20.71875 30.859375 \n",
       "Q 16.703125 27.09375 16.703125 20.515625 \n",
       "Q 16.703125 13.921875 20.71875 10.15625 \n",
       "Q 24.75 6.390625 31.78125 6.390625 \n",
       "Q 38.8125 6.390625 42.859375 10.171875 \n",
       "Q 46.921875 13.96875 46.921875 20.515625 \n",
       "Q 46.921875 27.09375 42.890625 30.859375 \n",
       "Q 38.875 34.625 31.78125 34.625 \n",
       "z\n",
       "M 21.921875 38.8125 \n",
       "Q 15.578125 40.375 12.03125 44.71875 \n",
       "Q 8.5 49.078125 8.5 55.328125 \n",
       "Q 8.5 64.0625 14.71875 69.140625 \n",
       "Q 20.953125 74.21875 31.78125 74.21875 \n",
       "Q 42.671875 74.21875 48.875 69.140625 \n",
       "Q 55.078125 64.0625 55.078125 55.328125 \n",
       "Q 55.078125 49.078125 51.53125 44.71875 \n",
       "Q 48 40.375 41.703125 38.8125 \n",
       "Q 48.828125 37.15625 52.796875 32.3125 \n",
       "Q 56.78125 27.484375 56.78125 20.515625 \n",
       "Q 56.78125 9.90625 50.3125 4.234375 \n",
       "Q 43.84375 -1.421875 31.78125 -1.421875 \n",
       "Q 19.734375 -1.421875 13.25 4.234375 \n",
       "Q 6.78125 9.90625 6.78125 20.515625 \n",
       "Q 6.78125 27.484375 10.78125 32.3125 \n",
       "Q 14.796875 37.15625 21.921875 38.8125 \n",
       "z\n",
       "M 18.3125 54.390625 \n",
       "Q 18.3125 48.734375 21.84375 45.5625 \n",
       "Q 25.390625 42.390625 31.78125 42.390625 \n",
       "Q 38.140625 42.390625 41.71875 45.5625 \n",
       "Q 45.3125 48.734375 45.3125 54.390625 \n",
       "Q 45.3125 60.0625 41.71875 63.234375 \n",
       "Q 38.140625 66.40625 31.78125 66.40625 \n",
       "Q 25.390625 66.40625 21.84375 63.234375 \n",
       "Q 18.3125 60.0625 18.3125 54.390625 \n",
       "z\n",
       "\" id=\"DejaVuSans-56\"/>\n",
       "       </defs>\n",
       "       <use xlink:href=\"#DejaVuSans-56\"/>\n",
       "      </g>\n",
       "     </g>\n",
       "    </g>\n",
       "    <g id=\"xtick_4\">\n",
       "     <g id=\"line2d_4\">\n",
       "      <g>\n",
       "       <use style=\"stroke:#000000;stroke-width:0.8;\" x=\"297.503977\" xlink:href=\"#mcb2f155ce4\" y=\"224.64\"/>\n",
       "      </g>\n",
       "     </g>\n",
       "     <g id=\"text_4\">\n",
       "      <!-- 10 -->\n",
       "      <g transform=\"translate(291.141477 239.238437)scale(0.1 -0.1)\">\n",
       "       <defs>\n",
       "        <path d=\"M 12.40625 8.296875 \n",
       "L 28.515625 8.296875 \n",
       "L 28.515625 63.921875 \n",
       "L 10.984375 60.40625 \n",
       "L 10.984375 69.390625 \n",
       "L 28.421875 72.90625 \n",
       "L 38.28125 72.90625 \n",
       "L 38.28125 8.296875 \n",
       "L 54.390625 8.296875 \n",
       "L 54.390625 0 \n",
       "L 12.40625 0 \n",
       "z\n",
       "\" id=\"DejaVuSans-49\"/>\n",
       "        <path d=\"M 31.78125 66.40625 \n",
       "Q 24.171875 66.40625 20.328125 58.90625 \n",
       "Q 16.5 51.421875 16.5 36.375 \n",
       "Q 16.5 21.390625 20.328125 13.890625 \n",
       "Q 24.171875 6.390625 31.78125 6.390625 \n",
       "Q 39.453125 6.390625 43.28125 13.890625 \n",
       "Q 47.125 21.390625 47.125 36.375 \n",
       "Q 47.125 51.421875 43.28125 58.90625 \n",
       "Q 39.453125 66.40625 31.78125 66.40625 \n",
       "z\n",
       "M 31.78125 74.21875 \n",
       "Q 44.046875 74.21875 50.515625 64.515625 \n",
       "Q 56.984375 54.828125 56.984375 36.375 \n",
       "Q 56.984375 17.96875 50.515625 8.265625 \n",
       "Q 44.046875 -1.421875 31.78125 -1.421875 \n",
       "Q 19.53125 -1.421875 13.0625 8.265625 \n",
       "Q 6.59375 17.96875 6.59375 36.375 \n",
       "Q 6.59375 54.828125 13.0625 64.515625 \n",
       "Q 19.53125 74.21875 31.78125 74.21875 \n",
       "z\n",
       "\" id=\"DejaVuSans-48\"/>\n",
       "       </defs>\n",
       "       <use xlink:href=\"#DejaVuSans-49\"/>\n",
       "       <use x=\"63.623047\" xlink:href=\"#DejaVuSans-48\"/>\n",
       "      </g>\n",
       "     </g>\n",
       "    </g>\n",
       "    <g id=\"xtick_5\">\n",
       "     <g id=\"line2d_5\">\n",
       "      <g>\n",
       "       <use style=\"stroke:#000000;stroke-width:0.8;\" x=\"358.376705\" xlink:href=\"#mcb2f155ce4\" y=\"224.64\"/>\n",
       "      </g>\n",
       "     </g>\n",
       "     <g id=\"text_5\">\n",
       "      <!-- 12 -->\n",
       "      <g transform=\"translate(352.014205 239.238437)scale(0.1 -0.1)\">\n",
       "       <defs>\n",
       "        <path d=\"M 19.1875 8.296875 \n",
       "L 53.609375 8.296875 \n",
       "L 53.609375 0 \n",
       "L 7.328125 0 \n",
       "L 7.328125 8.296875 \n",
       "Q 12.9375 14.109375 22.625 23.890625 \n",
       "Q 32.328125 33.6875 34.8125 36.53125 \n",
       "Q 39.546875 41.84375 41.421875 45.53125 \n",
       "Q 43.3125 49.21875 43.3125 52.78125 \n",
       "Q 43.3125 58.59375 39.234375 62.25 \n",
       "Q 35.15625 65.921875 28.609375 65.921875 \n",
       "Q 23.96875 65.921875 18.8125 64.3125 \n",
       "Q 13.671875 62.703125 7.8125 59.421875 \n",
       "L 7.8125 69.390625 \n",
       "Q 13.765625 71.78125 18.9375 73 \n",
       "Q 24.125 74.21875 28.421875 74.21875 \n",
       "Q 39.75 74.21875 46.484375 68.546875 \n",
       "Q 53.21875 62.890625 53.21875 53.421875 \n",
       "Q 53.21875 48.921875 51.53125 44.890625 \n",
       "Q 49.859375 40.875 45.40625 35.40625 \n",
       "Q 44.1875 33.984375 37.640625 27.21875 \n",
       "Q 31.109375 20.453125 19.1875 8.296875 \n",
       "z\n",
       "\" id=\"DejaVuSans-50\"/>\n",
       "       </defs>\n",
       "       <use xlink:href=\"#DejaVuSans-49\"/>\n",
       "       <use x=\"63.623047\" xlink:href=\"#DejaVuSans-50\"/>\n",
       "      </g>\n",
       "     </g>\n",
       "    </g>\n",
       "    <g id=\"text_6\">\n",
       "     <!-- epoch -->\n",
       "     <g transform=\"translate(221.403125 252.916562)scale(0.1 -0.1)\">\n",
       "      <defs>\n",
       "       <path d=\"M 56.203125 29.59375 \n",
       "L 56.203125 25.203125 \n",
       "L 14.890625 25.203125 \n",
       "Q 15.484375 15.921875 20.484375 11.0625 \n",
       "Q 25.484375 6.203125 34.421875 6.203125 \n",
       "Q 39.59375 6.203125 44.453125 7.46875 \n",
       "Q 49.3125 8.734375 54.109375 11.28125 \n",
       "L 54.109375 2.78125 \n",
       "Q 49.265625 0.734375 44.1875 -0.34375 \n",
       "Q 39.109375 -1.421875 33.890625 -1.421875 \n",
       "Q 20.796875 -1.421875 13.15625 6.1875 \n",
       "Q 5.515625 13.8125 5.515625 26.8125 \n",
       "Q 5.515625 40.234375 12.765625 48.109375 \n",
       "Q 20.015625 56 32.328125 56 \n",
       "Q 43.359375 56 49.78125 48.890625 \n",
       "Q 56.203125 41.796875 56.203125 29.59375 \n",
       "z\n",
       "M 47.21875 32.234375 \n",
       "Q 47.125 39.59375 43.09375 43.984375 \n",
       "Q 39.0625 48.390625 32.421875 48.390625 \n",
       "Q 24.90625 48.390625 20.390625 44.140625 \n",
       "Q 15.875 39.890625 15.1875 32.171875 \n",
       "z\n",
       "\" id=\"DejaVuSans-101\"/>\n",
       "       <path d=\"M 18.109375 8.203125 \n",
       "L 18.109375 -20.796875 \n",
       "L 9.078125 -20.796875 \n",
       "L 9.078125 54.6875 \n",
       "L 18.109375 54.6875 \n",
       "L 18.109375 46.390625 \n",
       "Q 20.953125 51.265625 25.265625 53.625 \n",
       "Q 29.59375 56 35.59375 56 \n",
       "Q 45.5625 56 51.78125 48.09375 \n",
       "Q 58.015625 40.1875 58.015625 27.296875 \n",
       "Q 58.015625 14.40625 51.78125 6.484375 \n",
       "Q 45.5625 -1.421875 35.59375 -1.421875 \n",
       "Q 29.59375 -1.421875 25.265625 0.953125 \n",
       "Q 20.953125 3.328125 18.109375 8.203125 \n",
       "z\n",
       "M 48.6875 27.296875 \n",
       "Q 48.6875 37.203125 44.609375 42.84375 \n",
       "Q 40.53125 48.484375 33.40625 48.484375 \n",
       "Q 26.265625 48.484375 22.1875 42.84375 \n",
       "Q 18.109375 37.203125 18.109375 27.296875 \n",
       "Q 18.109375 17.390625 22.1875 11.75 \n",
       "Q 26.265625 6.109375 33.40625 6.109375 \n",
       "Q 40.53125 6.109375 44.609375 11.75 \n",
       "Q 48.6875 17.390625 48.6875 27.296875 \n",
       "z\n",
       "\" id=\"DejaVuSans-112\"/>\n",
       "       <path d=\"M 30.609375 48.390625 \n",
       "Q 23.390625 48.390625 19.1875 42.75 \n",
       "Q 14.984375 37.109375 14.984375 27.296875 \n",
       "Q 14.984375 17.484375 19.15625 11.84375 \n",
       "Q 23.34375 6.203125 30.609375 6.203125 \n",
       "Q 37.796875 6.203125 41.984375 11.859375 \n",
       "Q 46.1875 17.53125 46.1875 27.296875 \n",
       "Q 46.1875 37.015625 41.984375 42.703125 \n",
       "Q 37.796875 48.390625 30.609375 48.390625 \n",
       "z\n",
       "M 30.609375 56 \n",
       "Q 42.328125 56 49.015625 48.375 \n",
       "Q 55.71875 40.765625 55.71875 27.296875 \n",
       "Q 55.71875 13.875 49.015625 6.21875 \n",
       "Q 42.328125 -1.421875 30.609375 -1.421875 \n",
       "Q 18.84375 -1.421875 12.171875 6.21875 \n",
       "Q 5.515625 13.875 5.515625 27.296875 \n",
       "Q 5.515625 40.765625 12.171875 48.375 \n",
       "Q 18.84375 56 30.609375 56 \n",
       "z\n",
       "\" id=\"DejaVuSans-111\"/>\n",
       "       <path d=\"M 48.78125 52.59375 \n",
       "L 48.78125 44.1875 \n",
       "Q 44.96875 46.296875 41.140625 47.34375 \n",
       "Q 37.3125 48.390625 33.40625 48.390625 \n",
       "Q 24.65625 48.390625 19.8125 42.84375 \n",
       "Q 14.984375 37.3125 14.984375 27.296875 \n",
       "Q 14.984375 17.28125 19.8125 11.734375 \n",
       "Q 24.65625 6.203125 33.40625 6.203125 \n",
       "Q 37.3125 6.203125 41.140625 7.25 \n",
       "Q 44.96875 8.296875 48.78125 10.40625 \n",
       "L 48.78125 2.09375 \n",
       "Q 45.015625 0.34375 40.984375 -0.53125 \n",
       "Q 36.96875 -1.421875 32.421875 -1.421875 \n",
       "Q 20.0625 -1.421875 12.78125 6.34375 \n",
       "Q 5.515625 14.109375 5.515625 27.296875 \n",
       "Q 5.515625 40.671875 12.859375 48.328125 \n",
       "Q 20.21875 56 33.015625 56 \n",
       "Q 37.15625 56 41.109375 55.140625 \n",
       "Q 45.0625 54.296875 48.78125 52.59375 \n",
       "z\n",
       "\" id=\"DejaVuSans-99\"/>\n",
       "       <path d=\"M 54.890625 33.015625 \n",
       "L 54.890625 0 \n",
       "L 45.90625 0 \n",
       "L 45.90625 32.71875 \n",
       "Q 45.90625 40.484375 42.875 44.328125 \n",
       "Q 39.84375 48.1875 33.796875 48.1875 \n",
       "Q 26.515625 48.1875 22.3125 43.546875 \n",
       "Q 18.109375 38.921875 18.109375 30.90625 \n",
       "L 18.109375 0 \n",
       "L 9.078125 0 \n",
       "L 9.078125 75.984375 \n",
       "L 18.109375 75.984375 \n",
       "L 18.109375 46.1875 \n",
       "Q 21.34375 51.125 25.703125 53.5625 \n",
       "Q 30.078125 56 35.796875 56 \n",
       "Q 45.21875 56 50.046875 50.171875 \n",
       "Q 54.890625 44.34375 54.890625 33.015625 \n",
       "z\n",
       "\" id=\"DejaVuSans-104\"/>\n",
       "      </defs>\n",
       "      <use xlink:href=\"#DejaVuSans-101\"/>\n",
       "      <use x=\"61.523438\" xlink:href=\"#DejaVuSans-112\"/>\n",
       "      <use x=\"125\" xlink:href=\"#DejaVuSans-111\"/>\n",
       "      <use x=\"186.181641\" xlink:href=\"#DejaVuSans-99\"/>\n",
       "      <use x=\"241.162109\" xlink:href=\"#DejaVuSans-104\"/>\n",
       "     </g>\n",
       "    </g>\n",
       "   </g>\n",
       "   <g id=\"matplotlib.axis_2\">\n",
       "    <g id=\"ytick_1\">\n",
       "     <g id=\"line2d_6\">\n",
       "      <defs>\n",
       "       <path d=\"M 0 0 \n",
       "L -3.5 0 \n",
       "\" id=\"me9ea087551\" style=\"stroke:#000000;stroke-width:0.8;\"/>\n",
       "      </defs>\n",
       "      <g>\n",
       "       <use style=\"stroke:#000000;stroke-width:0.8;\" x=\"69.23125\" xlink:href=\"#me9ea087551\" y=\"204.493082\"/>\n",
       "      </g>\n",
       "     </g>\n",
       "     <g id=\"text_7\">\n",
       "      <!-- 0.00750 -->\n",
       "      <g transform=\"translate(20.878125 208.2923)scale(0.1 -0.1)\">\n",
       "       <defs>\n",
       "        <path d=\"M 10.6875 12.40625 \n",
       "L 21 12.40625 \n",
       "L 21 0 \n",
       "L 10.6875 0 \n",
       "z\n",
       "\" id=\"DejaVuSans-46\"/>\n",
       "        <path d=\"M 8.203125 72.90625 \n",
       "L 55.078125 72.90625 \n",
       "L 55.078125 68.703125 \n",
       "L 28.609375 0 \n",
       "L 18.3125 0 \n",
       "L 43.21875 64.59375 \n",
       "L 8.203125 64.59375 \n",
       "z\n",
       "\" id=\"DejaVuSans-55\"/>\n",
       "        <path d=\"M 10.796875 72.90625 \n",
       "L 49.515625 72.90625 \n",
       "L 49.515625 64.59375 \n",
       "L 19.828125 64.59375 \n",
       "L 19.828125 46.734375 \n",
       "Q 21.96875 47.46875 24.109375 47.828125 \n",
       "Q 26.265625 48.1875 28.421875 48.1875 \n",
       "Q 40.625 48.1875 47.75 41.5 \n",
       "Q 54.890625 34.8125 54.890625 23.390625 \n",
       "Q 54.890625 11.625 47.5625 5.09375 \n",
       "Q 40.234375 -1.421875 26.90625 -1.421875 \n",
       "Q 22.3125 -1.421875 17.546875 -0.640625 \n",
       "Q 12.796875 0.140625 7.71875 1.703125 \n",
       "L 7.71875 11.625 \n",
       "Q 12.109375 9.234375 16.796875 8.0625 \n",
       "Q 21.484375 6.890625 26.703125 6.890625 \n",
       "Q 35.15625 6.890625 40.078125 11.328125 \n",
       "Q 45.015625 15.765625 45.015625 23.390625 \n",
       "Q 45.015625 31 40.078125 35.4375 \n",
       "Q 35.15625 39.890625 26.703125 39.890625 \n",
       "Q 22.75 39.890625 18.8125 39.015625 \n",
       "Q 14.890625 38.140625 10.796875 36.28125 \n",
       "z\n",
       "\" id=\"DejaVuSans-53\"/>\n",
       "       </defs>\n",
       "       <use xlink:href=\"#DejaVuSans-48\"/>\n",
       "       <use x=\"63.623047\" xlink:href=\"#DejaVuSans-46\"/>\n",
       "       <use x=\"95.410156\" xlink:href=\"#DejaVuSans-48\"/>\n",
       "       <use x=\"159.033203\" xlink:href=\"#DejaVuSans-48\"/>\n",
       "       <use x=\"222.65625\" xlink:href=\"#DejaVuSans-55\"/>\n",
       "       <use x=\"286.279297\" xlink:href=\"#DejaVuSans-53\"/>\n",
       "       <use x=\"349.902344\" xlink:href=\"#DejaVuSans-48\"/>\n",
       "      </g>\n",
       "     </g>\n",
       "    </g>\n",
       "    <g id=\"ytick_2\">\n",
       "     <g id=\"line2d_7\">\n",
       "      <g>\n",
       "       <use style=\"stroke:#000000;stroke-width:0.8;\" x=\"69.23125\" xlink:href=\"#me9ea087551\" y=\"177.219938\"/>\n",
       "      </g>\n",
       "     </g>\n",
       "     <g id=\"text_8\">\n",
       "      <!-- 0.00775 -->\n",
       "      <g transform=\"translate(20.878125 181.019157)scale(0.1 -0.1)\">\n",
       "       <use xlink:href=\"#DejaVuSans-48\"/>\n",
       "       <use x=\"63.623047\" xlink:href=\"#DejaVuSans-46\"/>\n",
       "       <use x=\"95.410156\" xlink:href=\"#DejaVuSans-48\"/>\n",
       "       <use x=\"159.033203\" xlink:href=\"#DejaVuSans-48\"/>\n",
       "       <use x=\"222.65625\" xlink:href=\"#DejaVuSans-55\"/>\n",
       "       <use x=\"286.279297\" xlink:href=\"#DejaVuSans-55\"/>\n",
       "       <use x=\"349.902344\" xlink:href=\"#DejaVuSans-53\"/>\n",
       "      </g>\n",
       "     </g>\n",
       "    </g>\n",
       "    <g id=\"ytick_3\">\n",
       "     <g id=\"line2d_8\">\n",
       "      <g>\n",
       "       <use style=\"stroke:#000000;stroke-width:0.8;\" x=\"69.23125\" xlink:href=\"#me9ea087551\" y=\"149.946795\"/>\n",
       "      </g>\n",
       "     </g>\n",
       "     <g id=\"text_9\">\n",
       "      <!-- 0.00800 -->\n",
       "      <g transform=\"translate(20.878125 153.746014)scale(0.1 -0.1)\">\n",
       "       <use xlink:href=\"#DejaVuSans-48\"/>\n",
       "       <use x=\"63.623047\" xlink:href=\"#DejaVuSans-46\"/>\n",
       "       <use x=\"95.410156\" xlink:href=\"#DejaVuSans-48\"/>\n",
       "       <use x=\"159.033203\" xlink:href=\"#DejaVuSans-48\"/>\n",
       "       <use x=\"222.65625\" xlink:href=\"#DejaVuSans-56\"/>\n",
       "       <use x=\"286.279297\" xlink:href=\"#DejaVuSans-48\"/>\n",
       "       <use x=\"349.902344\" xlink:href=\"#DejaVuSans-48\"/>\n",
       "      </g>\n",
       "     </g>\n",
       "    </g>\n",
       "    <g id=\"ytick_4\">\n",
       "     <g id=\"line2d_9\">\n",
       "      <g>\n",
       "       <use style=\"stroke:#000000;stroke-width:0.8;\" x=\"69.23125\" xlink:href=\"#me9ea087551\" y=\"122.673652\"/>\n",
       "      </g>\n",
       "     </g>\n",
       "     <g id=\"text_10\">\n",
       "      <!-- 0.00825 -->\n",
       "      <g transform=\"translate(20.878125 126.47287)scale(0.1 -0.1)\">\n",
       "       <use xlink:href=\"#DejaVuSans-48\"/>\n",
       "       <use x=\"63.623047\" xlink:href=\"#DejaVuSans-46\"/>\n",
       "       <use x=\"95.410156\" xlink:href=\"#DejaVuSans-48\"/>\n",
       "       <use x=\"159.033203\" xlink:href=\"#DejaVuSans-48\"/>\n",
       "       <use x=\"222.65625\" xlink:href=\"#DejaVuSans-56\"/>\n",
       "       <use x=\"286.279297\" xlink:href=\"#DejaVuSans-50\"/>\n",
       "       <use x=\"349.902344\" xlink:href=\"#DejaVuSans-53\"/>\n",
       "      </g>\n",
       "     </g>\n",
       "    </g>\n",
       "    <g id=\"ytick_5\">\n",
       "     <g id=\"line2d_10\">\n",
       "      <g>\n",
       "       <use style=\"stroke:#000000;stroke-width:0.8;\" x=\"69.23125\" xlink:href=\"#me9ea087551\" y=\"95.400508\"/>\n",
       "      </g>\n",
       "     </g>\n",
       "     <g id=\"text_11\">\n",
       "      <!-- 0.00850 -->\n",
       "      <g transform=\"translate(20.878125 99.199727)scale(0.1 -0.1)\">\n",
       "       <use xlink:href=\"#DejaVuSans-48\"/>\n",
       "       <use x=\"63.623047\" xlink:href=\"#DejaVuSans-46\"/>\n",
       "       <use x=\"95.410156\" xlink:href=\"#DejaVuSans-48\"/>\n",
       "       <use x=\"159.033203\" xlink:href=\"#DejaVuSans-48\"/>\n",
       "       <use x=\"222.65625\" xlink:href=\"#DejaVuSans-56\"/>\n",
       "       <use x=\"286.279297\" xlink:href=\"#DejaVuSans-53\"/>\n",
       "       <use x=\"349.902344\" xlink:href=\"#DejaVuSans-48\"/>\n",
       "      </g>\n",
       "     </g>\n",
       "    </g>\n",
       "    <g id=\"ytick_6\">\n",
       "     <g id=\"line2d_11\">\n",
       "      <g>\n",
       "       <use style=\"stroke:#000000;stroke-width:0.8;\" x=\"69.23125\" xlink:href=\"#me9ea087551\" y=\"68.127365\"/>\n",
       "      </g>\n",
       "     </g>\n",
       "     <g id=\"text_12\">\n",
       "      <!-- 0.00875 -->\n",
       "      <g transform=\"translate(20.878125 71.926584)scale(0.1 -0.1)\">\n",
       "       <use xlink:href=\"#DejaVuSans-48\"/>\n",
       "       <use x=\"63.623047\" xlink:href=\"#DejaVuSans-46\"/>\n",
       "       <use x=\"95.410156\" xlink:href=\"#DejaVuSans-48\"/>\n",
       "       <use x=\"159.033203\" xlink:href=\"#DejaVuSans-48\"/>\n",
       "       <use x=\"222.65625\" xlink:href=\"#DejaVuSans-56\"/>\n",
       "       <use x=\"286.279297\" xlink:href=\"#DejaVuSans-55\"/>\n",
       "       <use x=\"349.902344\" xlink:href=\"#DejaVuSans-53\"/>\n",
       "      </g>\n",
       "     </g>\n",
       "    </g>\n",
       "    <g id=\"ytick_7\">\n",
       "     <g id=\"line2d_12\">\n",
       "      <g>\n",
       "       <use style=\"stroke:#000000;stroke-width:0.8;\" x=\"69.23125\" xlink:href=\"#me9ea087551\" y=\"40.854221\"/>\n",
       "      </g>\n",
       "     </g>\n",
       "     <g id=\"text_13\">\n",
       "      <!-- 0.00900 -->\n",
       "      <g transform=\"translate(20.878125 44.65344)scale(0.1 -0.1)\">\n",
       "       <defs>\n",
       "        <path d=\"M 10.984375 1.515625 \n",
       "L 10.984375 10.5 \n",
       "Q 14.703125 8.734375 18.5 7.8125 \n",
       "Q 22.3125 6.890625 25.984375 6.890625 \n",
       "Q 35.75 6.890625 40.890625 13.453125 \n",
       "Q 46.046875 20.015625 46.78125 33.40625 \n",
       "Q 43.953125 29.203125 39.59375 26.953125 \n",
       "Q 35.25 24.703125 29.984375 24.703125 \n",
       "Q 19.046875 24.703125 12.671875 31.3125 \n",
       "Q 6.296875 37.9375 6.296875 49.421875 \n",
       "Q 6.296875 60.640625 12.9375 67.421875 \n",
       "Q 19.578125 74.21875 30.609375 74.21875 \n",
       "Q 43.265625 74.21875 49.921875 64.515625 \n",
       "Q 56.59375 54.828125 56.59375 36.375 \n",
       "Q 56.59375 19.140625 48.40625 8.859375 \n",
       "Q 40.234375 -1.421875 26.421875 -1.421875 \n",
       "Q 22.703125 -1.421875 18.890625 -0.6875 \n",
       "Q 15.09375 0.046875 10.984375 1.515625 \n",
       "z\n",
       "M 30.609375 32.421875 \n",
       "Q 37.25 32.421875 41.125 36.953125 \n",
       "Q 45.015625 41.5 45.015625 49.421875 \n",
       "Q 45.015625 57.28125 41.125 61.84375 \n",
       "Q 37.25 66.40625 30.609375 66.40625 \n",
       "Q 23.96875 66.40625 20.09375 61.84375 \n",
       "Q 16.21875 57.28125 16.21875 49.421875 \n",
       "Q 16.21875 41.5 20.09375 36.953125 \n",
       "Q 23.96875 32.421875 30.609375 32.421875 \n",
       "z\n",
       "\" id=\"DejaVuSans-57\"/>\n",
       "       </defs>\n",
       "       <use xlink:href=\"#DejaVuSans-48\"/>\n",
       "       <use x=\"63.623047\" xlink:href=\"#DejaVuSans-46\"/>\n",
       "       <use x=\"95.410156\" xlink:href=\"#DejaVuSans-48\"/>\n",
       "       <use x=\"159.033203\" xlink:href=\"#DejaVuSans-48\"/>\n",
       "       <use x=\"222.65625\" xlink:href=\"#DejaVuSans-57\"/>\n",
       "       <use x=\"286.279297\" xlink:href=\"#DejaVuSans-48\"/>\n",
       "       <use x=\"349.902344\" xlink:href=\"#DejaVuSans-48\"/>\n",
       "      </g>\n",
       "     </g>\n",
       "    </g>\n",
       "    <g id=\"ytick_8\">\n",
       "     <g id=\"line2d_13\">\n",
       "      <g>\n",
       "       <use style=\"stroke:#000000;stroke-width:0.8;\" x=\"69.23125\" xlink:href=\"#me9ea087551\" y=\"13.581078\"/>\n",
       "      </g>\n",
       "     </g>\n",
       "     <g id=\"text_14\">\n",
       "      <!-- 0.00925 -->\n",
       "      <g transform=\"translate(20.878125 17.380297)scale(0.1 -0.1)\">\n",
       "       <use xlink:href=\"#DejaVuSans-48\"/>\n",
       "       <use x=\"63.623047\" xlink:href=\"#DejaVuSans-46\"/>\n",
       "       <use x=\"95.410156\" xlink:href=\"#DejaVuSans-48\"/>\n",
       "       <use x=\"159.033203\" xlink:href=\"#DejaVuSans-48\"/>\n",
       "       <use x=\"222.65625\" xlink:href=\"#DejaVuSans-57\"/>\n",
       "       <use x=\"286.279297\" xlink:href=\"#DejaVuSans-50\"/>\n",
       "       <use x=\"349.902344\" xlink:href=\"#DejaVuSans-53\"/>\n",
       "      </g>\n",
       "     </g>\n",
       "    </g>\n",
       "    <g id=\"text_15\">\n",
       "     <!-- loss -->\n",
       "     <g transform=\"translate(14.798437 125.577812)rotate(-90)scale(0.1 -0.1)\">\n",
       "      <defs>\n",
       "       <path d=\"M 9.421875 75.984375 \n",
       "L 18.40625 75.984375 \n",
       "L 18.40625 0 \n",
       "L 9.421875 0 \n",
       "z\n",
       "\" id=\"DejaVuSans-108\"/>\n",
       "       <path d=\"M 44.28125 53.078125 \n",
       "L 44.28125 44.578125 \n",
       "Q 40.484375 46.53125 36.375 47.5 \n",
       "Q 32.28125 48.484375 27.875 48.484375 \n",
       "Q 21.1875 48.484375 17.84375 46.4375 \n",
       "Q 14.5 44.390625 14.5 40.28125 \n",
       "Q 14.5 37.15625 16.890625 35.375 \n",
       "Q 19.28125 33.59375 26.515625 31.984375 \n",
       "L 29.59375 31.296875 \n",
       "Q 39.15625 29.25 43.1875 25.515625 \n",
       "Q 47.21875 21.78125 47.21875 15.09375 \n",
       "Q 47.21875 7.46875 41.1875 3.015625 \n",
       "Q 35.15625 -1.421875 24.609375 -1.421875 \n",
       "Q 20.21875 -1.421875 15.453125 -0.5625 \n",
       "Q 10.6875 0.296875 5.421875 2 \n",
       "L 5.421875 11.28125 \n",
       "Q 10.40625 8.6875 15.234375 7.390625 \n",
       "Q 20.0625 6.109375 24.8125 6.109375 \n",
       "Q 31.15625 6.109375 34.5625 8.28125 \n",
       "Q 37.984375 10.453125 37.984375 14.40625 \n",
       "Q 37.984375 18.0625 35.515625 20.015625 \n",
       "Q 33.0625 21.96875 24.703125 23.78125 \n",
       "L 21.578125 24.515625 \n",
       "Q 13.234375 26.265625 9.515625 29.90625 \n",
       "Q 5.8125 33.546875 5.8125 39.890625 \n",
       "Q 5.8125 47.609375 11.28125 51.796875 \n",
       "Q 16.75 56 26.8125 56 \n",
       "Q 31.78125 56 36.171875 55.265625 \n",
       "Q 40.578125 54.546875 44.28125 53.078125 \n",
       "z\n",
       "\" id=\"DejaVuSans-115\"/>\n",
       "      </defs>\n",
       "      <use xlink:href=\"#DejaVuSans-108\"/>\n",
       "      <use x=\"27.783203\" xlink:href=\"#DejaVuSans-111\"/>\n",
       "      <use x=\"88.964844\" xlink:href=\"#DejaVuSans-115\"/>\n",
       "      <use x=\"141.064453\" xlink:href=\"#DejaVuSans-115\"/>\n",
       "     </g>\n",
       "    </g>\n",
       "   </g>\n",
       "   <g id=\"line2d_14\">\n",
       "    <path clip-path=\"url(#p1eb2ebfc63)\" d=\"M 84.449432 78.31859 \n",
       "L 114.885795 164.412818 \n",
       "L 145.322159 139.828372 \n",
       "L 175.758523 214.756364 \n",
       "L 206.194886 187.083774 \n",
       "L 236.63125 96.741786 \n",
       "L 267.067614 150.378961 \n",
       "L 297.503977 214.254255 \n",
       "L 327.940341 94.01981 \n",
       "L 358.376705 187.792386 \n",
       "L 388.813068 17.083636 \n",
       "\" style=\"fill:none;stroke:#1f77b4;stroke-linecap:square;stroke-width:2;\"/>\n",
       "   </g>\n",
       "   <g id=\"patch_3\">\n",
       "    <path d=\"M 69.23125 224.64 \n",
       "L 69.23125 7.2 \n",
       "\" style=\"fill:none;stroke:#000000;stroke-linecap:square;stroke-linejoin:miter;stroke-width:0.8;\"/>\n",
       "   </g>\n",
       "   <g id=\"patch_4\">\n",
       "    <path d=\"M 404.03125 224.64 \n",
       "L 404.03125 7.2 \n",
       "\" style=\"fill:none;stroke:#000000;stroke-linecap:square;stroke-linejoin:miter;stroke-width:0.8;\"/>\n",
       "   </g>\n",
       "   <g id=\"patch_5\">\n",
       "    <path d=\"M 69.23125 224.64 \n",
       "L 404.03125 224.64 \n",
       "\" style=\"fill:none;stroke:#000000;stroke-linecap:square;stroke-linejoin:miter;stroke-width:0.8;\"/>\n",
       "   </g>\n",
       "   <g id=\"patch_6\">\n",
       "    <path d=\"M 69.23125 7.2 \n",
       "L 404.03125 7.2 \n",
       "\" style=\"fill:none;stroke:#000000;stroke-linecap:square;stroke-linejoin:miter;stroke-width:0.8;\"/>\n",
       "   </g>\n",
       "   <g id=\"legend_1\">\n",
       "    <g id=\"patch_7\">\n",
       "     <path d=\"M 76.23125 29.878125 \n",
       "L 154.50625 29.878125 \n",
       "Q 156.50625 29.878125 156.50625 27.878125 \n",
       "L 156.50625 14.2 \n",
       "Q 156.50625 12.2 154.50625 12.2 \n",
       "L 76.23125 12.2 \n",
       "Q 74.23125 12.2 74.23125 14.2 \n",
       "L 74.23125 27.878125 \n",
       "Q 74.23125 29.878125 76.23125 29.878125 \n",
       "z\n",
       "\" style=\"fill:#ffffff;opacity:0.8;stroke:#cccccc;stroke-linejoin:miter;\"/>\n",
       "    </g>\n",
       "    <g id=\"line2d_15\">\n",
       "     <path d=\"M 78.23125 20.298437 \n",
       "L 98.23125 20.298437 \n",
       "\" style=\"fill:none;stroke:#1f77b4;stroke-linecap:square;stroke-width:2;\"/>\n",
       "    </g>\n",
       "    <g id=\"line2d_16\"/>\n",
       "    <g id=\"text_16\">\n",
       "     <!-- loss level -->\n",
       "     <g transform=\"translate(106.23125 23.798437)scale(0.1 -0.1)\">\n",
       "      <defs>\n",
       "       <path id=\"DejaVuSans-32\"/>\n",
       "       <path d=\"M 2.984375 54.6875 \n",
       "L 12.5 54.6875 \n",
       "L 29.59375 8.796875 \n",
       "L 46.6875 54.6875 \n",
       "L 56.203125 54.6875 \n",
       "L 35.6875 0 \n",
       "L 23.484375 0 \n",
       "z\n",
       "\" id=\"DejaVuSans-118\"/>\n",
       "      </defs>\n",
       "      <use xlink:href=\"#DejaVuSans-108\"/>\n",
       "      <use x=\"27.783203\" xlink:href=\"#DejaVuSans-111\"/>\n",
       "      <use x=\"88.964844\" xlink:href=\"#DejaVuSans-115\"/>\n",
       "      <use x=\"141.064453\" xlink:href=\"#DejaVuSans-115\"/>\n",
       "      <use x=\"193.164062\" xlink:href=\"#DejaVuSans-32\"/>\n",
       "      <use x=\"224.951172\" xlink:href=\"#DejaVuSans-108\"/>\n",
       "      <use x=\"252.734375\" xlink:href=\"#DejaVuSans-101\"/>\n",
       "      <use x=\"314.257812\" xlink:href=\"#DejaVuSans-118\"/>\n",
       "      <use x=\"373.4375\" xlink:href=\"#DejaVuSans-101\"/>\n",
       "      <use x=\"434.960938\" xlink:href=\"#DejaVuSans-108\"/>\n",
       "     </g>\n",
       "    </g>\n",
       "   </g>\n",
       "  </g>\n",
       " </g>\n",
       " <defs>\n",
       "  <clipPath id=\"p1eb2ebfc63\">\n",
       "   <rect height=\"217.44\" width=\"334.8\" x=\"69.23125\" y=\"7.2\"/>\n",
       "  </clipPath>\n",
       " </defs>\n",
       "</svg>\n"
      ],
      "text/plain": [
       "<Figure size 432x288 with 1 Axes>"
      ]
     },
     "metadata": {
      "needs_background": "light"
     },
     "output_type": "display_data"
    }
   ],
   "source": [
    "plt.figure()\n",
    "plot_idx = np.arange(np.size(loss_optm))\n",
    "plt.plot(plot_idx[3:-1],loss_optm[3:-1],lw=2,label='loss level')\n",
    "plt.xlabel('epoch')\n",
    "plt.ylabel('loss')\n",
    "plt.legend()\n",
    "plt.show(block=False)"
   ]
  },
  {
   "cell_type": "markdown",
   "metadata": {
    "colab_type": "text",
    "id": "iF-gZIOko2Jd"
   },
   "source": [
    "## Step 4. Validation\n",
    "**Validate the trained model using the test set**"
   ]
  },
  {
   "cell_type": "markdown",
   "metadata": {
    "colab_type": "text",
    "id": "2uCp3fEEFGCv"
   },
   "source": [
    "When a model is trained, we can use the following method to evaluate the performance of the model on the test dataset:"
   ]
  },
  {
   "cell_type": "code",
   "execution_count": 22,
   "metadata": {
    "colab": {},
    "colab_type": "code",
    "id": "nrhVrVUb0d2t",
    "tags": []
   },
   "outputs": [
    {
     "name": "stdout",
     "output_type": "stream",
     "text": [
      "torch.Size([24, 1, 1200])\n"
     ]
    }
   ],
   "source": [
    "# Generate one data pt. for testing the trained model\n",
    "def get_xy_test(index):\n",
    "    tempx=np.array([np.transpose(x_test)[index]])\n",
    "    x_train_one=torch.from_numpy(tempx).float()\n",
    "    x_train_one=x_train_one.transpose(0,1)\n",
    "\n",
    "    tempy=np.array([np.transpose(y_test)[index]])\n",
    "    y_train_one=torch.from_numpy(tempy).float()\n",
    "    y_train_one=y_train_one.transpose(0,1)\n",
    "\n",
    "    return x_train_one,y_train_one\n",
    "\n",
    "# generate torch y_train for concatenated obj\n",
    "y_test1 = torch.from_numpy(y_test)#.float()\n",
    "# expand into 3d tensor \n",
    "y_test1.unsqueeze_(-1)\n",
    "y_test1 = y_test1.expand(n_bus,n_test,1)\n",
    "y_test1 = y_test1.transpose(2,1)\n",
    "print(y_test1.shape)"
   ]
  },
  {
   "cell_type": "code",
   "execution_count": 23,
   "metadata": {
    "colab": {},
    "colab_type": "code",
    "id": "C5PBICs8E51B"
   },
   "outputs": [],
   "source": [
    "# model evaluation function\n",
    "def evaluate(model, g, features, labels, n, I):\n",
    "    model.eval()\n",
    "    with torch.no_grad():\n",
    "      indices = torch.tensor(np.zeros((n_bus,1,n)))\n",
    "      for sample in range(n):\n",
    "        x_sample,y_sample=get_xy_test(sample)\n",
    "        logits = model(g, I, x_sample)\n",
    "        logp = logits\n",
    "        # logp = torch.sigmoid(logits)\n",
    "        # logp = F.log_softmax(logits, 1)\n",
    "        # _, indices1 = torch.max(logp, dim=1)\n",
    "        indices[:,:,sample] = logp.clone()\n",
    "\n",
    "      # correct = torch.sum(indices == labels)\n",
    "      # return correct.item() * 1.0 / len(labels)\n",
    "      return indices"
   ]
  },
  {
   "cell_type": "code",
   "execution_count": 24,
   "metadata": {
    "colab": {},
    "colab_type": "code",
    "id": "L5VvNfm_cFMD",
    "tags": []
   },
   "outputs": [
    {
     "name": "stdout",
     "output_type": "stream",
     "text": [
      "(24, 1200)\n",
      "torch.Size([24, 1, 1200])\n"
     ]
    }
   ],
   "source": [
    "print(x_test.shape)\n",
    "print(y_test1.shape)"
   ]
  },
  {
   "cell_type": "code",
   "execution_count": 25,
   "metadata": {
    "colab": {},
    "colab_type": "code",
    "id": "YrE4bhDc64fK"
   },
   "outputs": [],
   "source": [
    "# make predictions\n",
    "indices = evaluate(net, G, x_test, y_test1,n_test, I_bus)\n",
    "# test_acc = evaluate(net, G, x_test, y_test1,n_test)\n",
    "# print(\"Epoch_last {:05d} | Loss {:.4f} | Test Acc {:.4f}\".format(epoch, loss.item(), test_acc))"
   ]
  },
  {
   "cell_type": "code",
   "execution_count": 26,
   "metadata": {
    "colab": {},
    "colab_type": "code",
    "id": "S7QRkoh8b1cm",
    "tags": []
   },
   "outputs": [
    {
     "name": "stdout",
     "output_type": "stream",
     "text": [
      "L_infty mean:  0.4356632132296591\n",
      "L_1 mean:  1.5227703809037367\n",
      "0.05828738212585449 29\n",
      "0.45503627965421556 1117\n"
     ]
    }
   ],
   "source": [
    "y_test0 = y_test1.numpy().copy()\n",
    "y_pred0 = indices.numpy().copy()\n",
    "\n",
    "L_infty_err = []\n",
    "L1_err = []\n",
    "for i in range(n_test):\n",
    "  L_infty_err.append(np.max(np.abs(y_test0[:,:,i]-y_pred0[:,:,i])))\n",
    "  L1_err.append(np.sum(np.abs(y_test0[:,:,i]-y_pred0[:,:,i])))\n",
    "print('L_infty mean: ',np.mean(L_infty_err))\n",
    "print('L_1 mean: ',np.mean(L1_err))\n",
    " \n",
    "val, idx = min((val, idx) for (idx, val) in enumerate(L_infty_err))\n",
    "print(val,idx)\n",
    "# print('L_inf sample: \\n',y_test[:,:,idx])\n",
    "# print(y_pred[:,:,idx])\n",
    "val1, idx1 = min((val, idx) for (idx, val) in enumerate(L1_err))\n",
    "print(val1,idx1)\n",
    "# print('L1 sample: \\n',y_test[:,:,idx1])\n",
    "# print(y_pred[:,:,idx1])"
   ]
  },
  {
   "cell_type": "code",
   "execution_count": 27,
   "metadata": {
    "colab": {},
    "colab_type": "code",
    "id": "CW9qX0nGgoS_",
    "tags": []
   },
   "outputs": [
    {
     "name": "stdout",
     "output_type": "stream",
     "text": [
      "(24, 6000)\n",
      "(24, 6000)\n"
     ]
    }
   ],
   "source": [
    "print(load_data[0:n_bus,:].shape)\n",
    "print(y0[0:n_bus,0:n_sample].shape)"
   ]
  },
  {
   "cell_type": "code",
   "execution_count": 28,
   "metadata": {
    "colab": {},
    "colab_type": "code",
    "id": "3pQ1v0b58NRH"
   },
   "outputs": [],
   "source": [
    "# Save the predictions for other training/evaluation jobs\n",
    "\n",
    "\n",
    "# import pprint\n",
    "# from os import path\n",
    "#\n",
    "# from datetime import datetime\n",
    "# from packaging import version\n",
    "\n",
    "def save_dataset(test_case, dataset):\n",
    "    file_name = test_case.split('.')[0]\n",
    "    file_path = 'drive/My Drive/gnn/numerical_results/'\n",
    "    file_dir = file_path + file_name + '.pickle'\n",
    "    outfile = open(file_dir, 'wb')\n",
    "    pickle.dump(dataset, outfile)\n",
    "    outfile.close()\n",
    "\n",
    "def get_xy_eval(index):\n",
    "    tempx=np.array([np.transpose(load_data[0:n_bus,:])[index]])\n",
    "    x_train_one=torch.from_numpy(tempx).float()\n",
    "    x_train_one=x_train_one.transpose(0,1)\n",
    "\n",
    "    return x_train_one\n",
    "\n",
    "def model_eval(model, g, features, n, I):\n",
    "    model.eval()\n",
    "    with torch.no_grad():\n",
    "      indices = torch.tensor(np.zeros((n_bus,1,n)))\n",
    "      for sample in range(n):\n",
    "        x_sample=get_xy_eval(sample)\n",
    "        logits = model(g, I, x_sample)\n",
    "        logp = logits\n",
    "        indices[:,:,sample] = logp.clone()\n",
    "\n",
    "      return indices\n",
    "\n",
    "indices = model_eval(net, G, load_data[0:n_bus,:], n_sample, I_bus)"
   ]
  },
  {
   "cell_type": "code",
   "execution_count": 25,
   "metadata": {
    "colab": {},
    "colab_type": "code",
    "id": "NdH_Svt5js05"
   },
   "outputs": [
    {
     "name": "stdout",
     "output_type": "stream",
     "text": [
      "torch.Size([24, 1, 6000])\n"
     ]
    },
    {
     "name": "stderr",
     "output_type": "stream",
     "text": [
      "/Users/jeehyunpark/anaconda3/envs/GNN4OPF/lib/python3.7/site-packages/ipykernel_launcher.py:5: RuntimeWarning: invalid value encountered in true_divide\n",
      "  \"\"\"\n"
     ]
    },
    {
     "ename": "FileNotFoundError",
     "evalue": "[Errno 2] No such file or directory: 'drive/My Drive/gnn/numerical_results/GNN_24bus_gen_prediction_copy_new.pickle'",
     "output_type": "error",
     "traceback": [
      "\u001b[0;31m---------------------------------------------------------------------------\u001b[0m",
      "\u001b[0;31mFileNotFoundError\u001b[0m                         Traceback (most recent call last)",
      "\u001b[0;32m<ipython-input-25-91d84198b4fd>\u001b[0m in \u001b[0;36m<module>\u001b[0;34m\u001b[0m\n\u001b[1;32m     13\u001b[0m \u001b[0;31m# print(dataset)\u001b[0m\u001b[0;34m\u001b[0m\u001b[0;34m\u001b[0m\u001b[0;34m\u001b[0m\u001b[0m\n\u001b[1;32m     14\u001b[0m \u001b[0mfilename\u001b[0m \u001b[0;34m=\u001b[0m \u001b[0;34m'GNN_24bus_gen_prediction_copy_new'\u001b[0m\u001b[0;34m\u001b[0m\u001b[0;34m\u001b[0m\u001b[0m\n\u001b[0;32m---> 15\u001b[0;31m \u001b[0msave_dataset\u001b[0m\u001b[0;34m(\u001b[0m\u001b[0mfilename\u001b[0m\u001b[0;34m,\u001b[0m \u001b[0mdataset\u001b[0m\u001b[0;34m)\u001b[0m\u001b[0;34m\u001b[0m\u001b[0;34m\u001b[0m\u001b[0m\n\u001b[0m\u001b[1;32m     16\u001b[0m \u001b[0;34m\u001b[0m\u001b[0m\n",
      "\u001b[0;32m<ipython-input-24-a3117fbc61ed>\u001b[0m in \u001b[0;36msave_dataset\u001b[0;34m(test_case, dataset)\u001b[0m\n\u001b[1;32m     12\u001b[0m     \u001b[0mfile_path\u001b[0m \u001b[0;34m=\u001b[0m \u001b[0;34m'drive/My Drive/gnn/numerical_results/'\u001b[0m\u001b[0;34m\u001b[0m\u001b[0;34m\u001b[0m\u001b[0m\n\u001b[1;32m     13\u001b[0m     \u001b[0mfile_dir\u001b[0m \u001b[0;34m=\u001b[0m \u001b[0mfile_path\u001b[0m \u001b[0;34m+\u001b[0m \u001b[0mfile_name\u001b[0m \u001b[0;34m+\u001b[0m \u001b[0;34m'.pickle'\u001b[0m\u001b[0;34m\u001b[0m\u001b[0;34m\u001b[0m\u001b[0m\n\u001b[0;32m---> 14\u001b[0;31m     \u001b[0moutfile\u001b[0m \u001b[0;34m=\u001b[0m \u001b[0mopen\u001b[0m\u001b[0;34m(\u001b[0m\u001b[0mfile_dir\u001b[0m\u001b[0;34m,\u001b[0m \u001b[0;34m'wb'\u001b[0m\u001b[0;34m)\u001b[0m\u001b[0;34m\u001b[0m\u001b[0;34m\u001b[0m\u001b[0m\n\u001b[0m\u001b[1;32m     15\u001b[0m     \u001b[0mpickle\u001b[0m\u001b[0;34m.\u001b[0m\u001b[0mdump\u001b[0m\u001b[0;34m(\u001b[0m\u001b[0mdataset\u001b[0m\u001b[0;34m,\u001b[0m \u001b[0moutfile\u001b[0m\u001b[0;34m)\u001b[0m\u001b[0;34m\u001b[0m\u001b[0;34m\u001b[0m\u001b[0m\n\u001b[1;32m     16\u001b[0m     \u001b[0moutfile\u001b[0m\u001b[0;34m.\u001b[0m\u001b[0mclose\u001b[0m\u001b[0;34m(\u001b[0m\u001b[0;34m)\u001b[0m\u001b[0;34m\u001b[0m\u001b[0;34m\u001b[0m\u001b[0m\n",
      "\u001b[0;31mFileNotFoundError\u001b[0m: [Errno 2] No such file or directory: 'drive/My Drive/gnn/numerical_results/GNN_24bus_gen_prediction_copy_new.pickle'"
     ]
    }
   ],
   "source": [
    "# generation prediction by GNN model\n",
    "print(indices.shape)\n",
    "gen_pred_norm = indices.numpy().copy()\n",
    "\n",
    "y0[j,i] = np.divide(gen_exact[j,i]-gen_low_limit[j],gen_up_limit[j]-gen_low_limit[j])\n",
    "\n",
    "gen_pred = np.zeros((n_bus,n_sample))\n",
    "for i in range(n_sample):\n",
    "  for j in range(n_bus):\n",
    "    gen_pred[j,i] = indices[j,0,i] * (gen_up_limit[j]-gen_low_limit[j]) + gen_low_limit[j]\n",
    "\n",
    "dataset = {'pred': gen_pred}\n",
    "# print(dataset)\n",
    "filename = 'GNN_24bus_gen_prediction_copy_new'\n",
    "save_dataset(filename, dataset)"
   ]
  },
  {
   "cell_type": "code",
   "execution_count": null,
   "metadata": {
    "colab": {},
    "colab_type": "code",
    "id": "lZ5hVfqjde3z"
   },
   "outputs": [],
   "source": [
    "for i in range(10):\n",
    "  print(np.sum(x_train[:,i]),np.sum(gen_pred[:,i]))\n",
    "# print(np.sum(gen_pred[:,1]))"
   ]
  },
  {
   "cell_type": "code",
   "execution_count": null,
   "metadata": {
    "colab": {},
    "colab_type": "code",
    "id": "0h31WYc4LtTG"
   },
   "outputs": [],
   "source": [
    "# Evaluate the prediction accuracy by relative error\n",
    "acc_threshold1 = 0.05\n",
    "acc_threshold = 0.1\n",
    "\n",
    "acc_count = 0\n",
    "acc_count1 = 0\n",
    "for i in range(24):\n",
    "  if np.abs(y_test0[i,:,idx]) > 0:\n",
    "    if np.abs(y_test0[i,:,idx]-y_pred0[i,:,idx])/np.abs(y_test0[i,:,idx]) < acc_threshold or np.abs(y_test0[i,:,idx]-y_pred0[i,:,idx]) < acc_threshold1:\n",
    "        acc_count = acc_count+1\n",
    "    if np.abs(y_test0[i,:,idx1]-y_pred0[i,:,idx1])/np.abs(y_test0[i,:,idx1]) < acc_threshold or np.abs(y_test0[i,:,idx1]-y_pred0[i,:,idx1]) < acc_threshold1:\n",
    "        acc_count1 = acc_count1+1\n",
    "  else:\n",
    "    if np.abs(y_test0[i,:,idx]-y_pred0[i,:,idx]) < acc_threshold1:\n",
    "        acc_count = acc_count+1\n",
    "    if np.abs(y_test0[i,:,idx1]-y_pred0[i,:,idx1]) < acc_threshold1:\n",
    "        acc_count1 = acc_count1+1\n",
    "print('most accurate L_inf: ',acc_count,'  L_1: ',acc_count1)\n",
    "\n",
    "\n",
    "acc_test = np.zeros(y_test0.shape[0])\n",
    "for j in range(y_test0.shape[0]):\n",
    "  acc_count = 0\n",
    "  for i in range(24):\n",
    "    if np.abs(y_test0[i,:,j]) > 0:\n",
    "      if np.abs(y_test0[i,:,j]-y_pred0[i,:,j])/np.abs(y_test0[i,:,j]) < acc_threshold or np.abs(y_test0[i,:,j]-y_pred0[i,:,j]) < acc_threshold1:\n",
    "          acc_count = acc_count+1\n",
    "    else:\n",
    "      if np.abs(y_test0[i,:,j]-y_pred0[i,:,j]) < acc_threshold1:\n",
    "          acc_count = acc_count+1\n",
    "  acc_test[j] = acc_count\n",
    "print('Mean accuracy: ',np.mean(acc_test)) "
   ]
  },
  {
   "cell_type": "code",
   "execution_count": null,
   "metadata": {
    "colab": {},
    "colab_type": "code",
    "id": "SzHeOYpbIZ41"
   },
   "outputs": [],
   "source": [
    "\n",
    "# for i in range(3):\n",
    "  # print('Prediction:',indices[:,:,i].transpose(0,1))\n",
    "  # print('Ture label:',y_test1[:,:,i].transpose(0,1))"
   ]
  },
  {
   "cell_type": "markdown",
   "metadata": {
    "colab_type": "text",
    "id": "eu4vxBiiG7IN"
   },
   "source": [
    "## Data visualization"
   ]
  },
  {
   "cell_type": "code",
   "execution_count": null,
   "metadata": {
    "colab": {},
    "colab_type": "code",
    "id": "kZIQUKv3G42U"
   },
   "outputs": [],
   "source": [
    "def result_reshape(data):\n",
    "    result_dim = math.ceil(math.sqrt(len(data)))\n",
    "    reshaped_data = np.zeros((result_dim, result_dim))\n",
    "\n",
    "    for i in range(result_dim):\n",
    "        for j in range(result_dim):\n",
    "            try:\n",
    "                reshaped_data[i][j] = data[result_dim * i + j]\n",
    "            except IndexError:\n",
    "                reshaped_data[i][j] = -1\n",
    "    return reshaped_data\n",
    "\n",
    "\n",
    "def test_vs_pred(y_test, y_pred,  data_idx, test_case):\n",
    "    y_test0 = y_test[:,:,data_idx]\n",
    "    y_pred0 = y_pred[:,:,data_idx]\n",
    "    y_test_reshaped = result_reshape(y_test0)\n",
    "    y_pred_reshaped = result_reshape(y_pred0)\n",
    "\n",
    "    fig, axes = plt.subplots(nrows=1, ncols=2, figsize=(16, 8))\n",
    "\n",
    "    fig.suptitle('Active Constraints Distribution: ' + test_case.split('.')[0], size=19, y=0.88)\n",
    "    axes[0].set_title('y_test', size=15, y=1.03)\n",
    "    axes[1].set_title('y_pred', size=15, y=1.03)\n",
    "    # axes[2].set_title('y_pred_binary', size=15, y=1.03)\n",
    "\n",
    "    sns.heatmap(y_test_reshaped,\n",
    "                xticklabels=False,\n",
    "                yticklabels=False,\n",
    "                cbar_kws={'ticks': [-1, 0, 1], 'shrink': .75},\n",
    "                square=True,\n",
    "                ax=axes[0])\n",
    "\n",
    "    sns.heatmap(y_pred_reshaped,\n",
    "                xticklabels=False,\n",
    "                yticklabels=False,\n",
    "                cbar_kws={'ticks': [-1, 0, 1], 'shrink': .75},\n",
    "                square=True,\n",
    "                ax=axes[1])\n",
    "    \n",
    "\n",
    "    fig.show()\n",
    "    # file_dir = path.join('drive/My Drive/OPF_Porject_EE394V_SPR2020-master/codes/experiments/figures/', test_case.split('.')[0] + '.png')\n",
    "    # fig.savefig(file_dir, format='png')"
   ]
  },
  {
   "cell_type": "code",
   "execution_count": null,
   "metadata": {
    "colab": {},
    "colab_type": "code",
    "id": "wrfl_miqWLip"
   },
   "outputs": [],
   "source": [
    "print(y_test1[:,:,1].transpose(0,1))\n",
    "print(indices[:,:,1].transpose(0,1))"
   ]
  },
  {
   "cell_type": "code",
   "execution_count": null,
   "metadata": {
    "colab": {},
    "colab_type": "code",
    "id": "LNlT68rcHGHV"
   },
   "outputs": [],
   "source": [
    "# y_test1.resize_((n_bus+n_line,n_test))\n",
    "# indices_int.resize_((n_bus+n_line,n_test))\n",
    "# indices.resize_((n_bus+n_line,n_test))\n",
    "\n",
    "test_cases = [\n",
    "    'pglib_opf_case24_ieee_rts.pickle', \n",
    "]\n",
    "\n",
    "data_idx = [7,10,33,55,64,78,96]\n",
    "data_idx = np.arange(10)\n",
    "# test_vs_pred(y_test, y_pred, data_idx, test_cases[case_idx])\n",
    "for i in range(len(data_idx)):\n",
    "  test_vs_pred(y_test1, indices, data_idx[i], test_cases[0])"
   ]
  },
  {
   "cell_type": "code",
   "execution_count": null,
   "metadata": {
    "pycharm": {
     "name": "#%%\n"
    }
   },
   "outputs": [],
   "source": []
  }
 ],
 "metadata": {
  "accelerator": "GPU",
  "colab": {
   "collapsed_sections": [],
   "name": "Copy of GNN_n2n_exact_gen_0831_copy.ipynb",
   "provenance": [
    {
     "file_id": "1yH55jcqo2EZ9wVWSiPdFfxyqbMTDEEpC",
     "timestamp": 1599494521560
    }
   ]
  },
  "kernelspec": {
   "display_name": "Python 3",
   "language": "python",
   "name": "python3"
  },
  "language_info": {
   "codemirror_mode": {
    "name": "ipython",
    "version": 3
   },
   "file_extension": ".py",
   "mimetype": "text/x-python",
   "name": "python",
   "nbconvert_exporter": "python",
   "pygments_lexer": "ipython3",
   "version": "3.8.5-final"
  },
  "toc": {
   "base_numbering": 1,
   "nav_menu": {},
   "number_sections": false,
   "sideBar": true,
   "skip_h1_title": false,
   "title_cell": "Table of Contents",
   "title_sidebar": "Contents",
   "toc_cell": false,
   "toc_position": {},
   "toc_section_display": true,
   "toc_window_display": true
  },
  "varInspector": {
   "cols": {
    "lenName": 16,
    "lenType": 16,
    "lenVar": 40
   },
   "kernels_config": {
    "python": {
     "delete_cmd_postfix": "",
     "delete_cmd_prefix": "del ",
     "library": "var_list.py",
     "varRefreshCmd": "print(var_dic_list())"
    },
    "r": {
     "delete_cmd_postfix": ") ",
     "delete_cmd_prefix": "rm(",
     "library": "var_list.r",
     "varRefreshCmd": "cat(var_dic_list()) "
    }
   },
   "types_to_exclude": [
    "module",
    "function",
    "builtin_function_or_method",
    "instance",
    "_Feature"
   ],
   "window_display": false
  }
 },
 "nbformat": 4,
 "nbformat_minor": 1
}