{
 "cells": [
  {
   "cell_type": "markdown",
   "metadata": {
    "colab_type": "text",
    "id": "dJ1P8LLwoCB-"
   },
   "source": [
    "# GNN for Optimal Generation Dispatch\n",
    "## IEEE 24-bus RTS system \n",
    "* System settings: 24 buses, 34 lines (concatenated from 38), 17 loads, 12 generating units on 10 buses.\n",
    "* Data: Currently we use a dataset with ~ 6000 samples, 80% used for training and 20% for validation."
   ]
  },
  {
   "source": [
    "# 0. Experiment env setting & import packages"
   ],
   "cell_type": "markdown",
   "metadata": {}
  },
  {
   "cell_type": "code",
   "execution_count": 1,
   "metadata": {
    "ExecuteTime": {
     "end_time": "2020-09-09T01:48:38.320098Z",
     "start_time": "2020-09-09T01:48:38.213795Z"
    },
    "pycharm": {
     "name": "#%%\n"
    }
   },
   "outputs": [],
   "source": [
    "# Check module 'dgl' is installed, if not, install the module\n",
    "import sys\n",
    "import subprocess\n",
    "import pkg_resources\n",
    "\n",
    "required = {'dgl'}\n",
    "installed = {pkg.key for pkg in pkg_resources.working_set}\n",
    "missing = required - installed\n",
    "\n",
    "if missing:\n",
    "    python = sys.executable\n",
    "    subprocess.check_call([python, '-m', 'pip', 'install', *missing], stdout=subprocess.DEVNULL)\n",
    "\n",
    "# !pip install dgl"
   ]
  },
  {
   "cell_type": "code",
   "execution_count": 2,
   "metadata": {
    "ExecuteTime": {
     "end_time": "2020-09-09T01:48:46.135670Z",
     "start_time": "2020-09-09T01:48:39.457696Z"
    },
    "pycharm": {
     "name": "#%%\n"
    },
    "tags": []
   },
   "outputs": [
    {
     "output_type": "stream",
     "name": "stderr",
     "text": "Using backend: pytorch\n"
    }
   ],
   "source": [
    "# Import necessary packages\n",
    "import dgl # graph convolution\n",
    "import numpy as np\n",
    "import pandas as pd\n",
    "import matplotlib.pyplot as plt\n",
    "import math\n",
    "import seaborn as sns\n",
    "import pickle\n",
    "\n",
    "import torch\n",
    "import torch.nn as nn\n",
    "import torch.nn.functional as F\n",
    "import torch.autograd.variable as Variable\n",
    "from torch.utils.data import Dataset, DataLoader\n",
    "\n",
    "from sklearn.model_selection import train_test_split\n",
    "from dgl.nn.pytorch.conv import GraphConv"
   ]
  },
  {
   "source": [
    "# 1. Dataset Preprocessing\n",
    "## 1.1 Load the dataset"
   ],
   "cell_type": "markdown",
   "metadata": {}
  },
  {
   "cell_type": "code",
   "execution_count": 3,
   "metadata": {},
   "outputs": [],
   "source": [
    "\n",
    "# @ G-drive env\n",
    "# from google.colab import drive\n",
    "# drive.mount('/content/drive')\n",
    "# filename = './drive/My Drive/Colab Notebooks/ieee24_rts_6183exact_0831.txt' # active level 0.1024(line0.0124), max active line 3\n",
    "\n",
    "# @ Local env\n",
    "filename = '../data/ieee24_rts_6183exact_0831.txt'  # active level 0.1024(line0.0124), max active line 3\n",
    "\n",
    "data = pd.read_table(filename, sep=',', header=None).to_numpy()"
   ]
  },
  {
   "source": [
    "## 1.2 Data preprocessing"
   ],
   "cell_type": "markdown",
   "metadata": {}
  },
  {
   "cell_type": "code",
   "execution_count": 4,
   "metadata": {
    "ExecuteTime": {
     "end_time": "2020-09-09T01:48:48.231369Z",
     "start_time": "2020-09-09T01:48:46.147790Z"
    },
    "colab": {},
    "colab_type": "code",
    "executionInfo": {
     "elapsed": 2753,
     "status": "ok",
     "timestamp": 1599495155465,
     "user": {
      "displayName": "Jeehyun Park",
      "photoUrl": "https://lh3.googleusercontent.com/a-/AOh14GizNw5DW2QVCa5vUMiz0MiTNIYXIkGzaDCp0Es2=s64",
      "userId": "14458427846939093236"
     },
     "user_tz": 300
    },
    "id": "RamArMRLoCC7"
   },
   "outputs": [],
   "source": [
    "# system size\n",
    "n_bus = int(data[0, 0].copy())\n",
    "n_line = int(data[1, 0].copy())\n",
    "n_load = int(data[2, 0].copy())\n",
    "n_sample = int(data[3, 0].copy())\n",
    "\n",
    "# line connection\n",
    "line_bus = data[:, 1:3].copy()\n",
    "\n",
    "# load and corresponding line data\n",
    "load_data0 = data[:, 3:n_sample + 3].copy()\n",
    "line_flow = data[:, n_sample + 3:2 * n_sample + 3].copy()\n",
    "bound_idx_low = data[:, 2 * n_sample + 3:3 * n_sample + 3].copy()\n",
    "bound_idx_up = data[:, 3 * n_sample + 3:4 * n_sample + 3].copy()\n",
    "bound_idx0 = bound_idx_up + bound_idx_low  # may use 'np.add(a,-b)' instead\n",
    "line_limit = data[:, 4 * n_sample + 3].copy()\n",
    "# print(line_limit)\n",
    "\n",
    "# generation data\n",
    "gen_exact = data[:, 4 * n_sample + 4:5 * n_sample + 4].copy()\n",
    "gen_low_limit = data[:, 5 * n_sample + 4].copy()\n",
    "gen_up_limit = data[:, 5 * n_sample + 5].copy()\n",
    "\n",
    "# normalize the generation data\n",
    "y0 = np.zeros((n_bus, n_sample))\n",
    "for i in range(n_sample):\n",
    "    # y0[:,i] = np.divide(line_flow[:,i],line_limit) # w/ direction\n",
    "    for j in range(n_bus):\n",
    "        if gen_up_limit[j] > 0:\n",
    "            y0[j, i] = np.divide(gen_exact[j, i] - gen_low_limit[j],\n",
    "                                 gen_up_limit[j] - gen_low_limit[j])\n",
    "        else:\n",
    "            y0[j, i] = 0\n",
    "            \n",
    "# check the normalization\n",
    "assert np.max(y0) <= 1.0 and np.min(y0) >= 0.0\n",
    "\n",
    "\n",
    "# % exact generation\n",
    "# data1(1:N,4*n+5:5*n+4) = gen_data;\n",
    "# % generation lower bound & upper bound\n",
    "# data1(1:N,5*n+5) = g_min;\n",
    "# data1(1:N,5*n+6) = g_max;\n"
   ]
  },
  {
   "source": [
    "# 1.2 Check the dataset"
   ],
   "cell_type": "markdown",
   "metadata": {}
  },
  {
   "cell_type": "code",
   "execution_count": 5,
   "metadata": {
    "colab": {
     "base_uri": "https://localhost:8080/",
     "height": 102
    },
    "colab_type": "code",
    "executionInfo": {
     "elapsed": 461,
     "status": "ok",
     "timestamp": 1599495159819,
     "user": {
      "displayName": "Jeehyun Park",
      "photoUrl": "https://lh3.googleusercontent.com/a-/AOh14GizNw5DW2QVCa5vUMiz0MiTNIYXIkGzaDCp0Es2=s64",
      "userId": "14458427846939093236"
     },
     "user_tz": 300
    },
    "id": "yfMmqGJmru9O",
    "outputId": "1470369a-dc8d-4108-f259-a6ffa985b231",
    "tags": []
   },
   "outputs": [
    {
     "output_type": "stream",
     "name": "stdout",
     "text": "Test case:  ../data/ieee24_rts_6183exact_0831.txt\nNumber of buses:  24\nNumber of lines:  34\nNumber of loads:  17\nNumber of samples:  6000\n"
    }
   ],
   "source": [
    "# Use partial data for faster test\n",
    "n_sample = 6000\n",
    "\n",
    "load_data = load_data0[:, :n_sample].copy()\n",
    "bound_idx = bound_idx0[:, :n_sample].copy() * 1\n",
    "\n",
    "# gen_idx_low = gen_idx_low[:,:n_sample]\n",
    "# gen_idx_up = gen_idx_up[:,:n_sample]\n",
    "# gen_idx = gen_idx_up + gen_idx_low\n",
    "\n",
    "# print system info\n",
    "print('Test case: ', filename)\n",
    "print('Number of buses: ', n_bus)\n",
    "print('Number of lines: ', n_line)\n",
    "print('Number of loads: ', n_load)\n",
    "print('Number of samples: ', n_sample)\n"
   ]
  },
  {
   "cell_type": "code",
   "execution_count": null,
   "metadata": {},
   "outputs": [],
   "source": []
  },
  {
   "cell_type": "code",
   "execution_count": null,
   "metadata": {},
   "outputs": [],
   "source": []
  },
  {
   "cell_type": "code",
   "execution_count": null,
   "metadata": {},
   "outputs": [],
   "source": []
  },
  {
   "cell_type": "code",
   "execution_count": null,
   "metadata": {},
   "outputs": [],
   "source": []
  },
  {
   "cell_type": "code",
   "execution_count": null,
   "metadata": {},
   "outputs": [],
   "source": []
  },
  {
   "cell_type": "markdown",
   "metadata": {
    "colab_type": "text",
    "id": "eOjKm_RBoCCA"
   },
   "source": [
    "# 2. Creating a graph in DGL\n",
    "* Generate and visualize the DGL graph"
   ]
  },
  {
   "cell_type": "code",
   "execution_count": 6,
   "metadata": {
    "colab": {},
    "colab_type": "code",
    "executionInfo": {
     "elapsed": 708,
     "status": "ok",
     "timestamp": 1599495162760,
     "user": {
      "displayName": "Jeehyun Park",
      "photoUrl": "https://lh3.googleusercontent.com/a-/AOh14GizNw5DW2QVCa5vUMiz0MiTNIYXIkGzaDCp0Es2=s64",
      "userId": "14458427846939093236"
     },
     "user_tz": 300
    },
    "id": "NxaGvjWGoCEH"
   },
   "outputs": [],
   "source": [
    "def build_system_graph(src, dst):\n",
    "    \"\"\"[summary]\n",
    "\n",
    "    Args:\n",
    "        src ([type]): [description]\n",
    "        dst ([type]): [description]\n",
    "\n",
    "    Returns:\n",
    "        [type]: [description]\n",
    "    \"\"\"\n",
    "    # Edges are directional in DGL; Make them bi-directional.\n",
    "    # Matlab counts from 1 and python from 0\n",
    "    u = np.concatenate([src, dst]) - 1\n",
    "    v = np.concatenate([dst, src]) - 1\n",
    "    # Construct a DGLGraph\n",
    "    return dgl.DGLGraph((u, v))"
   ]
  },
  {
   "cell_type": "code",
   "execution_count": 7,
   "metadata": {
    "colab": {
     "base_uri": "https://localhost:8080/",
     "height": 85
    },
    "colab_type": "code",
    "executionInfo": {
     "elapsed": 365,
     "status": "ok",
     "timestamp": 1599495163662,
     "user": {
      "displayName": "Jeehyun Park",
      "photoUrl": "https://lh3.googleusercontent.com/a-/AOh14GizNw5DW2QVCa5vUMiz0MiTNIYXIkGzaDCp0Es2=s64",
      "userId": "14458427846939093236"
     },
     "user_tz": 300
    },
    "id": "H3zws2wBoCEd",
    "outputId": "7710c6dc-932e-40f1-b648-eca13c837273",
    "tags": []
   },
   "outputs": [
    {
     "output_type": "stream",
     "name": "stdout",
     "text": "There are 24 nodes.\nThere are 68 edges.\n"
    }
   ],
   "source": [
    "line_src = line_bus[:,0].copy().astype(int)\n",
    "line_dst = line_bus[:,1].copy().astype(int)\n",
    "G = build_system_graph(line_src,line_dst)\n",
    "print('There are %d nodes.' % G.number_of_nodes())\n",
    "print('There are %d edges.' % G.number_of_edges())\n",
    "\n",
    "# import networkx as nx\n",
    "# Since the actual graph is undirected, we convert it for visualization\n",
    "# purpose.\n",
    "# nx_G = G.to_networkx().to_undirected()\n",
    "# # Kamada-Kawaii layout usually looks pretty for arbitrary graphs\n",
    "# pos = nx.kamada_kawai_layout(nx_G)\n",
    "# nx.draw(nx_G, pos, with_labels=True, node_color=[[.7, .7, .7]])"
   ]
  },
  {
   "cell_type": "markdown",
   "metadata": {
    "colab_type": "text",
    "id": "HLmJ64bCoCFJ"
   },
   "source": [
    "# 3. Assign features to nodes, edges\n",
    "\n",
    "e.g.: Graph neural networks associate features with nodes and edges for training.\n",
    "\n",
    "* In our case, inputs on nodes, features on egdes\n"
   ]
  },
  {
   "cell_type": "code",
   "execution_count": 8,
   "metadata": {
    "colab": {},
    "colab_type": "code",
    "executionInfo": {
     "elapsed": 308,
     "status": "ok",
     "timestamp": 1599495166537,
     "user": {
      "displayName": "Jeehyun Park",
      "photoUrl": "https://lh3.googleusercontent.com/a-/AOh14GizNw5DW2QVCa5vUMiz0MiTNIYXIkGzaDCp0Es2=s64",
      "userId": "14458427846939093236"
     },
     "user_tz": 300
    },
    "id": "7xqplmGwoCFe"
   },
   "outputs": [],
   "source": [
    "# # In DGL, you can add features for all nodes at once, using a feature tensor that\n",
    "# # batches node features along the first dimension. The code below adds the learnable\n",
    "# # embeddings for all nodes:\n",
    "\n",
    "# embed_feature = 10\n",
    "# embed = nn.Embedding(G.number_of_edges(), embed_feature)  \n",
    "# # 68 edges with embedding dim equal to 10 for edge classification\n",
    "# G.edata['feat'] = embed.weight"
   ]
  },
  {
   "cell_type": "markdown",
   "metadata": {
    "colab_type": "text",
    "id": "eHOzg-9PoCF3"
   },
   "source": [
    "# 4. Define a Graph Convolutional Network (GCN) and Train the model\n",
    "\n",
    "To perform node classification, use the Graph Convolutional Network\n",
    "(GCN) developed by `Kipf and Welling <https://arxiv.org/abs/1609.02907>`_. Here\n",
    "is the simplest definition of a GCN framework. We recommend that you \n",
    "read the original paper for more details.\n",
    "\n",
    "- At layer $l$, each node $v_i^l$ carries a feature vector $h_i^l$.\n",
    "- Each layer of the GCN tries to aggregate the features from $u_i^{l}$ where\n",
    "  $u_i$'s are neighborhood nodes to $v$ into the next layer representation at\n",
    "  $v_i^{l+1}$. This is followed by an affine transformation with some\n",
    "  non-linearity.\n",
    "\n",
    " **In this project we use weighted graph convolution and weights are \n",
    "learned during the trainning process.**\n",
    "\n",
    "The above definition of GCN fits into a **message-passing** paradigm: Each\n",
    "node will update its own feature with information sent from neighboring\n",
    "nodes. A graphical demonstration is displayed below.\n",
    "\n",
    "\n",
    "In DGL, we provide implementations of popular Graph Neural Network layers under\n",
    "the `dgl.<backend>.nn` subpackage. The :class:`~dgl.nn.pytorch.GraphConv` module\n",
    "implements one Graph Convolutional layer."
   ]
  },
  {
   "cell_type": "markdown",
   "metadata": {
    "colab_type": "text",
    "id": "eBIgnqqtoCGB"
   },
   "source": [
    "**In our case, we want to perform edge classification based on feature inputs from nodes.**\n",
    "* Thus we need to redesign the GNN to map the features from node to deges\n",
    "* Define a deeper GCN model that contains two GCN layers:\n",
    "\n",
    "We first try convolutions on the nodes first then map to edges then try mapping to edges first then do convolutions on edges"
   ]
  },
  {
   "cell_type": "code",
   "execution_count": 9,
   "metadata": {
    "colab": {},
    "colab_type": "code",
    "executionInfo": {
     "elapsed": 361,
     "status": "ok",
     "timestamp": 1599495170106,
     "user": {
      "displayName": "Jeehyun Park",
      "photoUrl": "https://lh3.googleusercontent.com/a-/AOh14GizNw5DW2QVCa5vUMiz0MiTNIYXIkGzaDCp0Es2=s64",
      "userId": "14458427846939093236"
     },
     "user_tz": 300
    },
    "id": "J2fkZxWsoCGP"
   },
   "outputs": [],
   "source": [
    "# One layer Graph convolution from nodes to edges\n",
    "class Graph_convolution_v2e(nn.Module):\n",
    "    def __init__(self,in_features,out_features,W,bias=True):\n",
    "        super(Graph_convolution_v2e,self).__init__()\n",
    "#         self.Weight=nn.Parameter(torch.Tensor(W))\n",
    "#         self.Weight=nn.Parameter(torch.from_numpy(W))\n",
    "        self.register_buffer('w',torch.from_numpy(W).float())\n",
    "#         for temp in self.Weight:\n",
    "#             temp.requires_grad=False\n",
    "#         self.Weight = self.Weight.detach()\n",
    "        self.scale=nn.Parameter(torch.Tensor(out_features,1))\n",
    "        self.bias=nn.Parameter(torch.Tensor(out_features,1))\n",
    "    \n",
    "    def forward(self,input):\n",
    "        # print(input.shape)\n",
    "        # print(self.scale.shape)  \n",
    "        h = torch.matmul(Variable(self.w),input) \n",
    "        return torch.mul(h,self.scale) + self.bias   \n",
    "\n",
    "# Need to change that to our case: 2 networks, one node clustering (or double it as in the reference), \n",
    "# one node to edge.\n",
    "\n",
    "# Set dummy bus signals as zero \n",
    "# Q. why ???\n",
    "I_bus = np.identity(n_bus)\n",
    "idx = [2,3,4,5,7,8,9,10,11,16,18,19,23]\n",
    "for i in range(len(idx)):\n",
    "  I_bus[idx,idx] = 0\n",
    "I_bus = torch.from_numpy(I_bus).float()\n",
    "\n",
    "# GNN using DGL v2v graph convolution and our own v2e graph convolution\n",
    "class GCN(nn.Module):\n",
    "    def __init__(self, in_feats, hidden_size, num_nodes):\n",
    "        super(GCN, self).__init__()\n",
    "        self.conv1 = GraphConv(in_feats, hidden_size[0],norm='both', weight=True, bias=True, activation=None) \n",
    "        #norm='both', weight=True, bias=True, activation=None\n",
    "        self.conv2 = GraphConv(hidden_size[0], hidden_size[1],norm='both', weight=True, bias=True, activation=None)\n",
    "        self.conv3 = GraphConv(hidden_size[1], hidden_size[2],norm='both', weight=True, bias=True, activation=None)\n",
    "        self.conv4 = GraphConv(hidden_size[2], hidden_size[3],norm='both', weight=True, bias=True, activation=None)\n",
    "        self.conv5 = GraphConv(hidden_size[3], hidden_size[4],norm='both', weight=True, bias=True, activation=None)\n",
    "        self.conv6 = GraphConv(hidden_size[4], hidden_size[5],norm='both', weight=True, bias=True, activation=None)\n",
    "        # self.conv7 = GraphConv(hidden_size[5], hidden_size[6],norm='both', weight=True, bias=True, activation=None)\n",
    "        # self.conv8 = GraphConv(hidden_size[6], hidden_size[7],norm='both', weight=True, bias=True, activation=None)\n",
    "        # self.conv9 = GraphConv(hidden_size[7], hidden_size[8],norm='both', weight=True, bias=True, activation=None)\n",
    "        # self.conv3 = Graph_convolution_v2e(hidden_size[1], num_edges, W)\n",
    "        # self.W = W\n",
    "\n",
    "        self.lin_output = nn.Linear(num_nodes,num_nodes)\n",
    "\n",
    "    def forward(self, g, I, inputs): # g is the graph stored in DGL\n",
    "        # print(g) \n",
    "        # nx_G = g.to_networkx().to_undirected()\n",
    "        # pos = nx.kamada_kawai_layout(nx_G)\n",
    "        # nx.draw(nx_G, pos, with_labels=True, node_color=[[.7, .7, .7]])      \n",
    "        # print('inputs data type:', inputs.data.type())\n",
    "        # print(inputs.shape)\n",
    "        h = self.conv1(g, inputs)\n",
    "        # h = torch.sigmoid(h)\n",
    "        # print(h.shape)\n",
    "        h = self.conv2(g, h)\n",
    "        # print(h.shape)\n",
    "        h = torch.sigmoid(h)\n",
    "        # print(h.shape)\n",
    "        h = self.conv3(g, h)\n",
    "        # h = torch.sigmoid(h)\n",
    "        h = self.conv4(g, h)\n",
    "        h = torch.sigmoid(h) \n",
    "        h = self.conv5(g, h)\n",
    "        # h = torch.sigmoid(h)\n",
    "        h = self.conv6(g, h)\n",
    "        h = torch.sigmoid(h)\n",
    "        # h = self.conv7(g, h)\n",
    "        # # h = torch.sigmoid(h)\n",
    "        # h = self.conv8(g, h)\n",
    "        # h = torch.sigmoid(h)\n",
    "        # h = self.conv9(g, h)\n",
    "        # h = torch.sigmoid(h)\n",
    "        # h = self.conv3(h)\n",
    "        # h = torch.matmul(I,h)\n",
    "        h = self.lin_output(h.transpose(0,1)).transpose(0,1)\n",
    "        # h = torch.matmul(I,h)\n",
    "        return h\n",
    "\n",
    " \n",
    "# net = GCN_self(n_bus, [10,10], n_line, W, W1)\n",
    "# net = GCN(n_bus, [10,10,10,10,10,10,10,1], n_line, W1)\n",
    "w_params = [40,80,80,80,80,1]\n",
    "net = GCN(1, w_params, n_bus)"
   ]
  },
  {
   "cell_type": "code",
   "execution_count": 10,
   "metadata": {
    "colab": {
     "base_uri": "https://localhost:8080/",
     "height": 170
    },
    "colab_type": "code",
    "executionInfo": {
     "elapsed": 378,
     "status": "ok",
     "timestamp": 1599495178592,
     "user": {
      "displayName": "Jeehyun Park",
      "photoUrl": "https://lh3.googleusercontent.com/a-/AOh14GizNw5DW2QVCa5vUMiz0MiTNIYXIkGzaDCp0Es2=s64",
      "userId": "14458427846939093236"
     },
     "user_tz": 300
    },
    "id": "y_cb_xqOj9bq",
    "outputId": "1e49d6fd-5dc9-4533-cabe-cbd9a2faf5b4"
   },
   "outputs": [
    {
     "output_type": "execute_result",
     "data": {
      "text/plain": "GCN(\n  (conv1): GraphConv(in=1, out=40, normalization=both, activation=None)\n  (conv2): GraphConv(in=40, out=80, normalization=both, activation=None)\n  (conv3): GraphConv(in=80, out=80, normalization=both, activation=None)\n  (conv4): GraphConv(in=80, out=80, normalization=both, activation=None)\n  (conv5): GraphConv(in=80, out=80, normalization=both, activation=None)\n  (conv6): GraphConv(in=80, out=1, normalization=both, activation=None)\n  (lin_output): Linear(in_features=24, out_features=24, bias=True)\n)"
     },
     "metadata": {},
     "execution_count": 10
    }
   ],
   "source": [
    "net"
   ]
  },
  {
   "cell_type": "code",
   "execution_count": 11,
   "metadata": {
    "colab": {
     "base_uri": "https://localhost:8080/",
     "height": 85
    },
    "colab_type": "code",
    "executionInfo": {
     "elapsed": 306,
     "status": "ok",
     "timestamp": 1599495181187,
     "user": {
      "displayName": "Jeehyun Park",
      "photoUrl": "https://lh3.googleusercontent.com/a-/AOh14GizNw5DW2QVCa5vUMiz0MiTNIYXIkGzaDCp0Es2=s64",
      "userId": "14458427846939093236"
     },
     "user_tz": 300
    },
    "id": "mpNqT4YmoCGg",
    "outputId": "2992762c-a4cc-4f3e-c7d6-98662cc3927f",
    "tags": []
   },
   "outputs": [
    {
     "output_type": "stream",
     "name": "stdout",
     "text": "Data set size:  6000 , training set size:  4800 , test set size:  1200\ntorch.Size([24, 1])\ntorch.Size([24, 1])\ntorch.Size([24, 1, 4800])\n"
    }
   ],
   "source": [
    "# Set the ratio of training/test set\n",
    "train_ratio = 0.8\n",
    "n_train = int(np.floor(train_ratio * n_sample))\n",
    "n_test = n_sample - n_train\n",
    "print('Data set size: ',n_sample,', training set size: ',n_train,', test set size: ',n_test)\n",
    "\n",
    "# Generate training set and test set\n",
    "x_train2, x_test2, y_train2, y_test2 = train_test_split(load_data[0:n_bus,:].transpose(), y0[:,0:n_sample].transpose(), test_size=0.2, random_state=22)\n",
    "x_train = x_train2.transpose()\n",
    "y_train = y_train2.transpose()\n",
    "x_test = x_test2.transpose()\n",
    "y_test = y_test2.transpose()\n",
    "# x_train = load_data[0:n_bus,0:n_train].copy()\n",
    "# y_train = bound_idx[:,0:n_train].copy()\n",
    "# x_test = load_data[0:n_bus,n_train:n_sample].copy()\n",
    "# y_test = bound_idx[:,n_train:n_sample].copy()\n",
    "\n",
    "\n",
    "tempx=np.array([np.transpose(x_train)[0]])\n",
    "x_train_one=torch.from_numpy(tempx).float()\n",
    "x_train_one=x_train_one.transpose(0,1)\n",
    "print(x_train_one.shape)\n",
    "\n",
    "\n",
    "tempy=np.array([np.transpose(y_train)[0]])\n",
    "y_train_one=torch.from_numpy(tempy).float()\n",
    "y_train_one=y_train_one.transpose(0,1)\n",
    "print(y_train_one.shape)\n",
    "# print('Training data size:',x_train.shape)\n",
    "# print('Training label size:',y_train.shape)\n",
    "\n",
    "# get the training data for DGL\n",
    "def get_xy(index):\n",
    "    tempx=np.array([np.transpose(x_train)[index]])\n",
    "    x_train_one=torch.from_numpy(tempx).float()\n",
    "    x_train_one=x_train_one.transpose(0,1)\n",
    "\n",
    "    tempy=np.array([np.transpose(y_train)[index]])\n",
    "    y_train_one=torch.from_numpy(tempy).float()\n",
    "    y_train_one=y_train_one.transpose(0,1)\n",
    "\n",
    "    return x_train_one,y_train_one\n",
    "\n",
    "# generate torch y_train for concatenated obj\n",
    "y_train1 = torch.from_numpy(y_train)#.float()\n",
    "# expand into 3d tensor \n",
    "y_train1.unsqueeze_(-1)\n",
    "y_train1 = y_train1.expand(n_bus,n_train,1)\n",
    "y_train1 = y_train1.transpose(2,1)\n",
    "print(y_train1.shape)"
   ]
  },
  {
   "cell_type": "code",
   "execution_count": 12,
   "metadata": {
    "colab": {
     "base_uri": "https://localhost:8080/",
     "height": 1000
    },
    "colab_type": "code",
    "executionInfo": {
     "elapsed": 325,
     "status": "ok",
     "timestamp": 1599495183815,
     "user": {
      "displayName": "Jeehyun Park",
      "photoUrl": "https://lh3.googleusercontent.com/a-/AOh14GizNw5DW2QVCa5vUMiz0MiTNIYXIkGzaDCp0Es2=s64",
      "userId": "14458427846939093236"
     },
     "user_tz": 300
    },
    "id": "vYRy5jCOpg7m",
    "outputId": "1188e783-4bb7-4266-d2ee-7cfbd56a37e9",
    "tags": []
   },
   "outputs": [
    {
     "output_type": "stream",
     "name": "stdout",
     "text": "Network info: GCN(\n  (conv1): GraphConv(in=1, out=40, normalization=both, activation=None)\n  (conv2): GraphConv(in=40, out=80, normalization=both, activation=None)\n  (conv3): GraphConv(in=80, out=80, normalization=both, activation=None)\n  (conv4): GraphConv(in=80, out=80, normalization=both, activation=None)\n  (conv5): GraphConv(in=80, out=80, normalization=both, activation=None)\n  (conv6): GraphConv(in=80, out=1, normalization=both, activation=None)\n  (lin_output): Linear(in_features=24, out_features=24, bias=True)\n)\nParameter Parameter containing:\ntensor([[ 0.2180, -0.1302,  0.0012,  0.3646,  0.3225,  0.1348, -0.2658, -0.1189,\n          0.2005,  0.1148, -0.0405,  0.3593,  0.3451,  0.3470, -0.1980, -0.0515,\n         -0.2475,  0.0964, -0.0675, -0.3769,  0.0690,  0.0570,  0.0365, -0.2855,\n         -0.3293,  0.0397, -0.3238, -0.0041, -0.2758,  0.3170,  0.2854, -0.0796,\n          0.0090,  0.1200, -0.1683, -0.0824, -0.2832, -0.0350, -0.0568, -0.2398]],\n       requires_grad=True) size: torch.Size([1, 40])\nParameter Parameter containing:\ntensor([0., 0., 0., 0., 0., 0., 0., 0., 0., 0., 0., 0., 0., 0., 0., 0., 0., 0., 0., 0., 0., 0., 0., 0.,\n        0., 0., 0., 0., 0., 0., 0., 0., 0., 0., 0., 0., 0., 0., 0., 0.],\n       requires_grad=True) size: torch.Size([40])\nParameter Parameter containing:\ntensor([[-0.0456, -0.0433, -0.0401,  ..., -0.1658,  0.1389, -0.0217],\n        [-0.0122,  0.1136, -0.1587,  ..., -0.1977, -0.2226, -0.1605],\n        [ 0.0313, -0.1414, -0.0886,  ..., -0.1391, -0.0229,  0.0425],\n        ...,\n        [-0.0594, -0.0384,  0.0275,  ...,  0.0662, -0.0397,  0.1063],\n        [ 0.0194, -0.1625, -0.0488,  ..., -0.1649,  0.2010, -0.1130],\n        [ 0.0828, -0.2138,  0.2087,  ..., -0.1114,  0.0302, -0.1040]],\n       requires_grad=True) size: torch.Size([40, 80])\nParameter Parameter containing:\ntensor([0., 0., 0., 0., 0., 0., 0., 0., 0., 0., 0., 0., 0., 0., 0., 0., 0., 0., 0., 0., 0., 0., 0., 0.,\n        0., 0., 0., 0., 0., 0., 0., 0., 0., 0., 0., 0., 0., 0., 0., 0., 0., 0., 0., 0., 0., 0., 0., 0.,\n        0., 0., 0., 0., 0., 0., 0., 0., 0., 0., 0., 0., 0., 0., 0., 0., 0., 0., 0., 0., 0., 0., 0., 0.,\n        0., 0., 0., 0., 0., 0., 0., 0.], requires_grad=True) size: torch.Size([80])\nParameter Parameter containing:\ntensor([[-0.0949,  0.1110,  0.0433,  ...,  0.0026,  0.0146,  0.1759],\n        [ 0.0563, -0.1060, -0.0623,  ...,  0.1303, -0.1581, -0.1645],\n        [ 0.1097,  0.1244,  0.1843,  ..., -0.0786, -0.1516,  0.1745],\n        ...,\n        [-0.1726, -0.1161, -0.1051,  ...,  0.0846,  0.1882, -0.0232],\n        [-0.0477,  0.1528, -0.0394,  ..., -0.0266, -0.1575, -0.0893],\n        [ 0.0424,  0.0488, -0.0410,  ..., -0.1056,  0.1776,  0.1738]],\n       requires_grad=True) size: torch.Size([80, 80])\nParameter Parameter containing:\ntensor([0., 0., 0., 0., 0., 0., 0., 0., 0., 0., 0., 0., 0., 0., 0., 0., 0., 0., 0., 0., 0., 0., 0., 0.,\n        0., 0., 0., 0., 0., 0., 0., 0., 0., 0., 0., 0., 0., 0., 0., 0., 0., 0., 0., 0., 0., 0., 0., 0.,\n        0., 0., 0., 0., 0., 0., 0., 0., 0., 0., 0., 0., 0., 0., 0., 0., 0., 0., 0., 0., 0., 0., 0., 0.,\n        0., 0., 0., 0., 0., 0., 0., 0.], requires_grad=True) size: torch.Size([80])\nParameter Parameter containing:\ntensor([[-0.1706, -0.1691, -0.0915,  ...,  0.1652, -0.0934,  0.1423],\n        [ 0.0721, -0.1928,  0.1476,  ..., -0.1246,  0.1733, -0.1526],\n        [-0.0165,  0.0044, -0.1241,  ...,  0.1075, -0.1637, -0.1551],\n        ...,\n        [-0.0017, -0.0137,  0.0087,  ..., -0.0904,  0.0372,  0.0406],\n        [ 0.1263,  0.1853,  0.1549,  ..., -0.1125,  0.0602,  0.0213],\n        [ 0.1012,  0.1080,  0.0785,  ..., -0.1427,  0.0277,  0.0574]],\n       requires_grad=True) size: torch.Size([80, 80])\nParameter Parameter containing:\ntensor([0., 0., 0., 0., 0., 0., 0., 0., 0., 0., 0., 0., 0., 0., 0., 0., 0., 0., 0., 0., 0., 0., 0., 0.,\n        0., 0., 0., 0., 0., 0., 0., 0., 0., 0., 0., 0., 0., 0., 0., 0., 0., 0., 0., 0., 0., 0., 0., 0.,\n        0., 0., 0., 0., 0., 0., 0., 0., 0., 0., 0., 0., 0., 0., 0., 0., 0., 0., 0., 0., 0., 0., 0., 0.,\n        0., 0., 0., 0., 0., 0., 0., 0.], requires_grad=True) size: torch.Size([80])\nParameter Parameter containing:\ntensor([[-0.1931,  0.0710,  0.0991,  ...,  0.1805, -0.1130, -0.0193],\n        [-0.1354, -0.1367, -0.0073,  ...,  0.0623, -0.1045, -0.1027],\n        [-0.1715, -0.0111,  0.1831,  ...,  0.0103,  0.0175,  0.0958],\n        ...,\n        [ 0.0612, -0.1172,  0.0569,  ...,  0.1631, -0.0009,  0.0322],\n        [ 0.0805, -0.0131, -0.1459,  ..., -0.0728,  0.0730,  0.0704],\n        [ 0.1421, -0.1143, -0.1785,  ...,  0.1296,  0.1655, -0.0060]],\n       requires_grad=True) size: torch.Size([80, 80])\nParameter Parameter containing:\ntensor([0., 0., 0., 0., 0., 0., 0., 0., 0., 0., 0., 0., 0., 0., 0., 0., 0., 0., 0., 0., 0., 0., 0., 0.,\n        0., 0., 0., 0., 0., 0., 0., 0., 0., 0., 0., 0., 0., 0., 0., 0., 0., 0., 0., 0., 0., 0., 0., 0.,\n        0., 0., 0., 0., 0., 0., 0., 0., 0., 0., 0., 0., 0., 0., 0., 0., 0., 0., 0., 0., 0., 0., 0., 0.,\n        0., 0., 0., 0., 0., 0., 0., 0.], requires_grad=True) size: torch.Size([80])\nParameter Parameter containing:\ntensor([[ 0.2185],\n        [-0.2284],\n        [ 0.2203],\n        [ 0.0859],\n        [ 0.2031],\n        [ 0.1322],\n        [-0.0929],\n        [-0.2440],\n        [ 0.0423],\n        [ 0.1844],\n        [ 0.0964],\n        [ 0.2374],\n        [ 0.2459],\n        [-0.2343],\n        [-0.0202],\n        [-0.2103],\n        [ 0.1671],\n        [ 0.0759],\n        [ 0.2065],\n        [ 0.1990],\n        [-0.1812],\n        [-0.1973],\n        [ 0.2015],\n        [-0.0321],\n        [ 0.0385],\n        [-0.1367],\n        [-0.0350],\n        [-0.0213],\n        [ 0.1023],\n        [-0.2028],\n        [-0.1463],\n        [-0.0110],\n        [ 0.1090],\n        [-0.1525],\n        [ 0.0279],\n        [ 0.1779],\n        [-0.1502],\n        [ 0.1700],\n        [ 0.1856],\n        [-0.1243],\n        [-0.1539],\n        [ 0.0261],\n        [ 0.1783],\n        [-0.0833],\n        [-0.1201],\n        [-0.0853],\n        [-0.1353],\n        [ 0.2131],\n        [-0.0782],\n        [-0.1815],\n        [ 0.2044],\n        [ 0.1897],\n        [-0.2075],\n        [-0.2361],\n        [-0.1988],\n        [-0.0863],\n        [ 0.2526],\n        [ 0.1080],\n        [ 0.2010],\n        [-0.2233],\n        [ 0.2423],\n        [-0.2478],\n        [ 0.1966],\n        [ 0.0225],\n        [-0.2305],\n        [-0.0186],\n        [-0.2455],\n        [ 0.1466],\n        [ 0.0367],\n        [ 0.2719],\n        [-0.2161],\n        [-0.0325],\n        [-0.1858],\n        [-0.0364],\n        [ 0.1571],\n        [-0.2513],\n        [-0.1472],\n        [-0.2364],\n        [ 0.2027],\n        [ 0.0166]], requires_grad=True) size: torch.Size([80, 1])\nParameter Parameter containing:\ntensor([0.], requires_grad=True) size: torch.Size([1])\nParameter Parameter containing:\ntensor([[ 0.0446,  0.1597,  0.0543, -0.1044, -0.0926,  0.0068,  0.1192,  0.1446,\n          0.0865, -0.0402, -0.0193, -0.0381, -0.1494,  0.1566,  0.1580,  0.1896,\n         -0.1581,  0.1122, -0.0091, -0.1625, -0.1205, -0.0862,  0.1657, -0.1265],\n        [-0.0385, -0.1899, -0.1281, -0.0116,  0.0281, -0.0868,  0.0107,  0.0217,\n         -0.1618, -0.1638, -0.1162,  0.0363, -0.0090,  0.0763,  0.0095, -0.1583,\n          0.0847, -0.0384, -0.0828, -0.1343,  0.0615,  0.1214, -0.0291,  0.0851],\n        [ 0.1177, -0.1566,  0.0091, -0.1375,  0.1310,  0.2036,  0.1699, -0.0139,\n         -0.0936,  0.1714,  0.1102,  0.1998, -0.1119, -0.1985,  0.2010,  0.0785,\n          0.1559, -0.1759,  0.0077,  0.1176, -0.1119,  0.0021,  0.0597, -0.0440],\n        [ 0.1946,  0.1523,  0.1474,  0.1859,  0.1976, -0.1441, -0.1839,  0.0035,\n         -0.0328, -0.1334, -0.0619,  0.0442, -0.1959,  0.1823,  0.0916, -0.1279,\n          0.1155,  0.1757, -0.0957, -0.1016, -0.0891,  0.2039, -0.1640,  0.1827],\n        [ 0.0472, -0.0608, -0.0085, -0.2003,  0.0519, -0.0795, -0.1443, -0.1693,\n         -0.1044, -0.1151, -0.0415,  0.1517, -0.0058, -0.1379, -0.1166,  0.0690,\n         -0.0592, -0.0539, -0.1470,  0.1831,  0.0694, -0.0259,  0.0446,  0.1875],\n        [-0.0924, -0.0345,  0.0227,  0.0060, -0.1266, -0.1479,  0.0757, -0.0700,\n          0.0656, -0.0098, -0.0671,  0.0818,  0.1440,  0.1757, -0.1743,  0.0228,\n          0.0859, -0.0365,  0.0223, -0.1837, -0.0641,  0.1380,  0.1602,  0.1949],\n        [-0.0246, -0.0170,  0.1628,  0.1405, -0.1564, -0.0429, -0.1508,  0.1659,\n         -0.1780,  0.1825,  0.1300, -0.0502,  0.0411,  0.1657,  0.0672,  0.0228,\n          0.1215, -0.1918, -0.1290,  0.1113,  0.1924,  0.0663, -0.1744,  0.0101],\n        [-0.1841,  0.0476,  0.1091, -0.0215,  0.0003, -0.0020, -0.0557, -0.1616,\n          0.1996,  0.1802, -0.0765,  0.0193,  0.1192, -0.0818, -0.0202, -0.0362,\n         -0.0465, -0.1542,  0.1398,  0.1007, -0.0351, -0.0872,  0.0613, -0.0077],\n        [ 0.0627,  0.1621,  0.1730, -0.0478,  0.0432,  0.1841, -0.0681, -0.0462,\n          0.1928, -0.1234,  0.1842,  0.1700, -0.0233,  0.1727, -0.1759, -0.1823,\n          0.1087, -0.0554, -0.0312,  0.0585, -0.1517,  0.0299,  0.1959, -0.1225],\n        [-0.1735, -0.1231, -0.0876, -0.0851, -0.1244, -0.1645,  0.0244, -0.0971,\n          0.1496, -0.0683,  0.0103, -0.1398, -0.0865,  0.1071, -0.1641,  0.1516,\n          0.1679, -0.1803, -0.0494,  0.1893, -0.1265, -0.0714, -0.0092, -0.0072],\n        [ 0.0471, -0.0255, -0.0913, -0.1741, -0.1017,  0.0919, -0.1275,  0.0855,\n          0.0106, -0.0169, -0.1128, -0.0366, -0.1646, -0.1352,  0.1468,  0.1784,\n          0.1841, -0.0795,  0.0640, -0.1186,  0.1263,  0.0779,  0.0443, -0.0727],\n        [ 0.1948, -0.0860,  0.0088, -0.1839,  0.0024, -0.0945, -0.0872,  0.0606,\n         -0.0314,  0.1998,  0.0431, -0.1162,  0.0785,  0.0835,  0.0583,  0.0754,\n         -0.0118, -0.1865,  0.0111, -0.1766,  0.0316,  0.0956, -0.0063, -0.0896],\n        [ 0.1950,  0.1335,  0.1937,  0.0794, -0.1434, -0.1940, -0.0343, -0.0521,\n         -0.0770, -0.1416, -0.0076, -0.0551, -0.0286, -0.0657, -0.1652,  0.1546,\n          0.1682,  0.0190, -0.1026, -0.0717, -0.0670,  0.1719,  0.1795,  0.0507],\n        [ 0.0341, -0.0748, -0.0914, -0.1588,  0.1322,  0.0588, -0.1952, -0.0606,\n          0.1157, -0.0905,  0.1286,  0.1113, -0.1635, -0.0890,  0.0231,  0.1633,\n          0.1706, -0.1989,  0.0999,  0.1919,  0.1474, -0.0691, -0.0311,  0.0478],\n        [ 0.0277,  0.1137, -0.0712, -0.0908,  0.0677, -0.1883, -0.1033, -0.0188,\n         -0.0121,  0.0659,  0.0465, -0.1596, -0.1181, -0.0044, -0.0154, -0.0867,\n         -0.0982, -0.1465, -0.0957, -0.0445,  0.0915, -0.1841,  0.0276, -0.0764],\n        [ 0.0315,  0.0965, -0.0765,  0.0040,  0.0293,  0.0791, -0.0350,  0.0074,\n          0.0538, -0.1480,  0.0510,  0.1818, -0.0413,  0.0272,  0.1922, -0.1219,\n          0.0284,  0.1846, -0.1193, -0.1964,  0.1328,  0.0292,  0.2014,  0.1097],\n        [-0.1657,  0.1568, -0.1977, -0.0971, -0.0303, -0.0188,  0.0488,  0.0169,\n          0.0790,  0.0274, -0.0216, -0.0993, -0.0905, -0.1828,  0.1921,  0.1616,\n         -0.0128, -0.1055,  0.0956,  0.0620, -0.0177, -0.1074,  0.0430, -0.0456],\n        [ 0.1837, -0.1135,  0.0575,  0.1285, -0.1101, -0.1744,  0.0623, -0.0251,\n          0.1681,  0.0734, -0.2008, -0.0139, -0.0327, -0.1900, -0.0097,  0.0288,\n         -0.0900, -0.1600,  0.0344,  0.1679,  0.1913,  0.1372,  0.1914, -0.0915],\n        [-0.1920, -0.0079, -0.0227,  0.1114,  0.0055,  0.2010,  0.0514,  0.0146,\n         -0.0786, -0.1853,  0.1970,  0.0352, -0.1407,  0.1930,  0.1159,  0.1057,\n         -0.0564,  0.0312,  0.0598,  0.1661,  0.1941,  0.2012,  0.0664,  0.1610],\n        [ 0.1014, -0.1283,  0.1595,  0.1928,  0.1442,  0.0857, -0.1063, -0.0508,\n         -0.0721, -0.1118, -0.1795, -0.1671, -0.1880, -0.0139, -0.1955,  0.1980,\n          0.1273, -0.1410,  0.0142,  0.0508, -0.1758,  0.2014,  0.1791, -0.0142],\n        [ 0.0750,  0.0049, -0.0560, -0.0457,  0.0983, -0.0183,  0.1041, -0.0018,\n          0.0209, -0.1152, -0.1893, -0.0674,  0.0344,  0.0183,  0.2032, -0.1396,\n          0.0348,  0.1912,  0.0798,  0.0702, -0.1955,  0.1764, -0.1105, -0.0579],\n        [-0.1764, -0.0166, -0.1534,  0.1787,  0.0263,  0.1893,  0.1316,  0.0235,\n         -0.1528,  0.0683,  0.1257, -0.1792, -0.1116, -0.1024, -0.0889,  0.0738,\n         -0.0727, -0.0698,  0.1581,  0.1438,  0.0654,  0.1633, -0.1230, -0.1555],\n        [ 0.1460, -0.1783, -0.0398, -0.1834, -0.1125, -0.1456, -0.0728, -0.1843,\n          0.1112,  0.1631, -0.1933,  0.0047,  0.1659, -0.0643, -0.1250, -0.1321,\n          0.1884,  0.1250, -0.0933,  0.1518,  0.0152,  0.1844,  0.0988,  0.0736],\n        [-0.1075,  0.0696,  0.1732,  0.1401,  0.1057, -0.0376, -0.1886, -0.1716,\n          0.1591,  0.1032, -0.0286, -0.0993,  0.1529,  0.1178,  0.1991, -0.1834,\n         -0.1954,  0.0175,  0.1535, -0.0094, -0.0800, -0.1270,  0.1353,  0.2034]],\n       requires_grad=True) size: torch.Size([24, 24])\nParameter Parameter containing:\ntensor([ 0.0893, -0.1114,  0.1322, -0.1999,  0.0129, -0.0831, -0.1021, -0.0118,\n        -0.1452, -0.1017,  0.0979, -0.1251, -0.0639,  0.0627, -0.0635,  0.0533,\n         0.0895,  0.0955,  0.0053, -0.0842,  0.0921,  0.0489,  0.1715,  0.1265],\n       requires_grad=True) size: torch.Size([24])\n"
    }
   ],
   "source": [
    "# GNN model size\n",
    "print('Network info:',net)\n",
    "for temp in net.parameters():\n",
    "    print('Parameter',temp,'size:',temp.shape)"
   ]
  },
  {
   "cell_type": "code",
   "execution_count": null,
   "metadata": {},
   "outputs": [],
   "source": [
    "dataloader = DataLoader()"
   ]
  },
  {
   "cell_type": "code",
   "execution_count": 13,
   "metadata": {
    "colab": {
     "base_uri": "https://localhost:8080/",
     "height": 1000
    },
    "colab_type": "code",
    "executionInfo": {
     "elapsed": 4321761,
     "status": "ok",
     "timestamp": 1599499509571,
     "user": {
      "displayName": "Jeehyun Park",
      "photoUrl": "https://lh3.googleusercontent.com/a-/AOh14GizNw5DW2QVCa5vUMiz0MiTNIYXIkGzaDCp0Es2=s64",
      "userId": "14458427846939093236"
     },
     "user_tz": 300
    },
    "id": "7uHUoHNZoCGq",
    "outputId": "4990d41b-96f9-4a42-c6c0-1e0888aa55d5",
    "tags": []
   },
   "outputs": [
    {
     "output_type": "stream",
     "name": "stdout",
     "text": "Epoch 1 | Loss: 0.0592\nEpoch 2 | Loss: 0.0102\nEpoch 3 | Loss: 0.0080\nEpoch 4 | Loss: 0.0083\nEpoch 5 | Loss: 0.0080\nEpoch 6 | Loss: 0.0076\nEpoch 7 | Loss: 0.0077\nEpoch 8 | Loss: 0.0075\nEpoch 9 | Loss: 0.0073\nEpoch 10 | Loss: 0.0083\n"
    }
   ],
   "source": [
    "# import itertools\n",
    "# optimizer = torch.optim.Adam(itertools.chain(net.parameters(), embed.parameters()), lr=0.01)\n",
    "device = torch.device('cpu')\n",
    "\n",
    "accumulation_steps = 100\n",
    "optimizer = torch.optim.Adam(net.parameters())\n",
    "loss_optm = []\n",
    "ep_range = 10\n",
    "for epoch in range(ep_range):\n",
    "    # print('Epoch:', epoch,'LR:', scheduler.get_lr())\n",
    "    for sample in range(n_train):\n",
    "        x_train_one, y_train_one = get_xy(sample)\n",
    "        net.train()\n",
    "        logits = net(G, I_bus, x_train_one)\n",
    "        # loss = F.binary_cross_entropy(torch.sigmoid(logits), y_train_one) #/ accumulation_steps\n",
    "        # loss = F.mse_loss(torch.sigmoid(logits), y_train_one) #/ accumulation_steps\n",
    "        loss = F.mse_loss(logits, y_train_one)  #/ accumulation_steps\n",
    "        loss.backward()\n",
    "\n",
    "        if ((sample + 1) % accumulation_steps) == 0:\n",
    "            optimizer.step()  # update parameters of net\n",
    "            optimizer.zero_grad()  # clear the psat gradient\n",
    "\n",
    "# test for simple adaptive scheme\n",
    "# if epoch > 10:\n",
    "#   optimizer = torch.optim.Adam(net.parameters(), lr=0.15)\n",
    "# if epoch > 10:\n",
    "#   optimizer = torch.optim.Adam(net.parameters(), lr=0.04)\n",
    "# if epoch > 20:\n",
    "#   optimizer = torch.optim.Adam(net.parameters(), lr=0.03)\n",
    "# if epoch > 30:\n",
    "#   optimizer = torch.optim.Adam(net.parameters(), lr=0.02)\n",
    "# if epoch > 40:\n",
    "#   optimizer = torch.optim.Adam(net.parameters(), lr=0.01)\n",
    "\n",
    "# # Decay Learning Rate\n",
    "# if epoch > 1:\n",
    "#   scheduler.step()\n",
    "\n",
    "    print('Epoch %d | Loss: %.4f' % (epoch + 1, loss.item()))\n",
    "    loss_optm.append(loss.item())"
   ]
  },
  {
   "cell_type": "code",
   "execution_count": 20,
   "metadata": {
    "colab": {},
    "colab_type": "code",
    "id": "LSw7m9Tos9MH",
    "tags": []
   },
   "outputs": [
    {
     "output_type": "stream",
     "name": "stdout",
     "text": "Epoch 11 | Loss: 0.0074\nEpoch 12 | Loss: 0.0085\nEpoch 13 | Loss: 0.0077\nEpoch 14 | Loss: 0.0092\nEpoch 15 | Loss: 0.0088\n"
    }
   ],
   "source": [
    "ep_range1 = 5\n",
    "\n",
    "for epoch in range(ep_range1):\n",
    "    # print('Epoch:', epoch,'LR:', scheduler.get_lr())\n",
    "    for sample in range(n_train):\n",
    "        x_train_one, y_train_one = get_xy(sample)\n",
    "        net.train()\n",
    "        logits = net(G, I_bus, x_train_one)\n",
    "        # loss = F.binary_cross_entropy(torch.sigmoid(logits), y_train_one) #/ accumulation_steps\n",
    "        # loss = F.mse_loss(torch.sigmoid(logits), y_train_one) #/ accumulation_steps\n",
    "        loss = F.mse_loss(logits, y_train_one)  #/ accumulation_steps\n",
    "        loss.backward()\n",
    "\n",
    "        if ((sample + 1) % accumulation_steps) == 0:\n",
    "            optimizer.step()  # update parameters of net\n",
    "            optimizer.zero_grad()  # clear the psat gradient\n",
    "\n",
    "    print('Epoch %d | Loss: %.4f' % (epoch + ep_range + 1, loss.item()))\n",
    "    loss_optm.append(loss.item())"
   ]
  },
  {
   "cell_type": "markdown",
   "metadata": {
    "colab_type": "text",
    "id": "zZ0nLutzpyHX"
   },
   "source": [
    "## Optimization methods:\n",
    "**We need to incorporate batch size into the optimization step size for mini batches.** \n",
    "- **Rprop:** A gradient descent algorithm that only uses the signs of gradients to compute updates. It stands for Resilient Propagation and works well in many situations because it adapts the step size dynamically for each weight independently.\n",
    "- **Learning rate scheduling:** used with optimizers\n",
    "- **lr_scheduler.StepLR:** Decays the learning rate of each parameter group by gamma every step_size epochs. Notice that such decay can happen simultaneously with other changes to the learning rate from outside this scheduler. When last_epoch=-1, sets initial lr as lr. https://www.deeplearningwizard.com/deep_learning/boosting_models_pytorch/lr_scheduling/\n",
    "- **lr_scheduler.CyclicLR:** Sets the learning rate of each parameter group according to cyclical learning rate policy (CLR). The policy cycles the learning rate between two boundaries with a constant frequency. Cyclical learning rate policy changes the learning rate after every batch. step should be called after a batch has been used for training."
   ]
  },
  {
   "cell_type": "code",
   "execution_count": 21,
   "metadata": {
    "colab": {},
    "colab_type": "code",
    "id": "pfTSSX29R7jP"
   },
   "outputs": [
    {
     "output_type": "display_data",
     "data": {
      "text/plain": "<Figure size 432x288 with 1 Axes>",
      "image/svg+xml": "<?xml version=\"1.0\" encoding=\"utf-8\" standalone=\"no\"?>\n<!DOCTYPE svg PUBLIC \"-//W3C//DTD SVG 1.1//EN\"\n  \"http://www.w3.org/Graphics/SVG/1.1/DTD/svg11.dtd\">\n<!-- Created with matplotlib (https://matplotlib.org/) -->\n<svg height=\"262.19625pt\" version=\"1.1\" viewBox=\"0 0 411.23125 262.19625\" width=\"411.23125pt\" xmlns=\"http://www.w3.org/2000/svg\" xmlns:xlink=\"http://www.w3.org/1999/xlink\">\n <metadata>\n  <rdf:RDF xmlns:cc=\"http://creativecommons.org/ns#\" xmlns:dc=\"http://purl.org/dc/elements/1.1/\" xmlns:rdf=\"http://www.w3.org/1999/02/22-rdf-syntax-ns#\">\n   <cc:Work>\n    <dc:type rdf:resource=\"http://purl.org/dc/dcmitype/StillImage\"/>\n    <dc:date>2020-09-11T19:51:16.136358</dc:date>\n    <dc:format>image/svg+xml</dc:format>\n    <dc:creator>\n     <cc:Agent>\n      <dc:title>Matplotlib v3.3.1, https://matplotlib.org/</dc:title>\n     </cc:Agent>\n    </dc:creator>\n   </cc:Work>\n  </rdf:RDF>\n </metadata>\n <defs>\n  <style type=\"text/css\">*{stroke-linecap:butt;stroke-linejoin:round;}</style>\n </defs>\n <g id=\"figure_1\">\n  <g id=\"patch_1\">\n   <path d=\"M -0 262.19625 \nL 411.23125 262.19625 \nL 411.23125 0 \nL -0 0 \nz\n\" style=\"fill:none;\"/>\n  </g>\n  <g id=\"axes_1\">\n   <g id=\"patch_2\">\n    <path d=\"M 69.23125 224.64 \nL 404.03125 224.64 \nL 404.03125 7.2 \nL 69.23125 7.2 \nz\n\" style=\"fill:#ffffff;\"/>\n   </g>\n   <g id=\"matplotlib.axis_1\">\n    <g id=\"xtick_1\">\n     <g id=\"line2d_1\">\n      <defs>\n       <path d=\"M 0 0 \nL 0 3.5 \n\" id=\"mcb2f155ce4\" style=\"stroke:#000000;stroke-width:0.8;\"/>\n      </defs>\n      <g>\n       <use style=\"stroke:#000000;stroke-width:0.8;\" x=\"114.885795\" xlink:href=\"#mcb2f155ce4\" y=\"224.64\"/>\n      </g>\n     </g>\n     <g id=\"text_1\">\n      <!-- 4 -->\n      <g transform=\"translate(111.704545 239.238437)scale(0.1 -0.1)\">\n       <defs>\n        <path d=\"M 37.796875 64.3125 \nL 12.890625 25.390625 \nL 37.796875 25.390625 \nz\nM 35.203125 72.90625 \nL 47.609375 72.90625 \nL 47.609375 25.390625 \nL 58.015625 25.390625 \nL 58.015625 17.1875 \nL 47.609375 17.1875 \nL 47.609375 0 \nL 37.796875 0 \nL 37.796875 17.1875 \nL 4.890625 17.1875 \nL 4.890625 26.703125 \nz\n\" id=\"DejaVuSans-52\"/>\n       </defs>\n       <use xlink:href=\"#DejaVuSans-52\"/>\n      </g>\n     </g>\n    </g>\n    <g id=\"xtick_2\">\n     <g id=\"line2d_2\">\n      <g>\n       <use style=\"stroke:#000000;stroke-width:0.8;\" x=\"175.758523\" xlink:href=\"#mcb2f155ce4\" y=\"224.64\"/>\n      </g>\n     </g>\n     <g id=\"text_2\">\n      <!-- 6 -->\n      <g transform=\"translate(172.577273 239.238437)scale(0.1 -0.1)\">\n       <defs>\n        <path d=\"M 33.015625 40.375 \nQ 26.375 40.375 22.484375 35.828125 \nQ 18.609375 31.296875 18.609375 23.390625 \nQ 18.609375 15.53125 22.484375 10.953125 \nQ 26.375 6.390625 33.015625 6.390625 \nQ 39.65625 6.390625 43.53125 10.953125 \nQ 47.40625 15.53125 47.40625 23.390625 \nQ 47.40625 31.296875 43.53125 35.828125 \nQ 39.65625 40.375 33.015625 40.375 \nz\nM 52.59375 71.296875 \nL 52.59375 62.3125 \nQ 48.875 64.0625 45.09375 64.984375 \nQ 41.3125 65.921875 37.59375 65.921875 \nQ 27.828125 65.921875 22.671875 59.328125 \nQ 17.53125 52.734375 16.796875 39.40625 \nQ 19.671875 43.65625 24.015625 45.921875 \nQ 28.375 48.1875 33.59375 48.1875 \nQ 44.578125 48.1875 50.953125 41.515625 \nQ 57.328125 34.859375 57.328125 23.390625 \nQ 57.328125 12.15625 50.6875 5.359375 \nQ 44.046875 -1.421875 33.015625 -1.421875 \nQ 20.359375 -1.421875 13.671875 8.265625 \nQ 6.984375 17.96875 6.984375 36.375 \nQ 6.984375 53.65625 15.1875 63.9375 \nQ 23.390625 74.21875 37.203125 74.21875 \nQ 40.921875 74.21875 44.703125 73.484375 \nQ 48.484375 72.75 52.59375 71.296875 \nz\n\" id=\"DejaVuSans-54\"/>\n       </defs>\n       <use xlink:href=\"#DejaVuSans-54\"/>\n      </g>\n     </g>\n    </g>\n    <g id=\"xtick_3\">\n     <g id=\"line2d_3\">\n      <g>\n       <use style=\"stroke:#000000;stroke-width:0.8;\" x=\"236.63125\" xlink:href=\"#mcb2f155ce4\" y=\"224.64\"/>\n      </g>\n     </g>\n     <g id=\"text_3\">\n      <!-- 8 -->\n      <g transform=\"translate(233.45 239.238437)scale(0.1 -0.1)\">\n       <defs>\n        <path d=\"M 31.78125 34.625 \nQ 24.75 34.625 20.71875 30.859375 \nQ 16.703125 27.09375 16.703125 20.515625 \nQ 16.703125 13.921875 20.71875 10.15625 \nQ 24.75 6.390625 31.78125 6.390625 \nQ 38.8125 6.390625 42.859375 10.171875 \nQ 46.921875 13.96875 46.921875 20.515625 \nQ 46.921875 27.09375 42.890625 30.859375 \nQ 38.875 34.625 31.78125 34.625 \nz\nM 21.921875 38.8125 \nQ 15.578125 40.375 12.03125 44.71875 \nQ 8.5 49.078125 8.5 55.328125 \nQ 8.5 64.0625 14.71875 69.140625 \nQ 20.953125 74.21875 31.78125 74.21875 \nQ 42.671875 74.21875 48.875 69.140625 \nQ 55.078125 64.0625 55.078125 55.328125 \nQ 55.078125 49.078125 51.53125 44.71875 \nQ 48 40.375 41.703125 38.8125 \nQ 48.828125 37.15625 52.796875 32.3125 \nQ 56.78125 27.484375 56.78125 20.515625 \nQ 56.78125 9.90625 50.3125 4.234375 \nQ 43.84375 -1.421875 31.78125 -1.421875 \nQ 19.734375 -1.421875 13.25 4.234375 \nQ 6.78125 9.90625 6.78125 20.515625 \nQ 6.78125 27.484375 10.78125 32.3125 \nQ 14.796875 37.15625 21.921875 38.8125 \nz\nM 18.3125 54.390625 \nQ 18.3125 48.734375 21.84375 45.5625 \nQ 25.390625 42.390625 31.78125 42.390625 \nQ 38.140625 42.390625 41.71875 45.5625 \nQ 45.3125 48.734375 45.3125 54.390625 \nQ 45.3125 60.0625 41.71875 63.234375 \nQ 38.140625 66.40625 31.78125 66.40625 \nQ 25.390625 66.40625 21.84375 63.234375 \nQ 18.3125 60.0625 18.3125 54.390625 \nz\n\" id=\"DejaVuSans-56\"/>\n       </defs>\n       <use xlink:href=\"#DejaVuSans-56\"/>\n      </g>\n     </g>\n    </g>\n    <g id=\"xtick_4\">\n     <g id=\"line2d_4\">\n      <g>\n       <use style=\"stroke:#000000;stroke-width:0.8;\" x=\"297.503977\" xlink:href=\"#mcb2f155ce4\" y=\"224.64\"/>\n      </g>\n     </g>\n     <g id=\"text_4\">\n      <!-- 10 -->\n      <g transform=\"translate(291.141477 239.238437)scale(0.1 -0.1)\">\n       <defs>\n        <path d=\"M 12.40625 8.296875 \nL 28.515625 8.296875 \nL 28.515625 63.921875 \nL 10.984375 60.40625 \nL 10.984375 69.390625 \nL 28.421875 72.90625 \nL 38.28125 72.90625 \nL 38.28125 8.296875 \nL 54.390625 8.296875 \nL 54.390625 0 \nL 12.40625 0 \nz\n\" id=\"DejaVuSans-49\"/>\n        <path d=\"M 31.78125 66.40625 \nQ 24.171875 66.40625 20.328125 58.90625 \nQ 16.5 51.421875 16.5 36.375 \nQ 16.5 21.390625 20.328125 13.890625 \nQ 24.171875 6.390625 31.78125 6.390625 \nQ 39.453125 6.390625 43.28125 13.890625 \nQ 47.125 21.390625 47.125 36.375 \nQ 47.125 51.421875 43.28125 58.90625 \nQ 39.453125 66.40625 31.78125 66.40625 \nz\nM 31.78125 74.21875 \nQ 44.046875 74.21875 50.515625 64.515625 \nQ 56.984375 54.828125 56.984375 36.375 \nQ 56.984375 17.96875 50.515625 8.265625 \nQ 44.046875 -1.421875 31.78125 -1.421875 \nQ 19.53125 -1.421875 13.0625 8.265625 \nQ 6.59375 17.96875 6.59375 36.375 \nQ 6.59375 54.828125 13.0625 64.515625 \nQ 19.53125 74.21875 31.78125 74.21875 \nz\n\" id=\"DejaVuSans-48\"/>\n       </defs>\n       <use xlink:href=\"#DejaVuSans-49\"/>\n       <use x=\"63.623047\" xlink:href=\"#DejaVuSans-48\"/>\n      </g>\n     </g>\n    </g>\n    <g id=\"xtick_5\">\n     <g id=\"line2d_5\">\n      <g>\n       <use style=\"stroke:#000000;stroke-width:0.8;\" x=\"358.376705\" xlink:href=\"#mcb2f155ce4\" y=\"224.64\"/>\n      </g>\n     </g>\n     <g id=\"text_5\">\n      <!-- 12 -->\n      <g transform=\"translate(352.014205 239.238437)scale(0.1 -0.1)\">\n       <defs>\n        <path d=\"M 19.1875 8.296875 \nL 53.609375 8.296875 \nL 53.609375 0 \nL 7.328125 0 \nL 7.328125 8.296875 \nQ 12.9375 14.109375 22.625 23.890625 \nQ 32.328125 33.6875 34.8125 36.53125 \nQ 39.546875 41.84375 41.421875 45.53125 \nQ 43.3125 49.21875 43.3125 52.78125 \nQ 43.3125 58.59375 39.234375 62.25 \nQ 35.15625 65.921875 28.609375 65.921875 \nQ 23.96875 65.921875 18.8125 64.3125 \nQ 13.671875 62.703125 7.8125 59.421875 \nL 7.8125 69.390625 \nQ 13.765625 71.78125 18.9375 73 \nQ 24.125 74.21875 28.421875 74.21875 \nQ 39.75 74.21875 46.484375 68.546875 \nQ 53.21875 62.890625 53.21875 53.421875 \nQ 53.21875 48.921875 51.53125 44.890625 \nQ 49.859375 40.875 45.40625 35.40625 \nQ 44.1875 33.984375 37.640625 27.21875 \nQ 31.109375 20.453125 19.1875 8.296875 \nz\n\" id=\"DejaVuSans-50\"/>\n       </defs>\n       <use xlink:href=\"#DejaVuSans-49\"/>\n       <use x=\"63.623047\" xlink:href=\"#DejaVuSans-50\"/>\n      </g>\n     </g>\n    </g>\n    <g id=\"text_6\">\n     <!-- epoch -->\n     <g transform=\"translate(221.403125 252.916562)scale(0.1 -0.1)\">\n      <defs>\n       <path d=\"M 56.203125 29.59375 \nL 56.203125 25.203125 \nL 14.890625 25.203125 \nQ 15.484375 15.921875 20.484375 11.0625 \nQ 25.484375 6.203125 34.421875 6.203125 \nQ 39.59375 6.203125 44.453125 7.46875 \nQ 49.3125 8.734375 54.109375 11.28125 \nL 54.109375 2.78125 \nQ 49.265625 0.734375 44.1875 -0.34375 \nQ 39.109375 -1.421875 33.890625 -1.421875 \nQ 20.796875 -1.421875 13.15625 6.1875 \nQ 5.515625 13.8125 5.515625 26.8125 \nQ 5.515625 40.234375 12.765625 48.109375 \nQ 20.015625 56 32.328125 56 \nQ 43.359375 56 49.78125 48.890625 \nQ 56.203125 41.796875 56.203125 29.59375 \nz\nM 47.21875 32.234375 \nQ 47.125 39.59375 43.09375 43.984375 \nQ 39.0625 48.390625 32.421875 48.390625 \nQ 24.90625 48.390625 20.390625 44.140625 \nQ 15.875 39.890625 15.1875 32.171875 \nz\n\" id=\"DejaVuSans-101\"/>\n       <path d=\"M 18.109375 8.203125 \nL 18.109375 -20.796875 \nL 9.078125 -20.796875 \nL 9.078125 54.6875 \nL 18.109375 54.6875 \nL 18.109375 46.390625 \nQ 20.953125 51.265625 25.265625 53.625 \nQ 29.59375 56 35.59375 56 \nQ 45.5625 56 51.78125 48.09375 \nQ 58.015625 40.1875 58.015625 27.296875 \nQ 58.015625 14.40625 51.78125 6.484375 \nQ 45.5625 -1.421875 35.59375 -1.421875 \nQ 29.59375 -1.421875 25.265625 0.953125 \nQ 20.953125 3.328125 18.109375 8.203125 \nz\nM 48.6875 27.296875 \nQ 48.6875 37.203125 44.609375 42.84375 \nQ 40.53125 48.484375 33.40625 48.484375 \nQ 26.265625 48.484375 22.1875 42.84375 \nQ 18.109375 37.203125 18.109375 27.296875 \nQ 18.109375 17.390625 22.1875 11.75 \nQ 26.265625 6.109375 33.40625 6.109375 \nQ 40.53125 6.109375 44.609375 11.75 \nQ 48.6875 17.390625 48.6875 27.296875 \nz\n\" id=\"DejaVuSans-112\"/>\n       <path d=\"M 30.609375 48.390625 \nQ 23.390625 48.390625 19.1875 42.75 \nQ 14.984375 37.109375 14.984375 27.296875 \nQ 14.984375 17.484375 19.15625 11.84375 \nQ 23.34375 6.203125 30.609375 6.203125 \nQ 37.796875 6.203125 41.984375 11.859375 \nQ 46.1875 17.53125 46.1875 27.296875 \nQ 46.1875 37.015625 41.984375 42.703125 \nQ 37.796875 48.390625 30.609375 48.390625 \nz\nM 30.609375 56 \nQ 42.328125 56 49.015625 48.375 \nQ 55.71875 40.765625 55.71875 27.296875 \nQ 55.71875 13.875 49.015625 6.21875 \nQ 42.328125 -1.421875 30.609375 -1.421875 \nQ 18.84375 -1.421875 12.171875 6.21875 \nQ 5.515625 13.875 5.515625 27.296875 \nQ 5.515625 40.765625 12.171875 48.375 \nQ 18.84375 56 30.609375 56 \nz\n\" id=\"DejaVuSans-111\"/>\n       <path d=\"M 48.78125 52.59375 \nL 48.78125 44.1875 \nQ 44.96875 46.296875 41.140625 47.34375 \nQ 37.3125 48.390625 33.40625 48.390625 \nQ 24.65625 48.390625 19.8125 42.84375 \nQ 14.984375 37.3125 14.984375 27.296875 \nQ 14.984375 17.28125 19.8125 11.734375 \nQ 24.65625 6.203125 33.40625 6.203125 \nQ 37.3125 6.203125 41.140625 7.25 \nQ 44.96875 8.296875 48.78125 10.40625 \nL 48.78125 2.09375 \nQ 45.015625 0.34375 40.984375 -0.53125 \nQ 36.96875 -1.421875 32.421875 -1.421875 \nQ 20.0625 -1.421875 12.78125 6.34375 \nQ 5.515625 14.109375 5.515625 27.296875 \nQ 5.515625 40.671875 12.859375 48.328125 \nQ 20.21875 56 33.015625 56 \nQ 37.15625 56 41.109375 55.140625 \nQ 45.0625 54.296875 48.78125 52.59375 \nz\n\" id=\"DejaVuSans-99\"/>\n       <path d=\"M 54.890625 33.015625 \nL 54.890625 0 \nL 45.90625 0 \nL 45.90625 32.71875 \nQ 45.90625 40.484375 42.875 44.328125 \nQ 39.84375 48.1875 33.796875 48.1875 \nQ 26.515625 48.1875 22.3125 43.546875 \nQ 18.109375 38.921875 18.109375 30.90625 \nL 18.109375 0 \nL 9.078125 0 \nL 9.078125 75.984375 \nL 18.109375 75.984375 \nL 18.109375 46.1875 \nQ 21.34375 51.125 25.703125 53.5625 \nQ 30.078125 56 35.796875 56 \nQ 45.21875 56 50.046875 50.171875 \nQ 54.890625 44.34375 54.890625 33.015625 \nz\n\" id=\"DejaVuSans-104\"/>\n      </defs>\n      <use xlink:href=\"#DejaVuSans-101\"/>\n      <use x=\"61.523438\" xlink:href=\"#DejaVuSans-112\"/>\n      <use x=\"125\" xlink:href=\"#DejaVuSans-111\"/>\n      <use x=\"186.181641\" xlink:href=\"#DejaVuSans-99\"/>\n      <use x=\"241.162109\" xlink:href=\"#DejaVuSans-104\"/>\n     </g>\n    </g>\n   </g>\n   <g id=\"matplotlib.axis_2\">\n    <g id=\"ytick_1\">\n     <g id=\"line2d_6\">\n      <defs>\n       <path d=\"M 0 0 \nL -3.5 0 \n\" id=\"me9ea087551\" style=\"stroke:#000000;stroke-width:0.8;\"/>\n      </defs>\n      <g>\n       <use style=\"stroke:#000000;stroke-width:0.8;\" x=\"69.23125\" xlink:href=\"#me9ea087551\" y=\"204.493082\"/>\n      </g>\n     </g>\n     <g id=\"text_7\">\n      <!-- 0.00750 -->\n      <g transform=\"translate(20.878125 208.2923)scale(0.1 -0.1)\">\n       <defs>\n        <path d=\"M 10.6875 12.40625 \nL 21 12.40625 \nL 21 0 \nL 10.6875 0 \nz\n\" id=\"DejaVuSans-46\"/>\n        <path d=\"M 8.203125 72.90625 \nL 55.078125 72.90625 \nL 55.078125 68.703125 \nL 28.609375 0 \nL 18.3125 0 \nL 43.21875 64.59375 \nL 8.203125 64.59375 \nz\n\" id=\"DejaVuSans-55\"/>\n        <path d=\"M 10.796875 72.90625 \nL 49.515625 72.90625 \nL 49.515625 64.59375 \nL 19.828125 64.59375 \nL 19.828125 46.734375 \nQ 21.96875 47.46875 24.109375 47.828125 \nQ 26.265625 48.1875 28.421875 48.1875 \nQ 40.625 48.1875 47.75 41.5 \nQ 54.890625 34.8125 54.890625 23.390625 \nQ 54.890625 11.625 47.5625 5.09375 \nQ 40.234375 -1.421875 26.90625 -1.421875 \nQ 22.3125 -1.421875 17.546875 -0.640625 \nQ 12.796875 0.140625 7.71875 1.703125 \nL 7.71875 11.625 \nQ 12.109375 9.234375 16.796875 8.0625 \nQ 21.484375 6.890625 26.703125 6.890625 \nQ 35.15625 6.890625 40.078125 11.328125 \nQ 45.015625 15.765625 45.015625 23.390625 \nQ 45.015625 31 40.078125 35.4375 \nQ 35.15625 39.890625 26.703125 39.890625 \nQ 22.75 39.890625 18.8125 39.015625 \nQ 14.890625 38.140625 10.796875 36.28125 \nz\n\" id=\"DejaVuSans-53\"/>\n       </defs>\n       <use xlink:href=\"#DejaVuSans-48\"/>\n       <use x=\"63.623047\" xlink:href=\"#DejaVuSans-46\"/>\n       <use x=\"95.410156\" xlink:href=\"#DejaVuSans-48\"/>\n       <use x=\"159.033203\" xlink:href=\"#DejaVuSans-48\"/>\n       <use x=\"222.65625\" xlink:href=\"#DejaVuSans-55\"/>\n       <use x=\"286.279297\" xlink:href=\"#DejaVuSans-53\"/>\n       <use x=\"349.902344\" xlink:href=\"#DejaVuSans-48\"/>\n      </g>\n     </g>\n    </g>\n    <g id=\"ytick_2\">\n     <g id=\"line2d_7\">\n      <g>\n       <use style=\"stroke:#000000;stroke-width:0.8;\" x=\"69.23125\" xlink:href=\"#me9ea087551\" y=\"177.219938\"/>\n      </g>\n     </g>\n     <g id=\"text_8\">\n      <!-- 0.00775 -->\n      <g transform=\"translate(20.878125 181.019157)scale(0.1 -0.1)\">\n       <use xlink:href=\"#DejaVuSans-48\"/>\n       <use x=\"63.623047\" xlink:href=\"#DejaVuSans-46\"/>\n       <use x=\"95.410156\" xlink:href=\"#DejaVuSans-48\"/>\n       <use x=\"159.033203\" xlink:href=\"#DejaVuSans-48\"/>\n       <use x=\"222.65625\" xlink:href=\"#DejaVuSans-55\"/>\n       <use x=\"286.279297\" xlink:href=\"#DejaVuSans-55\"/>\n       <use x=\"349.902344\" xlink:href=\"#DejaVuSans-53\"/>\n      </g>\n     </g>\n    </g>\n    <g id=\"ytick_3\">\n     <g id=\"line2d_8\">\n      <g>\n       <use style=\"stroke:#000000;stroke-width:0.8;\" x=\"69.23125\" xlink:href=\"#me9ea087551\" y=\"149.946795\"/>\n      </g>\n     </g>\n     <g id=\"text_9\">\n      <!-- 0.00800 -->\n      <g transform=\"translate(20.878125 153.746014)scale(0.1 -0.1)\">\n       <use xlink:href=\"#DejaVuSans-48\"/>\n       <use x=\"63.623047\" xlink:href=\"#DejaVuSans-46\"/>\n       <use x=\"95.410156\" xlink:href=\"#DejaVuSans-48\"/>\n       <use x=\"159.033203\" xlink:href=\"#DejaVuSans-48\"/>\n       <use x=\"222.65625\" xlink:href=\"#DejaVuSans-56\"/>\n       <use x=\"286.279297\" xlink:href=\"#DejaVuSans-48\"/>\n       <use x=\"349.902344\" xlink:href=\"#DejaVuSans-48\"/>\n      </g>\n     </g>\n    </g>\n    <g id=\"ytick_4\">\n     <g id=\"line2d_9\">\n      <g>\n       <use style=\"stroke:#000000;stroke-width:0.8;\" x=\"69.23125\" xlink:href=\"#me9ea087551\" y=\"122.673652\"/>\n      </g>\n     </g>\n     <g id=\"text_10\">\n      <!-- 0.00825 -->\n      <g transform=\"translate(20.878125 126.47287)scale(0.1 -0.1)\">\n       <use xlink:href=\"#DejaVuSans-48\"/>\n       <use x=\"63.623047\" xlink:href=\"#DejaVuSans-46\"/>\n       <use x=\"95.410156\" xlink:href=\"#DejaVuSans-48\"/>\n       <use x=\"159.033203\" xlink:href=\"#DejaVuSans-48\"/>\n       <use x=\"222.65625\" xlink:href=\"#DejaVuSans-56\"/>\n       <use x=\"286.279297\" xlink:href=\"#DejaVuSans-50\"/>\n       <use x=\"349.902344\" xlink:href=\"#DejaVuSans-53\"/>\n      </g>\n     </g>\n    </g>\n    <g id=\"ytick_5\">\n     <g id=\"line2d_10\">\n      <g>\n       <use style=\"stroke:#000000;stroke-width:0.8;\" x=\"69.23125\" xlink:href=\"#me9ea087551\" y=\"95.400508\"/>\n      </g>\n     </g>\n     <g id=\"text_11\">\n      <!-- 0.00850 -->\n      <g transform=\"translate(20.878125 99.199727)scale(0.1 -0.1)\">\n       <use xlink:href=\"#DejaVuSans-48\"/>\n       <use x=\"63.623047\" xlink:href=\"#DejaVuSans-46\"/>\n       <use x=\"95.410156\" xlink:href=\"#DejaVuSans-48\"/>\n       <use x=\"159.033203\" xlink:href=\"#DejaVuSans-48\"/>\n       <use x=\"222.65625\" xlink:href=\"#DejaVuSans-56\"/>\n       <use x=\"286.279297\" xlink:href=\"#DejaVuSans-53\"/>\n       <use x=\"349.902344\" xlink:href=\"#DejaVuSans-48\"/>\n      </g>\n     </g>\n    </g>\n    <g id=\"ytick_6\">\n     <g id=\"line2d_11\">\n      <g>\n       <use style=\"stroke:#000000;stroke-width:0.8;\" x=\"69.23125\" xlink:href=\"#me9ea087551\" y=\"68.127365\"/>\n      </g>\n     </g>\n     <g id=\"text_12\">\n      <!-- 0.00875 -->\n      <g transform=\"translate(20.878125 71.926584)scale(0.1 -0.1)\">\n       <use xlink:href=\"#DejaVuSans-48\"/>\n       <use x=\"63.623047\" xlink:href=\"#DejaVuSans-46\"/>\n       <use x=\"95.410156\" xlink:href=\"#DejaVuSans-48\"/>\n       <use x=\"159.033203\" xlink:href=\"#DejaVuSans-48\"/>\n       <use x=\"222.65625\" xlink:href=\"#DejaVuSans-56\"/>\n       <use x=\"286.279297\" xlink:href=\"#DejaVuSans-55\"/>\n       <use x=\"349.902344\" xlink:href=\"#DejaVuSans-53\"/>\n      </g>\n     </g>\n    </g>\n    <g id=\"ytick_7\">\n     <g id=\"line2d_12\">\n      <g>\n       <use style=\"stroke:#000000;stroke-width:0.8;\" x=\"69.23125\" xlink:href=\"#me9ea087551\" y=\"40.854221\"/>\n      </g>\n     </g>\n     <g id=\"text_13\">\n      <!-- 0.00900 -->\n      <g transform=\"translate(20.878125 44.65344)scale(0.1 -0.1)\">\n       <defs>\n        <path d=\"M 10.984375 1.515625 \nL 10.984375 10.5 \nQ 14.703125 8.734375 18.5 7.8125 \nQ 22.3125 6.890625 25.984375 6.890625 \nQ 35.75 6.890625 40.890625 13.453125 \nQ 46.046875 20.015625 46.78125 33.40625 \nQ 43.953125 29.203125 39.59375 26.953125 \nQ 35.25 24.703125 29.984375 24.703125 \nQ 19.046875 24.703125 12.671875 31.3125 \nQ 6.296875 37.9375 6.296875 49.421875 \nQ 6.296875 60.640625 12.9375 67.421875 \nQ 19.578125 74.21875 30.609375 74.21875 \nQ 43.265625 74.21875 49.921875 64.515625 \nQ 56.59375 54.828125 56.59375 36.375 \nQ 56.59375 19.140625 48.40625 8.859375 \nQ 40.234375 -1.421875 26.421875 -1.421875 \nQ 22.703125 -1.421875 18.890625 -0.6875 \nQ 15.09375 0.046875 10.984375 1.515625 \nz\nM 30.609375 32.421875 \nQ 37.25 32.421875 41.125 36.953125 \nQ 45.015625 41.5 45.015625 49.421875 \nQ 45.015625 57.28125 41.125 61.84375 \nQ 37.25 66.40625 30.609375 66.40625 \nQ 23.96875 66.40625 20.09375 61.84375 \nQ 16.21875 57.28125 16.21875 49.421875 \nQ 16.21875 41.5 20.09375 36.953125 \nQ 23.96875 32.421875 30.609375 32.421875 \nz\n\" id=\"DejaVuSans-57\"/>\n       </defs>\n       <use xlink:href=\"#DejaVuSans-48\"/>\n       <use x=\"63.623047\" xlink:href=\"#DejaVuSans-46\"/>\n       <use x=\"95.410156\" xlink:href=\"#DejaVuSans-48\"/>\n       <use x=\"159.033203\" xlink:href=\"#DejaVuSans-48\"/>\n       <use x=\"222.65625\" xlink:href=\"#DejaVuSans-57\"/>\n       <use x=\"286.279297\" xlink:href=\"#DejaVuSans-48\"/>\n       <use x=\"349.902344\" xlink:href=\"#DejaVuSans-48\"/>\n      </g>\n     </g>\n    </g>\n    <g id=\"ytick_8\">\n     <g id=\"line2d_13\">\n      <g>\n       <use style=\"stroke:#000000;stroke-width:0.8;\" x=\"69.23125\" xlink:href=\"#me9ea087551\" y=\"13.581078\"/>\n      </g>\n     </g>\n     <g id=\"text_14\">\n      <!-- 0.00925 -->\n      <g transform=\"translate(20.878125 17.380297)scale(0.1 -0.1)\">\n       <use xlink:href=\"#DejaVuSans-48\"/>\n       <use x=\"63.623047\" xlink:href=\"#DejaVuSans-46\"/>\n       <use x=\"95.410156\" xlink:href=\"#DejaVuSans-48\"/>\n       <use x=\"159.033203\" xlink:href=\"#DejaVuSans-48\"/>\n       <use x=\"222.65625\" xlink:href=\"#DejaVuSans-57\"/>\n       <use x=\"286.279297\" xlink:href=\"#DejaVuSans-50\"/>\n       <use x=\"349.902344\" xlink:href=\"#DejaVuSans-53\"/>\n      </g>\n     </g>\n    </g>\n    <g id=\"text_15\">\n     <!-- loss -->\n     <g transform=\"translate(14.798437 125.577812)rotate(-90)scale(0.1 -0.1)\">\n      <defs>\n       <path d=\"M 9.421875 75.984375 \nL 18.40625 75.984375 \nL 18.40625 0 \nL 9.421875 0 \nz\n\" id=\"DejaVuSans-108\"/>\n       <path d=\"M 44.28125 53.078125 \nL 44.28125 44.578125 \nQ 40.484375 46.53125 36.375 47.5 \nQ 32.28125 48.484375 27.875 48.484375 \nQ 21.1875 48.484375 17.84375 46.4375 \nQ 14.5 44.390625 14.5 40.28125 \nQ 14.5 37.15625 16.890625 35.375 \nQ 19.28125 33.59375 26.515625 31.984375 \nL 29.59375 31.296875 \nQ 39.15625 29.25 43.1875 25.515625 \nQ 47.21875 21.78125 47.21875 15.09375 \nQ 47.21875 7.46875 41.1875 3.015625 \nQ 35.15625 -1.421875 24.609375 -1.421875 \nQ 20.21875 -1.421875 15.453125 -0.5625 \nQ 10.6875 0.296875 5.421875 2 \nL 5.421875 11.28125 \nQ 10.40625 8.6875 15.234375 7.390625 \nQ 20.0625 6.109375 24.8125 6.109375 \nQ 31.15625 6.109375 34.5625 8.28125 \nQ 37.984375 10.453125 37.984375 14.40625 \nQ 37.984375 18.0625 35.515625 20.015625 \nQ 33.0625 21.96875 24.703125 23.78125 \nL 21.578125 24.515625 \nQ 13.234375 26.265625 9.515625 29.90625 \nQ 5.8125 33.546875 5.8125 39.890625 \nQ 5.8125 47.609375 11.28125 51.796875 \nQ 16.75 56 26.8125 56 \nQ 31.78125 56 36.171875 55.265625 \nQ 40.578125 54.546875 44.28125 53.078125 \nz\n\" id=\"DejaVuSans-115\"/>\n      </defs>\n      <use xlink:href=\"#DejaVuSans-108\"/>\n      <use x=\"27.783203\" xlink:href=\"#DejaVuSans-111\"/>\n      <use x=\"88.964844\" xlink:href=\"#DejaVuSans-115\"/>\n      <use x=\"141.064453\" xlink:href=\"#DejaVuSans-115\"/>\n     </g>\n    </g>\n   </g>\n   <g id=\"line2d_14\">\n    <path clip-path=\"url(#p1eb2ebfc63)\" d=\"M 84.449432 78.31859 \nL 114.885795 164.412818 \nL 145.322159 139.828372 \nL 175.758523 214.756364 \nL 206.194886 187.083774 \nL 236.63125 96.741786 \nL 267.067614 150.378961 \nL 297.503977 214.254255 \nL 327.940341 94.01981 \nL 358.376705 187.792386 \nL 388.813068 17.083636 \n\" style=\"fill:none;stroke:#1f77b4;stroke-linecap:square;stroke-width:2;\"/>\n   </g>\n   <g id=\"patch_3\">\n    <path d=\"M 69.23125 224.64 \nL 69.23125 7.2 \n\" style=\"fill:none;stroke:#000000;stroke-linecap:square;stroke-linejoin:miter;stroke-width:0.8;\"/>\n   </g>\n   <g id=\"patch_4\">\n    <path d=\"M 404.03125 224.64 \nL 404.03125 7.2 \n\" style=\"fill:none;stroke:#000000;stroke-linecap:square;stroke-linejoin:miter;stroke-width:0.8;\"/>\n   </g>\n   <g id=\"patch_5\">\n    <path d=\"M 69.23125 224.64 \nL 404.03125 224.64 \n\" style=\"fill:none;stroke:#000000;stroke-linecap:square;stroke-linejoin:miter;stroke-width:0.8;\"/>\n   </g>\n   <g id=\"patch_6\">\n    <path d=\"M 69.23125 7.2 \nL 404.03125 7.2 \n\" style=\"fill:none;stroke:#000000;stroke-linecap:square;stroke-linejoin:miter;stroke-width:0.8;\"/>\n   </g>\n   <g id=\"legend_1\">\n    <g id=\"patch_7\">\n     <path d=\"M 76.23125 29.878125 \nL 154.50625 29.878125 \nQ 156.50625 29.878125 156.50625 27.878125 \nL 156.50625 14.2 \nQ 156.50625 12.2 154.50625 12.2 \nL 76.23125 12.2 \nQ 74.23125 12.2 74.23125 14.2 \nL 74.23125 27.878125 \nQ 74.23125 29.878125 76.23125 29.878125 \nz\n\" style=\"fill:#ffffff;opacity:0.8;stroke:#cccccc;stroke-linejoin:miter;\"/>\n    </g>\n    <g id=\"line2d_15\">\n     <path d=\"M 78.23125 20.298437 \nL 98.23125 20.298437 \n\" style=\"fill:none;stroke:#1f77b4;stroke-linecap:square;stroke-width:2;\"/>\n    </g>\n    <g id=\"line2d_16\"/>\n    <g id=\"text_16\">\n     <!-- loss level -->\n     <g transform=\"translate(106.23125 23.798437)scale(0.1 -0.1)\">\n      <defs>\n       <path id=\"DejaVuSans-32\"/>\n       <path d=\"M 2.984375 54.6875 \nL 12.5 54.6875 \nL 29.59375 8.796875 \nL 46.6875 54.6875 \nL 56.203125 54.6875 \nL 35.6875 0 \nL 23.484375 0 \nz\n\" id=\"DejaVuSans-118\"/>\n      </defs>\n      <use xlink:href=\"#DejaVuSans-108\"/>\n      <use x=\"27.783203\" xlink:href=\"#DejaVuSans-111\"/>\n      <use x=\"88.964844\" xlink:href=\"#DejaVuSans-115\"/>\n      <use x=\"141.064453\" xlink:href=\"#DejaVuSans-115\"/>\n      <use x=\"193.164062\" xlink:href=\"#DejaVuSans-32\"/>\n      <use x=\"224.951172\" xlink:href=\"#DejaVuSans-108\"/>\n      <use x=\"252.734375\" xlink:href=\"#DejaVuSans-101\"/>\n      <use x=\"314.257812\" xlink:href=\"#DejaVuSans-118\"/>\n      <use x=\"373.4375\" xlink:href=\"#DejaVuSans-101\"/>\n      <use x=\"434.960938\" xlink:href=\"#DejaVuSans-108\"/>\n     </g>\n    </g>\n   </g>\n  </g>\n </g>\n <defs>\n  <clipPath id=\"p1eb2ebfc63\">\n   <rect height=\"217.44\" width=\"334.8\" x=\"69.23125\" y=\"7.2\"/>\n  </clipPath>\n </defs>\n</svg>\n",
      "image/png": "[encoded data removed]"
     },
     "metadata": {
      "needs_background": "light"
     }
    }
   ],
   "source": [
    "plt.figure()\n",
    "plot_idx = np.arange(np.size(loss_optm))\n",
    "plt.plot(plot_idx[3:-1],loss_optm[3:-1],lw=2,label='loss level')\n",
    "plt.xlabel('epoch')\n",
    "plt.ylabel('loss')\n",
    "plt.legend()\n",
    "plt.show(block=False)"
   ]
  },
  {
   "cell_type": "markdown",
   "metadata": {
    "colab_type": "text",
    "id": "iF-gZIOko2Jd"
   },
   "source": [
    "## Step 4. Validation\n",
    "**Validate the trained model using the test set**"
   ]
  },
  {
   "cell_type": "markdown",
   "metadata": {
    "colab_type": "text",
    "id": "2uCp3fEEFGCv"
   },
   "source": [
    "When a model is trained, we can use the following method to evaluate the performance of the model on the test dataset:"
   ]
  },
  {
   "cell_type": "code",
   "execution_count": 22,
   "metadata": {
    "colab": {},
    "colab_type": "code",
    "id": "nrhVrVUb0d2t",
    "tags": []
   },
   "outputs": [
    {
     "output_type": "stream",
     "name": "stdout",
     "text": "torch.Size([24, 1, 1200])\n"
    }
   ],
   "source": [
    "# Generate one data pt. for testing the trained model\n",
    "def get_xy_test(index):\n",
    "    tempx=np.array([np.transpose(x_test)[index]])\n",
    "    x_train_one=torch.from_numpy(tempx).float()\n",
    "    x_train_one=x_train_one.transpose(0,1)\n",
    "\n",
    "    tempy=np.array([np.transpose(y_test)[index]])\n",
    "    y_train_one=torch.from_numpy(tempy).float()\n",
    "    y_train_one=y_train_one.transpose(0,1)\n",
    "\n",
    "    return x_train_one,y_train_one\n",
    "\n",
    "# generate torch y_train for concatenated obj\n",
    "y_test1 = torch.from_numpy(y_test)#.float()\n",
    "# expand into 3d tensor \n",
    "y_test1.unsqueeze_(-1)\n",
    "y_test1 = y_test1.expand(n_bus,n_test,1)\n",
    "y_test1 = y_test1.transpose(2,1)\n",
    "print(y_test1.shape)"
   ]
  },
  {
   "cell_type": "code",
   "execution_count": 23,
   "metadata": {
    "colab": {},
    "colab_type": "code",
    "id": "C5PBICs8E51B"
   },
   "outputs": [],
   "source": [
    "# model evaluation function\n",
    "def evaluate(model, g, features, labels, n, I):\n",
    "    model.eval()\n",
    "    with torch.no_grad():\n",
    "      indices = torch.tensor(np.zeros((n_bus,1,n)))\n",
    "      for sample in range(n):\n",
    "        x_sample,y_sample=get_xy_test(sample)\n",
    "        logits = model(g, I, x_sample)\n",
    "        logp = logits\n",
    "        # logp = torch.sigmoid(logits)\n",
    "        # logp = F.log_softmax(logits, 1)\n",
    "        # _, indices1 = torch.max(logp, dim=1)\n",
    "        indices[:,:,sample] = logp.clone()\n",
    "\n",
    "      # correct = torch.sum(indices == labels)\n",
    "      # return correct.item() * 1.0 / len(labels)\n",
    "      return indices"
   ]
  },
  {
   "cell_type": "code",
   "execution_count": 24,
   "metadata": {
    "colab": {},
    "colab_type": "code",
    "id": "L5VvNfm_cFMD",
    "tags": []
   },
   "outputs": [
    {
     "output_type": "stream",
     "name": "stdout",
     "text": "(24, 1200)\ntorch.Size([24, 1, 1200])\n"
    }
   ],
   "source": [
    "print(x_test.shape)\n",
    "print(y_test1.shape)"
   ]
  },
  {
   "cell_type": "code",
   "execution_count": 25,
   "metadata": {
    "colab": {},
    "colab_type": "code",
    "id": "YrE4bhDc64fK"
   },
   "outputs": [],
   "source": [
    "# make predictions\n",
    "indices = evaluate(net, G, x_test, y_test1,n_test, I_bus)\n",
    "# test_acc = evaluate(net, G, x_test, y_test1,n_test)\n",
    "# print(\"Epoch_last {:05d} | Loss {:.4f} | Test Acc {:.4f}\".format(epoch, loss.item(), test_acc))"
   ]
  },
  {
   "cell_type": "code",
   "execution_count": 26,
   "metadata": {
    "colab": {},
    "colab_type": "code",
    "id": "S7QRkoh8b1cm",
    "tags": []
   },
   "outputs": [
    {
     "output_type": "stream",
     "name": "stdout",
     "text": "L_infty mean:  0.4356632132296591\nL_1 mean:  1.5227703809037367\n0.05828738212585449 29\n0.45503627965421556 1117\n"
    }
   ],
   "source": [
    "y_test0 = y_test1.numpy().copy()\n",
    "y_pred0 = indices.numpy().copy()\n",
    "\n",
    "L_infty_err = []\n",
    "L1_err = []\n",
    "for i in range(n_test):\n",
    "  L_infty_err.append(np.max(np.abs(y_test0[:,:,i]-y_pred0[:,:,i])))\n",
    "  L1_err.append(np.sum(np.abs(y_test0[:,:,i]-y_pred0[:,:,i])))\n",
    "print('L_infty mean: ',np.mean(L_infty_err))\n",
    "print('L_1 mean: ',np.mean(L1_err))\n",
    " \n",
    "val, idx = min((val, idx) for (idx, val) in enumerate(L_infty_err))\n",
    "print(val,idx)\n",
    "# print('L_inf sample: \\n',y_test[:,:,idx])\n",
    "# print(y_pred[:,:,idx])\n",
    "val1, idx1 = min((val, idx) for (idx, val) in enumerate(L1_err))\n",
    "print(val1,idx1)\n",
    "# print('L1 sample: \\n',y_test[:,:,idx1])\n",
    "# print(y_pred[:,:,idx1])"
   ]
  },
  {
   "cell_type": "code",
   "execution_count": 27,
   "metadata": {
    "colab": {},
    "colab_type": "code",
    "id": "CW9qX0nGgoS_",
    "tags": []
   },
   "outputs": [
    {
     "output_type": "stream",
     "name": "stdout",
     "text": "(24, 6000)\n(24, 6000)\n"
    }
   ],
   "source": [
    "print(load_data[0:n_bus,:].shape)\n",
    "print(y0[0:n_bus,0:n_sample].shape)"
   ]
  },
  {
   "cell_type": "code",
   "execution_count": 28,
   "metadata": {
    "colab": {},
    "colab_type": "code",
    "id": "3pQ1v0b58NRH"
   },
   "outputs": [],
   "source": [
    "# Save the predictions for other training/evaluation jobs\n",
    "\n",
    "\n",
    "# import pprint\n",
    "# from os import path\n",
    "#\n",
    "# from datetime import datetime\n",
    "# from packaging import version\n",
    "\n",
    "def save_dataset(test_case, dataset):\n",
    "    file_name = test_case.split('.')[0]\n",
    "    file_path = 'drive/My Drive/gnn/numerical_results/'\n",
    "    file_dir = file_path + file_name + '.pickle'\n",
    "    outfile = open(file_dir, 'wb')\n",
    "    pickle.dump(dataset, outfile)\n",
    "    outfile.close()\n",
    "\n",
    "def get_xy_eval(index):\n",
    "    tempx=np.array([np.transpose(load_data[0:n_bus,:])[index]])\n",
    "    x_train_one=torch.from_numpy(tempx).float()\n",
    "    x_train_one=x_train_one.transpose(0,1)\n",
    "\n",
    "    return x_train_one\n",
    "\n",
    "def model_eval(model, g, features, n, I):\n",
    "    model.eval()\n",
    "    with torch.no_grad():\n",
    "      indices = torch.tensor(np.zeros((n_bus,1,n)))\n",
    "      for sample in range(n):\n",
    "        x_sample=get_xy_eval(sample)\n",
    "        logits = model(g, I, x_sample)\n",
    "        logp = logits\n",
    "        indices[:,:,sample] = logp.clone()\n",
    "\n",
    "      return indices\n",
    "\n",
    "indices = model_eval(net, G, load_data[0:n_bus,:], n_sample, I_bus)"
   ]
  },
  {
   "cell_type": "code",
   "execution_count": 25,
   "metadata": {
    "colab": {},
    "colab_type": "code",
    "id": "NdH_Svt5js05"
   },
   "outputs": [
    {
     "name": "stdout",
     "output_type": "stream",
     "text": [
      "torch.Size([24, 1, 6000])\n"
     ]
    },
    {
     "name": "stderr",
     "output_type": "stream",
     "text": [
      "/Users/jeehyunpark/anaconda3/envs/GNN4OPF/lib/python3.7/site-packages/ipykernel_launcher.py:5: RuntimeWarning: invalid value encountered in true_divide\n",
      "  \"\"\"\n"
     ]
    },
    {
     "ename": "FileNotFoundError",
     "evalue": "[Errno 2] No such file or directory: 'drive/My Drive/gnn/numerical_results/GNN_24bus_gen_prediction_copy_new.pickle'",
     "output_type": "error",
     "traceback": [
      "\u001b[0;31m---------------------------------------------------------------------------\u001b[0m",
      "\u001b[0;31mFileNotFoundError\u001b[0m                         Traceback (most recent call last)",
      "\u001b[0;32m<ipython-input-25-91d84198b4fd>\u001b[0m in \u001b[0;36m<module>\u001b[0;34m\u001b[0m\n\u001b[1;32m     13\u001b[0m \u001b[0;31m# print(dataset)\u001b[0m\u001b[0;34m\u001b[0m\u001b[0;34m\u001b[0m\u001b[0;34m\u001b[0m\u001b[0m\n\u001b[1;32m     14\u001b[0m \u001b[0mfilename\u001b[0m \u001b[0;34m=\u001b[0m \u001b[0;34m'GNN_24bus_gen_prediction_copy_new'\u001b[0m\u001b[0;34m\u001b[0m\u001b[0;34m\u001b[0m\u001b[0m\n\u001b[0;32m---> 15\u001b[0;31m \u001b[0msave_dataset\u001b[0m\u001b[0;34m(\u001b[0m\u001b[0mfilename\u001b[0m\u001b[0;34m,\u001b[0m \u001b[0mdataset\u001b[0m\u001b[0;34m)\u001b[0m\u001b[0;34m\u001b[0m\u001b[0;34m\u001b[0m\u001b[0m\n\u001b[0m\u001b[1;32m     16\u001b[0m \u001b[0;34m\u001b[0m\u001b[0m\n",
      "\u001b[0;32m<ipython-input-24-a3117fbc61ed>\u001b[0m in \u001b[0;36msave_dataset\u001b[0;34m(test_case, dataset)\u001b[0m\n\u001b[1;32m     12\u001b[0m     \u001b[0mfile_path\u001b[0m \u001b[0;34m=\u001b[0m \u001b[0;34m'drive/My Drive/gnn/numerical_results/'\u001b[0m\u001b[0;34m\u001b[0m\u001b[0;34m\u001b[0m\u001b[0m\n\u001b[1;32m     13\u001b[0m     \u001b[0mfile_dir\u001b[0m \u001b[0;34m=\u001b[0m \u001b[0mfile_path\u001b[0m \u001b[0;34m+\u001b[0m \u001b[0mfile_name\u001b[0m \u001b[0;34m+\u001b[0m \u001b[0;34m'.pickle'\u001b[0m\u001b[0;34m\u001b[0m\u001b[0;34m\u001b[0m\u001b[0m\n\u001b[0;32m---> 14\u001b[0;31m     \u001b[0moutfile\u001b[0m \u001b[0;34m=\u001b[0m \u001b[0mopen\u001b[0m\u001b[0;34m(\u001b[0m\u001b[0mfile_dir\u001b[0m\u001b[0;34m,\u001b[0m \u001b[0;34m'wb'\u001b[0m\u001b[0;34m)\u001b[0m\u001b[0;34m\u001b[0m\u001b[0;34m\u001b[0m\u001b[0m\n\u001b[0m\u001b[1;32m     15\u001b[0m     \u001b[0mpickle\u001b[0m\u001b[0;34m.\u001b[0m\u001b[0mdump\u001b[0m\u001b[0;34m(\u001b[0m\u001b[0mdataset\u001b[0m\u001b[0;34m,\u001b[0m \u001b[0moutfile\u001b[0m\u001b[0;34m)\u001b[0m\u001b[0;34m\u001b[0m\u001b[0;34m\u001b[0m\u001b[0m\n\u001b[1;32m     16\u001b[0m     \u001b[0moutfile\u001b[0m\u001b[0;34m.\u001b[0m\u001b[0mclose\u001b[0m\u001b[0;34m(\u001b[0m\u001b[0;34m)\u001b[0m\u001b[0;34m\u001b[0m\u001b[0;34m\u001b[0m\u001b[0m\n",
      "\u001b[0;31mFileNotFoundError\u001b[0m: [Errno 2] No such file or directory: 'drive/My Drive/gnn/numerical_results/GNN_24bus_gen_prediction_copy_new.pickle'"
     ]
    }
   ],
   "source": [
    "# generation prediction by GNN model\n",
    "print(indices.shape)\n",
    "gen_pred_norm = indices.numpy().copy()\n",
    "\n",
    "y0[j,i] = np.divide(gen_exact[j,i]-gen_low_limit[j],gen_up_limit[j]-gen_low_limit[j])\n",
    "\n",
    "gen_pred = np.zeros((n_bus,n_sample))\n",
    "for i in range(n_sample):\n",
    "  for j in range(n_bus):\n",
    "    gen_pred[j,i] = indices[j,0,i] * (gen_up_limit[j]-gen_low_limit[j]) + gen_low_limit[j]\n",
    "\n",
    "dataset = {'pred': gen_pred}\n",
    "# print(dataset)\n",
    "filename = 'GNN_24bus_gen_prediction_copy_new'\n",
    "save_dataset(filename, dataset)"
   ]
  },
  {
   "cell_type": "code",
   "execution_count": null,
   "metadata": {
    "colab": {},
    "colab_type": "code",
    "id": "lZ5hVfqjde3z"
   },
   "outputs": [],
   "source": [
    "for i in range(10):\n",
    "  print(np.sum(x_train[:,i]),np.sum(gen_pred[:,i]))\n",
    "# print(np.sum(gen_pred[:,1]))"
   ]
  },
  {
   "cell_type": "code",
   "execution_count": null,
   "metadata": {
    "colab": {},
    "colab_type": "code",
    "id": "0h31WYc4LtTG"
   },
   "outputs": [],
   "source": [
    "# Evaluate the prediction accuracy by relative error\n",
    "acc_threshold1 = 0.05\n",
    "acc_threshold = 0.1\n",
    "\n",
    "acc_count = 0\n",
    "acc_count1 = 0\n",
    "for i in range(24):\n",
    "  if np.abs(y_test0[i,:,idx]) > 0:\n",
    "    if np.abs(y_test0[i,:,idx]-y_pred0[i,:,idx])/np.abs(y_test0[i,:,idx]) < acc_threshold or np.abs(y_test0[i,:,idx]-y_pred0[i,:,idx]) < acc_threshold1:\n",
    "        acc_count = acc_count+1\n",
    "    if np.abs(y_test0[i,:,idx1]-y_pred0[i,:,idx1])/np.abs(y_test0[i,:,idx1]) < acc_threshold or np.abs(y_test0[i,:,idx1]-y_pred0[i,:,idx1]) < acc_threshold1:\n",
    "        acc_count1 = acc_count1+1\n",
    "  else:\n",
    "    if np.abs(y_test0[i,:,idx]-y_pred0[i,:,idx]) < acc_threshold1:\n",
    "        acc_count = acc_count+1\n",
    "    if np.abs(y_test0[i,:,idx1]-y_pred0[i,:,idx1]) < acc_threshold1:\n",
    "        acc_count1 = acc_count1+1\n",
    "print('most accurate L_inf: ',acc_count,'  L_1: ',acc_count1)\n",
    "\n",
    "\n",
    "acc_test = np.zeros(y_test0.shape[0])\n",
    "for j in range(y_test0.shape[0]):\n",
    "  acc_count = 0\n",
    "  for i in range(24):\n",
    "    if np.abs(y_test0[i,:,j]) > 0:\n",
    "      if np.abs(y_test0[i,:,j]-y_pred0[i,:,j])/np.abs(y_test0[i,:,j]) < acc_threshold or np.abs(y_test0[i,:,j]-y_pred0[i,:,j]) < acc_threshold1:\n",
    "          acc_count = acc_count+1\n",
    "    else:\n",
    "      if np.abs(y_test0[i,:,j]-y_pred0[i,:,j]) < acc_threshold1:\n",
    "          acc_count = acc_count+1\n",
    "  acc_test[j] = acc_count\n",
    "print('Mean accuracy: ',np.mean(acc_test)) "
   ]
  },
  {
   "cell_type": "code",
   "execution_count": null,
   "metadata": {
    "colab": {},
    "colab_type": "code",
    "id": "SzHeOYpbIZ41"
   },
   "outputs": [],
   "source": [
    "\n",
    "# for i in range(3):\n",
    "  # print('Prediction:',indices[:,:,i].transpose(0,1))\n",
    "  # print('Ture label:',y_test1[:,:,i].transpose(0,1))"
   ]
  },
  {
   "cell_type": "markdown",
   "metadata": {
    "colab_type": "text",
    "id": "eu4vxBiiG7IN"
   },
   "source": [
    "## Data visualization"
   ]
  },
  {
   "cell_type": "code",
   "execution_count": null,
   "metadata": {
    "colab": {},
    "colab_type": "code",
    "id": "kZIQUKv3G42U"
   },
   "outputs": [],
   "source": [
    "def result_reshape(data):\n",
    "    result_dim = math.ceil(math.sqrt(len(data)))\n",
    "    reshaped_data = np.zeros((result_dim, result_dim))\n",
    "\n",
    "    for i in range(result_dim):\n",
    "        for j in range(result_dim):\n",
    "            try:\n",
    "                reshaped_data[i][j] = data[result_dim * i + j]\n",
    "            except IndexError:\n",
    "                reshaped_data[i][j] = -1\n",
    "    return reshaped_data\n",
    "\n",
    "\n",
    "def test_vs_pred(y_test, y_pred,  data_idx, test_case):\n",
    "    y_test0 = y_test[:,:,data_idx]\n",
    "    y_pred0 = y_pred[:,:,data_idx]\n",
    "    y_test_reshaped = result_reshape(y_test0)\n",
    "    y_pred_reshaped = result_reshape(y_pred0)\n",
    "\n",
    "    fig, axes = plt.subplots(nrows=1, ncols=2, figsize=(16, 8))\n",
    "\n",
    "    fig.suptitle('Active Constraints Distribution: ' + test_case.split('.')[0], size=19, y=0.88)\n",
    "    axes[0].set_title('y_test', size=15, y=1.03)\n",
    "    axes[1].set_title('y_pred', size=15, y=1.03)\n",
    "    # axes[2].set_title('y_pred_binary', size=15, y=1.03)\n",
    "\n",
    "    sns.heatmap(y_test_reshaped,\n",
    "                xticklabels=False,\n",
    "                yticklabels=False,\n",
    "                cbar_kws={'ticks': [-1, 0, 1], 'shrink': .75},\n",
    "                square=True,\n",
    "                ax=axes[0])\n",
    "\n",
    "    sns.heatmap(y_pred_reshaped,\n",
    "                xticklabels=False,\n",
    "                yticklabels=False,\n",
    "                cbar_kws={'ticks': [-1, 0, 1], 'shrink': .75},\n",
    "                square=True,\n",
    "                ax=axes[1])\n",
    "    \n",
    "\n",
    "    fig.show()\n",
    "    # file_dir = path.join('drive/My Drive/OPF_Porject_EE394V_SPR2020-master/codes/experiments/figures/', test_case.split('.')[0] + '.png')\n",
    "    # fig.savefig(file_dir, format='png')"
   ]
  },
  {
   "cell_type": "code",
   "execution_count": null,
   "metadata": {
    "colab": {},
    "colab_type": "code",
    "id": "wrfl_miqWLip"
   },
   "outputs": [],
   "source": [
    "print(y_test1[:,:,1].transpose(0,1))\n",
    "print(indices[:,:,1].transpose(0,1))"
   ]
  },
  {
   "cell_type": "code",
   "execution_count": null,
   "metadata": {
    "colab": {},
    "colab_type": "code",
    "id": "LNlT68rcHGHV"
   },
   "outputs": [],
   "source": [
    "# y_test1.resize_((n_bus+n_line,n_test))\n",
    "# indices_int.resize_((n_bus+n_line,n_test))\n",
    "# indices.resize_((n_bus+n_line,n_test))\n",
    "\n",
    "test_cases = [\n",
    "    'pglib_opf_case24_ieee_rts.pickle', \n",
    "]\n",
    "\n",
    "data_idx = [7,10,33,55,64,78,96]\n",
    "data_idx = np.arange(10)\n",
    "# test_vs_pred(y_test, y_pred, data_idx, test_cases[case_idx])\n",
    "for i in range(len(data_idx)):\n",
    "  test_vs_pred(y_test1, indices, data_idx[i], test_cases[0])"
   ]
  },
  {
   "cell_type": "code",
   "execution_count": null,
   "metadata": {
    "pycharm": {
     "name": "#%%\n"
    }
   },
   "outputs": [],
   "source": []
  }
 ],
 "metadata": {
  "accelerator": "GPU",
  "colab": {
   "collapsed_sections": [],
   "name": "Copy of GNN_n2n_exact_gen_0831_copy.ipynb",
   "provenance": [
    {
     "file_id": "1yH55jcqo2EZ9wVWSiPdFfxyqbMTDEEpC",
     "timestamp": 1599494521560
    }
   ]
  },
  "kernelspec": {
   "display_name": "Python 3",
   "language": "python",
   "name": "python3"
  },
  "language_info": {
   "codemirror_mode": {
    "name": "ipython",
    "version": 3
   },
   "file_extension": ".py",
   "mimetype": "text/x-python",
   "name": "python",
   "nbconvert_exporter": "python",
   "pygments_lexer": "ipython3",
   "version": "3.8.5-final"
  },
  "toc": {
   "base_numbering": 1,
   "nav_menu": {},
   "number_sections": true,
   "sideBar": true,
   "skip_h1_title": false,
   "title_cell": "Table of Contents",
   "title_sidebar": "Contents",
   "toc_cell": false,
   "toc_position": {},
   "toc_section_display": true,
   "toc_window_display": false
  },
  "varInspector": {
   "cols": {
    "lenName": 16,
    "lenType": 16,
    "lenVar": 40
   },
   "kernels_config": {
    "python": {
     "delete_cmd_postfix": "",
     "delete_cmd_prefix": "del ",
     "library": "var_list.py",
     "varRefreshCmd": "print(var_dic_list())"
    },
    "r": {
     "delete_cmd_postfix": ") ",
     "delete_cmd_prefix": "rm(",
     "library": "var_list.r",
     "varRefreshCmd": "cat(var_dic_list()) "
    }
   },
   "types_to_exclude": [
    "module",
    "function",
    "builtin_function_or_method",
    "instance",
    "_Feature"
   ],
   "window_display": false
  }
 },
 "nbformat": 4,
 "nbformat_minor": 1
}