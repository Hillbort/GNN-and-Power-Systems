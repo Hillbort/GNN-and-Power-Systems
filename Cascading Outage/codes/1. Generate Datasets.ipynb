{
 "cells": [
  {
   "cell_type": "markdown",
   "metadata": {},
   "source": [
    "# Generate N-2 Contingency Datasets"
   ]
  },
  {
   "cell_type": "code",
   "execution_count": 1,
   "metadata": {
    "ExecuteTime": {
     "end_time": "2021-01-11T07:38:10.991369Z",
     "start_time": "2021-01-11T07:38:09.967199Z"
    }
   },
   "outputs": [
    {
     "name": "stdout",
     "output_type": "stream",
     "text": [
      "usage: gen_dataset_n_2.py [-h] [-c C] [-i I] [-j J] [-n N]\r\n",
      "\r\n",
      "optional arguments:\r\n",
      "  -h, --help  show this help message and exit\r\n",
      "  -c C        case number\r\n",
      "  -i I        trip branch index i\r\n",
      "  -j J        trip branch index j\r\n",
      "  -n N        the number of generated samples for each outage pair\r\n"
     ]
    }
   ],
   "source": [
    "!python gen_dataset_n_2.py -h"
   ]
  },
  {
   "cell_type": "markdown",
   "metadata": {},
   "source": [
    "## Case 9-bus\n",
    "- Number of Branches = 9\n",
    "- Number of All Outages Pairs = $\\binom{9}{2}$"
   ]
  },
  {
   "cell_type": "code",
   "execution_count": 2,
   "metadata": {
    "ExecuteTime": {
     "end_time": "2021-01-11T07:41:28.970538Z",
     "start_time": "2021-01-11T07:38:40.186841Z"
    }
   },
   "outputs": [
    {
     "name": "stdout",
     "output_type": "stream",
     "text": [
      "> Contingency: N-2\n",
      "> Case Name: case9\n",
      "> Number of Branches: 9\n",
      "> Number of Outage Pairs: 36.0\n",
      "> Number of Generated Samples per Outage Pair: 1\n",
      "> Total Number of Generated Samples: 36.0\n",
      "\n",
      "> tripped branch index: (1, 2)\n",
      "\n",
      "  0%|                                                     | 0/1 [00:00<?, ?it/s]Reducing Newton step size.\n",
      "Reducing Newton step size.\n",
      "Reducing Newton step size.\n",
      "Reducing Newton step size.\n",
      "Reducing Newton step size.\n",
      "Reducing Newton step size.\n",
      "Reducing Newton step size.\n",
      "Reducing Newton step size.\n",
      "Reducing Newton step size.\n",
      "Reducing Newton step size.\n",
      "Reducing Newton step size.\n",
      "Algorithm failure in the newton step.\n",
      "100%|█████████████████████████████████████████████| 1/1 [00:03<00:00,  3.10s/it]\n",
      "\n",
      "> tripped branch index: (1, 3)\n",
      "\n",
      "  0%|                                                     | 0/1 [00:00<?, ?it/s]Reducing Newton step size.\n",
      "Reducing Newton step size.\n",
      "Reducing Newton step size.\n",
      "Reducing Newton step size.\n",
      "Reducing Newton step size.\n",
      "Reducing Newton step size.\n",
      "Reducing Newton step size.\n",
      "Reducing Newton step size.\n",
      "Reducing Newton step size.\n",
      "Reducing Newton step size.\n",
      "Reducing Newton step size.\n",
      "Algorithm failure in the newton step.\n",
      "100%|█████████████████████████████████████████████| 1/1 [00:02<00:00,  2.31s/it]\n",
      "\n",
      "> tripped branch index: (1, 4)\n",
      "\n",
      "100%|█████████████████████████████████████████████| 1/1 [00:02<00:00,  2.33s/it]\n",
      "\n",
      "> tripped branch index: (1, 5)\n",
      "\n",
      "100%|█████████████████████████████████████████████| 1/1 [00:00<00:00,  2.30it/s]\n",
      "\n",
      "> tripped branch index: (1, 6)\n",
      "\n",
      "100%|█████████████████████████████████████████████| 1/1 [00:00<00:00,  1.76it/s]\n",
      "\n",
      "> tripped branch index: (1, 7)\n",
      "\n",
      "100%|█████████████████████████████████████████████| 1/1 [00:00<00:00,  2.36it/s]\n",
      "\n",
      "> tripped branch index: (1, 8)\n",
      "\n",
      "100%|█████████████████████████████████████████████| 1/1 [00:00<00:00,  2.42it/s]\n",
      "\n",
      "> tripped branch index: (1, 9)\n",
      "\n",
      "100%|█████████████████████████████████████████████| 1/1 [00:00<00:00,  2.46it/s]\n",
      "\n",
      "> tripped branch index: (2, 3)\n",
      "\n",
      "100%|█████████████████████████████████████████████| 1/1 [00:00<00:00,  2.34it/s]\n",
      "\n",
      "> tripped branch index: (2, 4)\n",
      "\n",
      "100%|█████████████████████████████████████████████| 1/1 [00:00<00:00,  2.27it/s]\n",
      "\n",
      "> tripped branch index: (2, 5)\n",
      "\n",
      "100%|█████████████████████████████████████████████| 1/1 [00:00<00:00,  2.25it/s]\n",
      "\n",
      "> tripped branch index: (2, 6)\n",
      "\n",
      "100%|█████████████████████████████████████████████| 1/1 [00:11<00:00, 11.64s/it]\n",
      "\n",
      "> tripped branch index: (2, 7)\n",
      "\n",
      "100%|█████████████████████████████████████████████| 1/1 [00:09<00:00,  9.83s/it]\n",
      "\n",
      "> tripped branch index: (2, 8)\n",
      "\n",
      "100%|█████████████████████████████████████████████| 1/1 [00:11<00:00, 11.83s/it]\n",
      "\n",
      "> tripped branch index: (2, 9)\n",
      "\n",
      "100%|█████████████████████████████████████████████| 1/1 [00:00<00:00,  2.50it/s]\n",
      "\n",
      "> tripped branch index: (3, 4)\n",
      "\n",
      "100%|█████████████████████████████████████████████| 1/1 [00:00<00:00,  2.02it/s]\n",
      "\n",
      "> tripped branch index: (3, 5)\n",
      "\n",
      "100%|█████████████████████████████████████████████| 1/1 [00:00<00:00,  2.24it/s]\n",
      "\n",
      "> tripped branch index: (3, 6)\n",
      "\n",
      "100%|█████████████████████████████████████████████| 1/1 [00:12<00:00, 12.31s/it]\n",
      "\n",
      "> tripped branch index: (3, 7)\n",
      "\n",
      "100%|█████████████████████████████████████████████| 1/1 [00:07<00:00,  7.29s/it]\n",
      "\n",
      "> tripped branch index: (3, 8)\n",
      "\n",
      "100%|█████████████████████████████████████████████| 1/1 [00:00<00:00,  2.63it/s]\n",
      "\n",
      "> tripped branch index: (3, 9)\n",
      "\n",
      "100%|█████████████████████████████████████████████| 1/1 [00:06<00:00,  6.14s/it]\n",
      "\n",
      "> tripped branch index: (4, 5)\n",
      "\n",
      "100%|█████████████████████████████████████████████| 1/1 [00:00<00:00,  2.52it/s]\n",
      "\n",
      "> tripped branch index: (4, 6)\n",
      "\n",
      "  0%|                                                     | 0/1 [00:00<?, ?it/s]Reducing Newton step size.\n",
      "Reducing Newton step size.\n",
      "Reducing Newton step size.\n",
      "Reducing Newton step size.\n",
      "Reducing Newton step size.\n",
      "Reducing Newton step size.\n",
      "Reducing Newton step size.\n",
      "Reducing Newton step size.\n",
      "Reducing Newton step size.\n",
      "Reducing Newton step size.\n",
      "Reducing Newton step size.\n",
      "Algorithm failure in the newton step.\n",
      "100%|█████████████████████████████████████████████| 1/1 [00:02<00:00,  2.23s/it]\n",
      "\n",
      "> tripped branch index: (4, 7)\n",
      "\n",
      "100%|█████████████████████████████████████████████| 1/1 [00:07<00:00,  7.11s/it]\n",
      "\n",
      "> tripped branch index: (4, 8)\n",
      "\n",
      "100%|█████████████████████████████████████████████| 1/1 [00:07<00:00,  7.23s/it]\n",
      "\n",
      "> tripped branch index: (4, 9)\n",
      "\n",
      "100%|█████████████████████████████████████████████| 1/1 [00:03<00:00,  3.37s/it]\n",
      "\n",
      "> tripped branch index: (5, 6)\n",
      "\n",
      "100%|█████████████████████████████████████████████| 1/1 [00:08<00:00,  8.05s/it]\n",
      "\n",
      "> tripped branch index: (5, 7)\n",
      "\n",
      "100%|█████████████████████████████████████████████| 1/1 [00:02<00:00,  2.79s/it]\n",
      "\n",
      "> tripped branch index: (5, 8)\n",
      "\n",
      "100%|█████████████████████████████████████████████| 1/1 [00:07<00:00,  7.72s/it]\n",
      "\n",
      "> tripped branch index: (5, 9)\n",
      "\n",
      "100%|█████████████████████████████████████████████| 1/1 [00:06<00:00,  6.30s/it]\n",
      "\n",
      "> tripped branch index: (6, 7)\n",
      "\n",
      "  0%|                                                     | 0/1 [00:00<?, ?it/s]Reducing Newton step size.\n",
      "Reducing Newton step size.\n",
      "Reducing Newton step size.\n",
      "Reducing Newton step size.\n",
      "Reducing Newton step size.\n",
      "Reducing Newton step size.\n",
      "Reducing Newton step size.\n",
      "Reducing Newton step size.\n",
      "Reducing Newton step size.\n",
      "Reducing Newton step size.\n",
      "Reducing Newton step size.\n",
      "Reducing Newton step size.\n",
      "Reducing Newton step size.\n",
      "Reducing Newton step size.\n",
      "Reducing Newton step size.\n",
      "Reducing Newton step size.\n",
      "Algorithm failure in the newton step.\n",
      "Reducing Newton step size.\n",
      "Reducing Newton step size.\n",
      "Reducing Newton step size.\n",
      "Reducing Newton step size.\n",
      "Reducing Newton step size.\n",
      "Reducing Newton step size.\n",
      "Reducing Newton step size.\n",
      "Reducing Newton step size.\n",
      "Reducing Newton step size.\n",
      "Reducing Newton step size.\n",
      "Reducing Newton step size.\n",
      "Algorithm failure in the newton step.\n",
      "100%|█████████████████████████████████████████████| 1/1 [00:07<00:00,  7.39s/it]\n",
      "\n",
      "> tripped branch index: (6, 8)\n",
      "\n",
      "100%|█████████████████████████████████████████████| 1/1 [00:09<00:00,  9.79s/it]\n",
      "\n",
      "> tripped branch index: (6, 9)\n",
      "\n",
      "100%|█████████████████████████████████████████████| 1/1 [00:10<00:00, 10.09s/it]\n",
      "\n",
      "> tripped branch index: (7, 8)\n",
      "\n",
      "100%|█████████████████████████████████████████████| 1/1 [00:05<00:00,  5.51s/it]\n",
      "\n",
      "> tripped branch index: (7, 9)\n",
      "\n",
      "100%|█████████████████████████████████████████████| 1/1 [00:06<00:00,  6.10s/it]\n",
      "\n",
      "> tripped branch index: (8, 9)\n",
      "\n",
      "100%|█████████████████████████████████████████████| 1/1 [00:07<00:00,  7.51s/it]\n"
     ]
    }
   ],
   "source": [
    "!python gen_dataset_n_2.py -c 9 -n 1"
   ]
  },
  {
   "cell_type": "code",
   "execution_count": null,
   "metadata": {},
   "outputs": [],
   "source": []
  },
  {
   "cell_type": "code",
   "execution_count": null,
   "metadata": {},
   "outputs": [],
   "source": []
  },
  {
   "cell_type": "markdown",
   "metadata": {},
   "source": [
    "## Case 39-bus\n",
    "- Number of Branches = 46\n",
    "- Number of All Outages Pairs = $\\binom{46}{2}$"
   ]
  },
  {
   "cell_type": "code",
   "execution_count": 36,
   "metadata": {
    "ExecuteTime": {
     "end_time": "2021-01-11T07:36:41.381821Z",
     "start_time": "2021-01-11T07:36:28.108680Z"
    }
   },
   "outputs": [
    {
     "name": "stdout",
     "output_type": "stream",
     "text": [
      "> Contingency: N-2\n",
      "> Case Name: case39\n",
      "> Number of Branches: 46\n",
      "> Number of Outage Pairs: 44\n",
      "> Number of Generated Samples per Outage Pair: 10\n",
      "> Total Number of Generated Samples: 440\n",
      "\n",
      "> tripped branch index: (1, 2)\n",
      "\n",
      "  0%|                                                    | 0/10 [00:00<?, ?it/s]starting simulation at t = 0\n",
      "writing results to sim_case39_20210111T013634.csv\n",
      "\n",
      " Simulating from t=0 s to t=5 s\n",
      " Completed simulation up until t=5\n",
      " Writing simulation results to sim_case39_20210111T013634.csv\n",
      "  t = 5.0000: Branch 1 tripped...\n",
      "  t = 5.0000: Branch 2 tripped...\n",
      "\n",
      " Simulating from t=5 s to t=400 s\n",
      "  t = 5.0000: The network partitioned into two islands...\n",
      " Completed simulation up until t=400\n",
      " Writing simulation results to sim_case39_20210111T013634.csv\n",
      "Completed simulation from 0 sec. to 400 sec. \n",
      "^C\n"
     ]
    }
   ],
   "source": [
    "!python gen_dataset_n_2.py -c 39 -j 2 -n 1"
   ]
  },
  {
   "cell_type": "markdown",
   "metadata": {},
   "source": [
    "## Case 2383-bus\n",
    "- Number of Branches = N\n",
    "- Number of All Outages Pairs = $\\binom{N}{2}$"
   ]
  },
  {
   "cell_type": "code",
   "execution_count": null,
   "metadata": {},
   "outputs": [],
   "source": [
    "!python gen_dataset_n_2.py -c 2383 -i 1 -n 10"
   ]
  }
 ],
 "metadata": {
  "kernelspec": {
   "display_name": "Python 3",
   "language": "python",
   "name": "python3"
  },
  "language_info": {
   "codemirror_mode": {
    "name": "ipython",
    "version": 3
   },
   "file_extension": ".py",
   "mimetype": "text/x-python",
   "name": "python",
   "nbconvert_exporter": "python",
   "pygments_lexer": "ipython3",
   "version": "3.7.9"
  },
  "latex_envs": {
   "LaTeX_envs_menu_present": true,
   "autoclose": false,
   "autocomplete": true,
   "bibliofile": "biblio.bib",
   "cite_by": "apalike",
   "current_citInitial": 1,
   "eqLabelWithNumbers": true,
   "eqNumInitial": 1,
   "hotkeys": {
    "equation": "Ctrl-E",
    "itemize": "Ctrl-I"
   },
   "labels_anchors": false,
   "latex_user_defs": false,
   "report_style_numbering": false,
   "user_envs_cfg": false
  },
  "toc": {
   "base_numbering": 1,
   "nav_menu": {},
   "number_sections": false,
   "sideBar": true,
   "skip_h1_title": false,
   "title_cell": "Table of Contents",
   "title_sidebar": "Contents",
   "toc_cell": false,
   "toc_position": {},
   "toc_section_display": true,
   "toc_window_display": false
  },
  "varInspector": {
   "cols": {
    "lenName": 16,
    "lenType": 16,
    "lenVar": 40
   },
   "kernels_config": {
    "python": {
     "delete_cmd_postfix": "",
     "delete_cmd_prefix": "del ",
     "library": "var_list.py",
     "varRefreshCmd": "print(var_dic_list())"
    },
    "r": {
     "delete_cmd_postfix": ") ",
     "delete_cmd_prefix": "rm(",
     "library": "var_list.r",
     "varRefreshCmd": "cat(var_dic_list()) "
    }
   },
   "types_to_exclude": [
    "module",
    "function",
    "builtin_function_or_method",
    "instance",
    "_Feature"
   ],
   "window_display": false
  }
 },
 "nbformat": 4,
 "nbformat_minor": 4
}
