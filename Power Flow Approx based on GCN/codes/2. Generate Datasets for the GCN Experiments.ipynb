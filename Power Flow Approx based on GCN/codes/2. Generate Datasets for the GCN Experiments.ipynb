{
 "cells": [
  {
   "cell_type": "markdown",
   "metadata": {},
   "source": [
    "# 1. Generate dataset for GCN"
   ]
  },
  {
   "cell_type": "code",
   "execution_count": 1,
   "metadata": {
    "ExecuteTime": {
     "end_time": "2020-11-30T13:34:32.719253Z",
     "start_time": "2020-11-30T13:34:31.413036Z"
    }
   },
   "outputs": [
    {
     "name": "stdout",
     "output_type": "stream",
     "text": [
      "usage: gen_dataset.py [-h] [-i I] [-n N]\r\n",
      "\r\n",
      "optional arguments:\r\n",
      "  -h, --help  show this help message and exit\r\n",
      "  -i I        input mat file name\r\n",
      "  -n N        the number of generated samples\r\n"
     ]
    }
   ],
   "source": [
    "!python gen_dataset.py -h"
   ]
  },
  {
   "cell_type": "code",
   "execution_count": 2,
   "metadata": {
    "ExecuteTime": {
     "end_time": "2020-11-30T13:43:54.647424Z",
     "start_time": "2020-11-30T13:34:33.156017Z"
    }
   },
   "outputs": [
    {
     "name": "stdout",
     "output_type": "stream",
     "text": [
      ">input args\n",
      "\t- case_name: case39.m\n",
      "\t- number of samples = 10000\n",
      "> start generating dastaset\n",
      "  0%|                                                 | 0/10000 [00:00<?, ?it/s]Warning: Matrix is close to singular or badly scaled. Results may be inaccurate. RCOND =  5.845718e-18.\n",
      "> In mplinsolve (line 70)\n",
      "  In mips (line 468)\n",
      "  In nlps_master (line 231)\n",
      "  In opt_model/solve (line 175)\n",
      "  In nlpopf_solver (line 123)\n",
      "  In opf_execute (line 134)\n",
      "  In opf (line 232)\n",
      "  In runopf (line 75)\n",
      "  In run_opf_ac (line 31)\n",
      "\n",
      "  0%|                                      | 11/10000 [00:04<1:03:32,  2.62it/s]Warning: Matrix is close to singular or badly scaled. Results may be inaccurate. RCOND =  3.795759e-20.\n",
      "> In mplinsolve (line 70)\n",
      "  In mips (line 468)\n",
      "  In nlps_master (line 231)\n",
      "  In opt_model/solve (line 175)\n",
      "  In nlpopf_solver (line 123)\n",
      "  In opf_execute (line 134)\n",
      "  In opf (line 232)\n",
      "  In runopf (line 75)\n",
      "  In run_opf_ac (line 31)\n",
      "\n",
      "  0%|                                        | 13/10000 [00:04<47:18,  3.52it/s]Warning: Matrix is close to singular or badly scaled. Results may be inaccurate. RCOND =  1.416326e-16.\n",
      "> In mplinsolve (line 70)\n",
      "  In mips (line 468)\n",
      "  In nlps_master (line 231)\n",
      "  In opt_model/solve (line 175)\n",
      "  In nlpopf_solver (line 123)\n",
      "  In opf_execute (line 134)\n",
      "  In opf (line 232)\n",
      "  In runopf (line 75)\n",
      "  In run_opf_ac (line 31)\n",
      "\n",
      "Warning: Matrix is close to singular or badly scaled. Results may be inaccurate. RCOND =  2.710636e-18.\n",
      "> In mplinsolve (line 70)\n",
      "  In mips (line 468)\n",
      "  In nlps_master (line 231)\n",
      "  In opt_model/solve (line 175)\n",
      "  In nlpopf_solver (line 123)\n",
      "  In opf_execute (line 134)\n",
      "  In opf (line 232)\n",
      "  In runopf (line 75)\n",
      "  In run_opf_ac (line 31)\n",
      "\n",
      "  0%|                                        | 17/10000 [00:05<28:15,  5.89it/s]Warning: Matrix is close to singular or badly scaled. Results may be inaccurate. RCOND =  3.636067e-17.\n",
      "> In mplinsolve (line 70)\n",
      "  In mips (line 468)\n",
      "  In nlps_master (line 231)\n",
      "  In opt_model/solve (line 175)\n",
      "  In nlpopf_solver (line 123)\n",
      "  In opf_execute (line 134)\n",
      "  In opf (line 232)\n",
      "  In runopf (line 75)\n",
      "  In run_opf_ac (line 31)\n",
      "\n",
      "  0%|                                        | 27/10000 [00:05<12:39, 13.13it/s]Warning: Matrix is close to singular or badly scaled. Results may be inaccurate. RCOND =  1.717776e-16.\n",
      "> In mplinsolve (line 70)\n",
      "  In mips (line 468)\n",
      "  In nlps_master (line 231)\n",
      "  In opt_model/solve (line 175)\n",
      "  In nlpopf_solver (line 123)\n",
      "  In opf_execute (line 134)\n",
      "  In opf (line 232)\n",
      "  In runopf (line 75)\n",
      "  In run_opf_ac (line 31)\n",
      "\n",
      "Warning: Matrix is close to singular or badly scaled. Results may be inaccurate. RCOND =  6.385076e-18.\n",
      "> In mplinsolve (line 70)\n",
      "  In mips (line 468)\n",
      "  In nlps_master (line 231)\n",
      "  In opt_model/solve (line 175)\n",
      "  In nlpopf_solver (line 123)\n",
      "  In opf_execute (line 134)\n",
      "  In opf (line 232)\n",
      "  In runopf (line 75)\n",
      "  In run_opf_ac (line 31)\n",
      "\n",
      "  0%|▏                                       | 33/10000 [00:06<11:23, 14.59it/s]Warning: Matrix is close to singular or badly scaled. Results may be inaccurate. RCOND =  1.674518e-18.\n",
      "> In mplinsolve (line 70)\n",
      "  In mips (line 468)\n",
      "  In nlps_master (line 231)\n",
      "  In opt_model/solve (line 175)\n",
      "  In nlpopf_solver (line 123)\n",
      "  In opf_execute (line 134)\n",
      "  In opf (line 232)\n",
      "  In runopf (line 75)\n",
      "  In run_opf_ac (line 31)\n",
      "\n",
      "Warning: Matrix is close to singular or badly scaled. Results may be inaccurate. RCOND =  2.924967e-20.\n",
      "> In mplinsolve (line 70)\n",
      "  In mips (line 468)\n",
      "  In nlps_master (line 231)\n",
      "  In opt_model/solve (line 175)\n",
      "  In nlpopf_solver (line 123)\n",
      "  In opf_execute (line 134)\n",
      "  In opf (line 232)\n",
      "  In runopf (line 75)\n",
      "  In run_opf_ac (line 31)\n",
      "\n",
      "  0%|▏                                       | 35/10000 [00:06<10:58, 15.13it/s]Warning: Matrix is close to singular or badly scaled. Results may be inaccurate. RCOND =  8.814391e-17.\n",
      "> In mplinsolve (line 70)\n",
      "  In mips (line 468)\n",
      "  In nlps_master (line 231)\n",
      "  In opt_model/solve (line 175)\n",
      "  In nlpopf_solver (line 123)\n",
      "  In opf_execute (line 134)\n",
      "  In opf (line 232)\n",
      "  In runopf (line 75)\n",
      "  In run_opf_ac (line 31)\n",
      "\n",
      "Warning: Matrix is close to singular or badly scaled. Results may be inaccurate. RCOND =  1.110864e-17.\n",
      "> In mplinsolve (line 70)\n",
      "  In mips (line 468)\n",
      "  In nlps_master (line 231)\n",
      "  In opt_model/solve (line 175)\n",
      "  In nlpopf_solver (line 123)\n",
      "  In opf_execute (line 134)\n",
      "  In opf (line 232)\n",
      "  In runopf (line 75)\n",
      "  In run_opf_ac (line 31)\n",
      "\n",
      "Warning: Matrix is close to singular or badly scaled. Results may be inaccurate. RCOND =  7.029817e-19.\n",
      "> In mplinsolve (line 70)\n",
      "  In mips (line 468)\n",
      "  In nlps_master (line 231)\n",
      "  In opt_model/solve (line 175)\n",
      "  In nlpopf_solver (line 123)\n",
      "  In opf_execute (line 134)\n",
      "  In opf (line 232)\n",
      "  In runopf (line 75)\n",
      "  In run_opf_ac (line 31)\n",
      "\n",
      "  0%|▏                                       | 43/10000 [00:06<10:38, 15.60it/s]Warning: Matrix is close to singular or badly scaled. Results may be inaccurate. RCOND =  1.469650e-19.\n",
      "> In mplinsolve (line 70)\n",
      "  In mips (line 468)\n",
      "  In nlps_master (line 231)\n",
      "  In opt_model/solve (line 175)\n",
      "  In nlpopf_solver (line 123)\n",
      "  In opf_execute (line 134)\n",
      "  In opf (line 232)\n",
      "  In runopf (line 75)\n",
      "  In run_opf_ac (line 31)\n",
      "\n",
      "  0%|▏                                       | 47/10000 [00:07<10:32, 15.74it/s]Warning: Matrix is close to singular or badly scaled. Results may be inaccurate. RCOND =  2.753020e-18.\n",
      "> In mplinsolve (line 70)\n",
      "  In mips (line 468)\n",
      "  In nlps_master (line 231)\n",
      "  In opt_model/solve (line 175)\n",
      "  In nlpopf_solver (line 123)\n",
      "  In opf_execute (line 134)\n",
      "  In opf (line 232)\n",
      "  In runopf (line 75)\n",
      "  In run_opf_ac (line 31)\n",
      "\n",
      "  1%|▏                                       | 51/10000 [00:07<10:01, 16.53it/s]Warning: Matrix is close to singular or badly scaled. Results may be inaccurate. RCOND =  7.131339e-17.\n",
      "> In mplinsolve (line 70)\n",
      "  In mips (line 468)\n",
      "  In nlps_master (line 231)\n",
      "  In opt_model/solve (line 175)\n",
      "  In nlpopf_solver (line 123)\n",
      "  In opf_execute (line 134)\n",
      "  In opf (line 232)\n",
      "  In runopf (line 75)\n",
      "  In run_opf_ac (line 31)\n",
      "\n",
      "Warning: Matrix is close to singular or badly scaled. Results may be inaccurate. RCOND =  5.534752e-19.\n",
      "> In mplinsolve (line 70)\n",
      "  In mips (line 468)\n",
      "  In nlps_master (line 231)\n",
      "  In opt_model/solve (line 175)\n",
      "  In nlpopf_solver (line 123)\n",
      "  In opf_execute (line 134)\n",
      "  In opf (line 232)\n",
      "  In runopf (line 75)\n",
      "  In run_opf_ac (line 31)\n",
      "\n",
      "  1%|▏                                       | 53/10000 [00:07<09:49, 16.88it/s]Warning: Matrix is close to singular or badly scaled. Results may be inaccurate. RCOND =  1.807959e-18.\n",
      "> In mplinsolve (line 70)\n",
      "  In mips (line 468)\n",
      "  In nlps_master (line 231)\n",
      "  In opt_model/solve (line 175)\n",
      "  In nlpopf_solver (line 123)\n",
      "  In opf_execute (line 134)\n",
      "  In opf (line 232)\n",
      "  In runopf (line 75)\n",
      "  In run_opf_ac (line 31)\n",
      "\n",
      "Warning: Matrix is close to singular or badly scaled. Results may be inaccurate. RCOND =  3.383784e-23.\n",
      "> In mplinsolve (line 70)\n",
      "  In mips (line 468)\n",
      "  In nlps_master (line 231)\n",
      "  In opt_model/solve (line 175)\n",
      "  In nlpopf_solver (line 123)\n",
      "  In opf_execute (line 134)\n",
      "  In opf (line 232)\n",
      "  In runopf (line 75)\n",
      "  In run_opf_ac (line 31)\n",
      "\n",
      "  1%|▏                                       | 55/10000 [00:07<09:43, 17.04it/s]Warning: Matrix is close to singular or badly scaled. Results may be inaccurate. RCOND =  1.041484e-16.\n",
      "> In mplinsolve (line 70)\n",
      "  In mips (line 468)\n",
      "  In nlps_master (line 231)\n",
      "  In opt_model/solve (line 175)\n",
      "  In nlpopf_solver (line 123)\n",
      "  In opf_execute (line 134)\n",
      "  In opf (line 232)\n",
      "  In runopf (line 75)\n",
      "  In run_opf_ac (line 31)\n",
      "\n",
      "Warning: Matrix is close to singular or badly scaled. Results may be inaccurate. RCOND =  1.102640e-20.\n",
      "> In mplinsolve (line 70)\n",
      "  In mips (line 468)\n",
      "  In nlps_master (line 231)\n",
      "  In opt_model/solve (line 175)\n",
      "  In nlpopf_solver (line 123)\n",
      "  In opf_execute (line 134)\n",
      "  In opf (line 232)\n",
      "  In runopf (line 75)\n",
      "  In run_opf_ac (line 31)\n",
      "\n",
      "  1%|▏                                       | 57/10000 [00:07<09:30, 17.43it/s]Warning: Matrix is close to singular or badly scaled. Results may be inaccurate. RCOND =  1.320093e-16.\n",
      "> In mplinsolve (line 70)\n",
      "  In mips (line 468)\n",
      "  In nlps_master (line 231)\n",
      "  In opt_model/solve (line 175)\n",
      "  In nlpopf_solver (line 123)\n",
      "  In opf_execute (line 134)\n",
      "  In opf (line 232)\n",
      "  In runopf (line 75)\n",
      "  In run_opf"
     ]
    },
    {
     "data": {
      "text/html": [
       "<b>limit_output extension: Maximum message size of 10000 exceeded with 10366 characters</b>"
      ]
     },
     "metadata": {},
     "output_type": "display_data"
    }
   ],
   "source": [
    "!python gen_dataset.py -i \"case39.m\" -n 10000"
   ]
  },
  {
   "cell_type": "markdown",
   "metadata": {},
   "source": [
    "# 2. Check the generated dataset"
   ]
  },
  {
   "cell_type": "code",
   "execution_count": 3,
   "metadata": {
    "ExecuteTime": {
     "end_time": "2020-11-30T13:43:54.674969Z",
     "start_time": "2020-11-30T13:43:54.661623Z"
    }
   },
   "outputs": [],
   "source": [
    "import pickle\n",
    "\n",
    "infile = open('../data/GCN_datasets/case39.pickle', 'rb')\n",
    "dataset = pickle.load(infile)\n",
    "infile.close()"
   ]
  },
  {
   "cell_type": "code",
   "execution_count": 4,
   "metadata": {
    "ExecuteTime": {
     "end_time": "2020-11-30T13:44:51.187825Z",
     "start_time": "2020-11-30T13:44:51.178497Z"
    }
   },
   "outputs": [
    {
     "data": {
      "text/plain": [
       "(10000, 88, 1)"
      ]
     },
     "execution_count": 4,
     "metadata": {},
     "output_type": "execute_result"
    }
   ],
   "source": [
    "Xs = dataset[\"feature\"]\n",
    "Xs.shape # [num_sample, num_feature, 1]"
   ]
  },
  {
   "cell_type": "code",
   "execution_count": 5,
   "metadata": {
    "ExecuteTime": {
     "end_time": "2020-11-30T13:44:52.358125Z",
     "start_time": "2020-11-30T13:44:52.355315Z"
    }
   },
   "outputs": [
    {
     "data": {
      "text/plain": [
       "(10000, 46, 1)"
      ]
     },
     "execution_count": 5,
     "metadata": {},
     "output_type": "execute_result"
    }
   ],
   "source": [
    "Ys = dataset[\"label\"]\n",
    "Ys.shape # [num_sample, num_label, 1]"
   ]
  },
  {
   "cell_type": "markdown",
   "metadata": {},
   "source": [
    "# 3. EDA with Generated dataset for GCN"
   ]
  },
  {
   "cell_type": "code",
   "execution_count": 6,
   "metadata": {
    "ExecuteTime": {
     "end_time": "2020-11-30T13:44:54.063174Z",
     "start_time": "2020-11-30T13:44:53.458234Z"
    }
   },
   "outputs": [],
   "source": [
    "import seaborn\n",
    "import warnings\n",
    "warnings.filterwarnings('ignore')"
   ]
  },
  {
   "cell_type": "markdown",
   "metadata": {},
   "source": [
    "## feature data distribution"
   ]
  },
  {
   "cell_type": "code",
   "execution_count": 7,
   "metadata": {
    "ExecuteTime": {
     "end_time": "2020-11-30T13:44:55.137124Z",
     "start_time": "2020-11-30T13:44:54.909761Z"
    }
   },
   "outputs": [
    {
     "data": {
      "text/plain": [
       "<AxesSubplot:ylabel='Density'>"
      ]
     },
     "execution_count": 7,
     "metadata": {},
     "output_type": "execute_result"
    },
    {
     "data": {
      "image/png": "[encoded data removed]",
      "text/plain": [
       "<Figure size 432x288 with 1 Axes>"
      ]
     },
     "metadata": {
      "needs_background": "light"
     },
     "output_type": "display_data"
    }
   ],
   "source": [
    "seaborn.distplot(Xs[:, 0])"
   ]
  },
  {
   "cell_type": "markdown",
   "metadata": {},
   "source": [
    "the case that power injection did not hit the limit, since it is the slack bus case."
   ]
  },
  {
   "cell_type": "code",
   "execution_count": 8,
   "metadata": {
    "ExecuteTime": {
     "end_time": "2020-11-30T13:44:56.034169Z",
     "start_time": "2020-11-30T13:44:55.797960Z"
    }
   },
   "outputs": [
    {
     "data": {
      "text/plain": [
       "<AxesSubplot:ylabel='Density'>"
      ]
     },
     "execution_count": 8,
     "metadata": {},
     "output_type": "execute_result"
    },
    {
     "data": {
      "image/png": "[encoded data removed]",
      "text/plain": [
       "<Figure size 432x288 with 1 Axes>"
      ]
     },
     "metadata": {
      "needs_background": "light"
     },
     "output_type": "display_data"
    }
   ],
   "source": [
    "seaborn.distplot(Xs[:, 1])"
   ]
  },
  {
   "cell_type": "markdown",
   "metadata": {},
   "source": [
    "the case that power injection hit the limit frequently..."
   ]
  },
  {
   "cell_type": "code",
   "execution_count": 9,
   "metadata": {
    "ExecuteTime": {
     "end_time": "2020-11-30T13:44:56.677278Z",
     "start_time": "2020-11-30T13:44:56.477541Z"
    }
   },
   "outputs": [
    {
     "data": {
      "text/plain": [
       "<AxesSubplot:ylabel='Density'>"
      ]
     },
     "execution_count": 9,
     "metadata": {},
     "output_type": "execute_result"
    },
    {
     "data": {
      "image/png": "[encoded data removed]",
      "text/plain": [
       "<Figure size 432x288 with 1 Axes>"
      ]
     },
     "metadata": {
      "needs_background": "light"
     },
     "output_type": "display_data"
    }
   ],
   "source": [
    "seaborn.distplot(Xs[:, 2])"
   ]
  },
  {
   "cell_type": "code",
   "execution_count": 10,
   "metadata": {
    "ExecuteTime": {
     "end_time": "2020-11-30T13:44:56.995021Z",
     "start_time": "2020-11-30T13:44:56.804055Z"
    }
   },
   "outputs": [
    {
     "data": {
      "text/plain": [
       "<AxesSubplot:ylabel='Density'>"
      ]
     },
     "execution_count": 10,
     "metadata": {},
     "output_type": "execute_result"
    },
    {
     "data": {
      "image/png": "[encoded data removed]",
      "text/plain": [
       "<Figure size 432x288 with 1 Axes>"
      ]
     },
     "metadata": {
      "needs_background": "light"
     },
     "output_type": "display_data"
    }
   ],
   "source": [
    "seaborn.distplot(Xs[:, 3])"
   ]
  },
  {
   "cell_type": "code",
   "execution_count": 11,
   "metadata": {
    "ExecuteTime": {
     "end_time": "2020-11-30T13:44:57.342274Z",
     "start_time": "2020-11-30T13:44:57.121435Z"
    }
   },
   "outputs": [
    {
     "data": {
      "text/plain": [
       "<AxesSubplot:ylabel='Density'>"
      ]
     },
     "execution_count": 11,
     "metadata": {},
     "output_type": "execute_result"
    },
    {
     "data": {
      "image/png": "[encoded data removed]",
      "text/plain": [
       "<Figure size 432x288 with 1 Axes>"
      ]
     },
     "metadata": {
      "needs_background": "light"
     },
     "output_type": "display_data"
    }
   ],
   "source": [
    "seaborn.distplot(Xs[:, 4])"
   ]
  },
  {
   "cell_type": "code",
   "execution_count": 12,
   "metadata": {
    "ExecuteTime": {
     "end_time": "2020-11-30T13:44:57.733239Z",
     "start_time": "2020-11-30T13:44:57.467536Z"
    }
   },
   "outputs": [
    {
     "data": {
      "text/plain": [
       "<AxesSubplot:ylabel='Density'>"
      ]
     },
     "execution_count": 12,
     "metadata": {},
     "output_type": "execute_result"
    },
    {
     "data": {
      "image/png": "[encoded data removed]",
      "text/plain": [
       "<Figure size 432x288 with 1 Axes>"
      ]
     },
     "metadata": {
      "needs_background": "light"
     },
     "output_type": "display_data"
    }
   ],
   "source": [
    "seaborn.distplot(Xs[:, 5])"
   ]
  },
  {
   "cell_type": "markdown",
   "metadata": {},
   "source": [
    "## label data distribution"
   ]
  },
  {
   "cell_type": "code",
   "execution_count": 13,
   "metadata": {
    "ExecuteTime": {
     "end_time": "2020-11-30T13:44:58.277801Z",
     "start_time": "2020-11-30T13:44:58.047255Z"
    }
   },
   "outputs": [
    {
     "data": {
      "text/plain": [
       "<AxesSubplot:ylabel='Density'>"
      ]
     },
     "execution_count": 13,
     "metadata": {},
     "output_type": "execute_result"
    },
    {
     "data": {
      "image/png": "[encoded data removed]",
      "text/plain": [
       "<Figure size 432x288 with 1 Axes>"
      ]
     },
     "metadata": {
      "needs_background": "light"
     },
     "output_type": "display_data"
    }
   ],
   "source": [
    "seaborn.distplot(Ys[:, 0])"
   ]
  },
  {
   "cell_type": "code",
   "execution_count": 14,
   "metadata": {
    "ExecuteTime": {
     "end_time": "2020-11-30T13:44:58.615424Z",
     "start_time": "2020-11-30T13:44:58.404510Z"
    }
   },
   "outputs": [
    {
     "data": {
      "text/plain": [
       "<AxesSubplot:ylabel='Density'>"
      ]
     },
     "execution_count": 14,
     "metadata": {},
     "output_type": "execute_result"
    },
    {
     "data": {
      "image/png": "[encoded data removed]",
      "text/plain": [
       "<Figure size 432x288 with 1 Axes>"
      ]
     },
     "metadata": {
      "needs_background": "light"
     },
     "output_type": "display_data"
    }
   ],
   "source": [
    "seaborn.distplot(Ys[:, 1])"
   ]
  },
  {
   "cell_type": "code",
   "execution_count": null,
   "metadata": {
    "ExecuteTime": {
     "end_time": "2020-11-30T13:44:58.640909Z",
     "start_time": "2020-11-30T13:44:58.569Z"
    }
   },
   "outputs": [],
   "source": [
    "seaborn.distplot(Ys[:, 2])"
   ]
  },
  {
   "cell_type": "code",
   "execution_count": 15,
   "metadata": {
    "ExecuteTime": {
     "end_time": "2020-11-30T13:44:59.034723Z",
     "start_time": "2020-11-30T13:44:58.812852Z"
    }
   },
   "outputs": [
    {
     "data": {
      "text/plain": [
       "<AxesSubplot:ylabel='Density'>"
      ]
     },
     "execution_count": 15,
     "metadata": {},
     "output_type": "execute_result"
    },
    {
     "data": {
      "image/png": "[encoded data removed]",
      "text/plain": [
       "<Figure size 432x288 with 1 Axes>"
      ]
     },
     "metadata": {
      "needs_background": "light"
     },
     "output_type": "display_data"
    }
   ],
   "source": [
    "seaborn.distplot(Ys[:, 3])"
   ]
  },
  {
   "cell_type": "code",
   "execution_count": null,
   "metadata": {
    "ExecuteTime": {
     "end_time": "2020-11-30T13:44:59.060630Z",
     "start_time": "2020-11-30T13:44:59.045Z"
    }
   },
   "outputs": [],
   "source": [
    "seaborn.distplot(Ys[:, 4])"
   ]
  },
  {
   "cell_type": "code",
   "execution_count": 16,
   "metadata": {
    "ExecuteTime": {
     "end_time": "2020-11-30T13:44:59.622765Z",
     "start_time": "2020-11-30T13:44:59.397180Z"
    }
   },
   "outputs": [
    {
     "data": {
      "text/plain": [
       "<AxesSubplot:ylabel='Density'>"
      ]
     },
     "execution_count": 16,
     "metadata": {},
     "output_type": "execute_result"
    },
    {
     "data": {
      "image/png": "[encoded data removed]",
      "text/plain": [
       "<Figure size 432x288 with 1 Axes>"
      ]
     },
     "metadata": {
      "needs_background": "light"
     },
     "output_type": "display_data"
    }
   ],
   "source": [
    "seaborn.distplot(Ys[:, 5])"
   ]
  },
  {
   "cell_type": "code",
   "execution_count": null,
   "metadata": {},
   "outputs": [],
   "source": []
  },
  {
   "cell_type": "code",
   "execution_count": null,
   "metadata": {},
   "outputs": [],
   "source": []
  }
 ],
 "metadata": {
  "kernelspec": {
   "display_name": "Python 3",
   "language": "python",
   "name": "python3"
  },
  "language_info": {
   "codemirror_mode": {
    "name": "ipython",
    "version": 3
   },
   "file_extension": ".py",
   "mimetype": "text/x-python",
   "name": "python",
   "nbconvert_exporter": "python",
   "pygments_lexer": "ipython3",
   "version": "3.7.9"
  },
  "latex_envs": {
   "LaTeX_envs_menu_present": true,
   "autoclose": false,
   "autocomplete": true,
   "bibliofile": "biblio.bib",
   "cite_by": "apalike",
   "current_citInitial": 1,
   "eqLabelWithNumbers": true,
   "eqNumInitial": 1,
   "hotkeys": {
    "equation": "Ctrl-E",
    "itemize": "Ctrl-I"
   },
   "labels_anchors": false,
   "latex_user_defs": false,
   "report_style_numbering": false,
   "user_envs_cfg": false
  },
  "toc": {
   "base_numbering": 1,
   "nav_menu": {},
   "number_sections": false,
   "sideBar": true,
   "skip_h1_title": false,
   "title_cell": "Table of Contents",
   "title_sidebar": "Contents",
   "toc_cell": false,
   "toc_position": {},
   "toc_section_display": true,
   "toc_window_display": true
  },
  "varInspector": {
   "cols": {
    "lenName": 16,
    "lenType": 16,
    "lenVar": 40
   },
   "kernels_config": {
    "python": {
     "delete_cmd_postfix": "",
     "delete_cmd_prefix": "del ",
     "library": "var_list.py",
     "varRefreshCmd": "print(var_dic_list())"
    },
    "r": {
     "delete_cmd_postfix": ") ",
     "delete_cmd_prefix": "rm(",
     "library": "var_list.r",
     "varRefreshCmd": "cat(var_dic_list()) "
    }
   },
   "types_to_exclude": [
    "module",
    "function",
    "builtin_function_or_method",
    "instance",
    "_Feature"
   ],
   "window_display": false
  }
 },
 "nbformat": 4,
 "nbformat_minor": 4
}
