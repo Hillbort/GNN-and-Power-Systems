{
 "cells": [
  {
   "cell_type": "markdown",
   "metadata": {},
   "source": [
    "# 1. Generate dataset for GCN"
   ]
  },
  {
   "cell_type": "code",
   "execution_count": 1,
   "metadata": {
    "ExecuteTime": {
     "end_time": "2020-11-30T14:34:25.840067Z",
     "start_time": "2020-11-30T14:34:24.563030Z"
    }
   },
   "outputs": [
    {
     "name": "stdout",
     "output_type": "stream",
     "text": [
      "usage: gen_dataset.py [-h] [-i I] [-n N]\r\n",
      "\r\n",
      "optional arguments:\r\n",
      "  -h, --help  show this help message and exit\r\n",
      "  -i I        input mat file name\r\n",
      "  -n N        the number of generated samples\r\n"
     ]
    }
   ],
   "source": [
    "!python gen_dataset.py -h"
   ]
  },
  {
   "cell_type": "code",
   "execution_count": 2,
   "metadata": {
    "ExecuteTime": {
     "end_time": "2020-11-30T14:35:26.382371Z",
     "start_time": "2020-11-30T14:34:25.842109Z"
    },
    "scrolled": false
   },
   "outputs": [
    {
     "name": "stdout",
     "output_type": "stream",
     "text": [
      "> input args\n",
      "  - case_name: case39.m\n",
      "  - number of samples = 1000\n",
      "> start generating dastaset\n",
      "  0%|                                                  | 0/1000 [00:00<?, ?it/s]Warning: Matrix is close to singular or badly scaled. Results may be inaccurate. RCOND =  5.845718e-18.\n",
      "> In mplinsolve (line 70)\n",
      "  In mips (line 468)\n",
      "  In nlps_master (line 231)\n",
      "  In opt_model/solve (line 175)\n",
      "  In nlpopf_solver (line 123)\n",
      "  In opf_execute (line 134)\n",
      "  In opf (line 232)\n",
      "  In runopf (line 75)\n",
      "  In run_opf_ac (line 31)\n",
      "\n",
      "  1%|▍                                        | 10/1000 [00:04<08:33,  1.93it/s]Warning: Matrix is close to singular or badly scaled. Results may be inaccurate. RCOND =  3.795759e-20.\n",
      "> In mplinsolve (line 70)\n",
      "  In mips (line 468)\n",
      "  In nlps_master (line 231)\n",
      "  In opt_model/solve (line 175)\n",
      "  In nlpopf_solver (line 123)\n",
      "  In opf_execute (line 134)\n",
      "  In opf (line 232)\n",
      "  In runopf (line 75)\n",
      "  In run_opf_ac (line 31)\n",
      "\n",
      "  1%|▌                                        | 13/1000 [00:04<06:14,  2.64it/s]Warning: Matrix is close to singular or badly scaled. Results may be inaccurate. RCOND =  1.416326e-16.\n",
      "> In mplinsolve (line 70)\n",
      "  In mips (line 468)\n",
      "  In nlps_master (line 231)\n",
      "  In opt_model/solve (line 175)\n",
      "  In nlpopf_solver (line 123)\n",
      "  In opf_execute (line 134)\n",
      "  In opf (line 232)\n",
      "  In runopf (line 75)\n",
      "  In run_opf_ac (line 31)\n",
      "\n",
      "Warning: Matrix is close to singular or badly scaled. Results may be inaccurate. RCOND =  2.710636e-18.\n",
      "> In mplinsolve (line 70)\n",
      "  In mips (line 468)\n",
      "  In nlps_master (line 231)\n",
      "  In opt_model/solve (line 175)\n",
      "  In nlpopf_solver (line 123)\n",
      "  In opf_execute (line 134)\n",
      "  In opf (line 232)\n",
      "  In runopf (line 75)\n",
      "  In run_opf_ac (line 31)\n",
      "\n",
      "  2%|▋                                        | 17/1000 [00:05<03:29,  4.68it/s]Warning: Matrix is close to singular or badly scaled. Results may be inaccurate. RCOND =  3.636067e-17.\n",
      "> In mplinsolve (line 70)\n",
      "  In mips (line 468)\n",
      "  In nlps_master (line 231)\n",
      "  In opt_model/solve (line 175)\n",
      "  In nlpopf_solver (line 123)\n",
      "  In opf_execute (line 134)\n",
      "  In opf (line 232)\n",
      "  In runopf (line 75)\n",
      "  In run_opf_ac (line 31)\n",
      "\n",
      "  3%|█                                        | 26/1000 [00:05<01:27, 11.08it/s]Warning: Matrix is close to singular or badly scaled. Results may be inaccurate. RCOND =  1.717776e-16.\n",
      "> In mplinsolve (line 70)\n",
      "  In mips (line 468)\n",
      "  In nlps_master (line 231)\n",
      "  In opt_model/solve (line 175)\n",
      "  In nlpopf_solver (line 123)\n",
      "  In opf_execute (line 134)\n",
      "  In opf (line 232)\n",
      "  In runopf (line 75)\n",
      "  In run_opf_ac (line 31)\n",
      "\n",
      "Warning: Matrix is close to singular or badly scaled. Results may be inaccurate. RCOND =  6.385076e-18.\n",
      "> In mplinsolve (line 70)\n",
      "  In mips (line 468)\n",
      "  In nlps_master (line 231)\n",
      "  In opt_model/solve (line 175)\n",
      "  In nlpopf_solver (line 123)\n",
      "  In opf_execute (line 134)\n",
      "  In opf (line 232)\n",
      "  In runopf (line 75)\n",
      "  In run_opf_ac (line 31)\n",
      "\n",
      "  3%|█▎                                       | 32/1000 [00:05<01:06, 14.62it/s]Warning: Matrix is close to singular or badly scaled. Results may be inaccurate. RCOND =  1.674518e-18.\n",
      "> In mplinsolve (line 70)\n",
      "  In mips (line 468)\n",
      "  In nlps_master (line 231)\n",
      "  In opt_model/solve (line 175)\n",
      "  In nlpopf_solver (line 123)\n",
      "  In opf_execute (line 134)\n",
      "  In opf (line 232)\n",
      "  In runopf (line 75)\n",
      "  In run_opf_ac (line 31)\n",
      "\n",
      "Warning: Matrix is close to singular or badly scaled. Results may be inaccurate. RCOND =  2.924967e-20.\n",
      "> In mplinsolve (line 70)\n",
      "  In mips (line 468)\n",
      "  In nlps_master (line 231)\n",
      "  In opt_model/solve (line 175)\n",
      "  In nlpopf_solver (line 123)\n",
      "  In opf_execute (line 134)\n",
      "  In opf (line 232)\n",
      "  In runopf (line 75)\n",
      "  In run_opf_ac (line 31)\n",
      "\n",
      "  4%|█▍                                       | 35/1000 [00:06<01:00, 15.83it/s]Warning: Matrix is close to singular or badly scaled. Results may be inaccurate. RCOND =  8.814391e-17.\n",
      "> In mplinsolve (line 70)\n",
      "  In mips (line 468)\n",
      "  In nlps_master (line 231)\n",
      "  In opt_model/solve (line 175)\n",
      "  In nlpopf_solver (line 123)\n",
      "  In opf_execute (line 134)\n",
      "  In opf (line 232)\n",
      "  In runopf (line 75)\n",
      "  In run_opf_ac (line 31)\n",
      "\n",
      "Warning: Matrix is close to singular or badly scaled. Results may be inaccurate. RCOND =  1.110864e-17.\n",
      "> In mplinsolve (line 70)\n",
      "  In mips (line 468)\n",
      "  In nlps_master (line 231)\n",
      "  In opt_model/solve (line 175)\n",
      "  In nlpopf_solver (line 123)\n",
      "  In opf_execute (line 134)\n",
      "  In opf (line 232)\n",
      "  In runopf (line 75)\n",
      "  In run_opf_ac (line 31)\n",
      "\n",
      "Warning: Matrix is close to singular or badly scaled. Results may be inaccurate. RCOND =  7.029817e-19.\n",
      "> In mplinsolve (line 70)\n",
      "  In mips (line 468)\n",
      "  In nlps_master (line 231)\n",
      "  In opt_model/solve (line 175)\n",
      "  In nlpopf_solver (line 123)\n",
      "  In opf_execute (line 134)\n",
      "  In opf (line 232)\n",
      "  In runopf (line 75)\n",
      "  In run_opf_ac (line 31)\n",
      "\n",
      "  4%|█▊                                       | 43/1000 [00:06<00:53, 18.05it/s]Warning: Matrix is close to singular or badly scaled. Results may be inaccurate. RCOND =  1.469650e-19.\n",
      "> In mplinsolve (line 70)\n",
      "  In mips (line 468)\n",
      "  In nlps_master (line 231)\n",
      "  In opt_model/solve (line 175)\n",
      "  In nlpopf_solver (line 123)\n",
      "  In opf_execute (line 134)\n",
      "  In opf (line 232)\n",
      "  In runopf (line 75)\n",
      "  In run_opf_ac (line 31)\n",
      "\n",
      "  5%|█▉                                       | 47/1000 [00:06<00:54, 17.63it/s]Warning: Matrix is close to singular or badly scaled. Results may be inaccurate. RCOND =  2.753020e-18.\n",
      "> In mplinsolve (line 70)\n",
      "  In mips (line 468)\n",
      "  In nlps_master (line 231)\n",
      "  In opt_model/solve (line 175)\n",
      "  In nlpopf_solver (line 123)\n",
      "  In opf_execute (line 134)\n",
      "  In opf (line 232)\n",
      "  In runopf (line 75)\n",
      "  In run_opf_ac (line 31)\n",
      "\n",
      "  5%|██                                       | 51/1000 [00:06<00:52, 18.20it/s]Warning: Matrix is close to singular or badly scaled. Results may be inaccurate. RCOND =  7.131339e-17.\n",
      "> In mplinsolve (line 70)\n",
      "  In mips (line 468)\n",
      "  In nlps_master (line 231)\n",
      "  In opt_model/solve (line 175)\n",
      "  In nlpopf_solver (line 123)\n",
      "  In opf_execute (line 134)\n",
      "  In opf (line 232)\n",
      "  In runopf (line 75)\n",
      "  In run_opf_ac (line 31)\n",
      "\n",
      "Warning: Matrix is close to singular or badly scaled. Results may be inaccurate. RCOND =  5.534752e-19.\n",
      "> In mplinsolve (line 70)\n",
      "  In mips (line 468)\n",
      "  In nlps_master (line 231)\n",
      "  In opt_model/solve (line 175)\n",
      "  In nlpopf_solver (line 123)\n",
      "  In opf_execute (line 134)\n",
      "  In opf (line 232)\n",
      "  In runopf (line 75)\n",
      "  In run_opf_ac (line 31)\n",
      "\n",
      "  5%|██▏                                      | 54/1000 [00:07<00:50, 18.89it/s]Warning: Matrix is close to singular or badly scaled. Results may be inaccurate. RCOND =  1.807959e-18.\n",
      "> In mplinsolve (line 70)\n",
      "  In mips (line 468)\n",
      "  In nlps_master (line 231)\n",
      "  In opt_model/solve (line 175)\n",
      "  In nlpopf_solver (line 123)\n",
      "  In opf_execute (line 134)\n",
      "  In opf (line 232)\n",
      "  In runopf (line 75)\n",
      "  In run_opf_ac (line 31)\n",
      "\n",
      "Warning: Matrix is close to singular or badly scaled. Results may be inaccurate. RCOND =  3.383784e-23.\n",
      "> In mplinsolve (line 70)\n",
      "  In mips (line 468)\n",
      "  In nlps_master (line 231)\n",
      "  In opt_model/solve (line 175)\n",
      "  In nlpopf_solver (line 123)\n",
      "  In opf_execute (line 134)\n",
      "  In opf (line 232)\n",
      "  In runopf (line 75)\n",
      "  In run_opf_ac (line 31)\n",
      "\n",
      "  6%|██▎                                      | 56/1000 [00:07<00:49, 19.09it/s]Warning: Matrix is close to singular or badly scaled. Results may be inaccurate. RCOND =  1.041484e-16.\n",
      "> In mplinsolve (line 70)\n",
      "  In mips (line 468)\n",
      "  In nlps_master (line 231)\n",
      "  In opt_model/solve (line 175)\n",
      "  In nlpopf_solver (line 123)\n",
      "  In opf_execute (line 134)\n",
      "  In opf (line 232)\n",
      "  In runopf (line 75)\n",
      "  In run_opf_ac (line 31)\n",
      "\n",
      "Warning: Matrix is close to singular or badly scaled. Results may be inaccurate. RCOND =  1.102640e-20.\n",
      "> In mplinsolve (line 70)\n",
      "  In mips (line 468)\n",
      "  In nlps_master (line 231)\n",
      "  In opt_model/solve (line 175)\n",
      "  In nlpopf_solver (line 123)\n",
      "  In opf_execute (line 134)\n",
      "  In opf (line 232)\n",
      "  In runopf (line 75)\n",
      "  In run_opf_ac (line 31)\n",
      "\n",
      "Warning: Matrix is close to singular or badly scaled. Results may be inaccurate. RCOND =  1.320093e-16.\n",
      "> In mplinsolve (line 70)\n",
      "  In mips (line 468)\n",
      "  In nlps_master (line 231)\n",
      "  In opt_model/solve (line 175)\n",
      "  In nlpopf_solver (line 123)\n",
      "  In opf_execute (line 134)\n",
      "  In opf (line 232)\n",
      "  In runopf (line 75)\n",
      "  In run_opf_ac (line 31)\n",
      "\n",
      "Warning: Matrix is close to singular or badly scaled. Results may be inaccurate. RCOND =  1.585278e-18.\n",
      "> In mplinsolve (line 70)\n",
      "  In mips (line 468)\n",
      "  In nlps_master (line 231)\n",
      "  In opt_model/solve (line 175)\n",
      "  In nlp"
     ]
    },
    {
     "data": {
      "text/html": [
       "<b>limit_output extension: Maximum message size of 10000 exceeded with 10125 characters</b>"
      ]
     },
     "metadata": {},
     "output_type": "display_data"
    }
   ],
   "source": [
    "!python gen_dataset.py -i \"case39.m\" -n 1000"
   ]
  },
  {
   "cell_type": "markdown",
   "metadata": {},
   "source": [
    "# 2. Check the generated dataset"
   ]
  },
  {
   "cell_type": "code",
   "execution_count": 4,
   "metadata": {
    "ExecuteTime": {
     "end_time": "2020-11-30T14:36:21.869177Z",
     "start_time": "2020-11-30T14:36:21.865464Z"
    }
   },
   "outputs": [],
   "source": [
    "import pickle\n",
    "\n",
    "infile = open('../data/GCN_datasets/case39_1000_2020.11.30-08:35:26.pickle',\n",
    "              'rb')\n",
    "dataset = pickle.load(infile)\n",
    "infile.close()"
   ]
  },
  {
   "cell_type": "code",
   "execution_count": 5,
   "metadata": {
    "ExecuteTime": {
     "end_time": "2020-11-30T14:36:22.584876Z",
     "start_time": "2020-11-30T14:36:22.575841Z"
    }
   },
   "outputs": [
    {
     "data": {
      "text/plain": [
       "(1000, 88, 1)"
      ]
     },
     "execution_count": 5,
     "metadata": {},
     "output_type": "execute_result"
    }
   ],
   "source": [
    "Xs = dataset[\"feature\"]\n",
    "Xs.shape # [num_sample, num_feature, 1]"
   ]
  },
  {
   "cell_type": "code",
   "execution_count": 6,
   "metadata": {
    "ExecuteTime": {
     "end_time": "2020-11-30T14:36:25.615838Z",
     "start_time": "2020-11-30T14:36:25.612443Z"
    }
   },
   "outputs": [
    {
     "data": {
      "text/plain": [
       "(1000, 46, 1)"
      ]
     },
     "execution_count": 6,
     "metadata": {},
     "output_type": "execute_result"
    }
   ],
   "source": [
    "Ys = dataset[\"label\"]\n",
    "Ys.shape # [num_sample, num_label, 1]"
   ]
  },
  {
   "cell_type": "markdown",
   "metadata": {},
   "source": [
    "# 3. EDA with Generated dataset for GCN"
   ]
  },
  {
   "cell_type": "code",
   "execution_count": 7,
   "metadata": {
    "ExecuteTime": {
     "end_time": "2020-11-30T14:36:27.985092Z",
     "start_time": "2020-11-30T14:36:27.393676Z"
    }
   },
   "outputs": [],
   "source": [
    "import seaborn\n",
    "import warnings\n",
    "warnings.filterwarnings('ignore')"
   ]
  },
  {
   "cell_type": "markdown",
   "metadata": {},
   "source": [
    "## 3.1. feature data distribution"
   ]
  },
  {
   "cell_type": "code",
   "execution_count": 8,
   "metadata": {
    "ExecuteTime": {
     "end_time": "2020-11-30T14:36:28.989400Z",
     "start_time": "2020-11-30T14:36:28.830784Z"
    }
   },
   "outputs": [
    {
     "data": {
      "text/plain": [
       "<AxesSubplot:ylabel='Density'>"
      ]
     },
     "execution_count": 8,
     "metadata": {},
     "output_type": "execute_result"
    },
    {
     "data": {
      "image/png": "[encoded data removed]",
      "text/plain": [
       "<Figure size 432x288 with 1 Axes>"
      ]
     },
     "metadata": {
      "needs_background": "light"
     },
     "output_type": "display_data"
    }
   ],
   "source": [
    "seaborn.distplot(Xs[:, 0])"
   ]
  },
  {
   "cell_type": "markdown",
   "metadata": {},
   "source": [
    "the case that power injection did not hit the limit, since it is the slack bus case."
   ]
  },
  {
   "cell_type": "code",
   "execution_count": 9,
   "metadata": {
    "ExecuteTime": {
     "end_time": "2020-11-30T14:36:30.183131Z",
     "start_time": "2020-11-30T14:36:29.998944Z"
    }
   },
   "outputs": [
    {
     "data": {
      "text/plain": [
       "<AxesSubplot:ylabel='Density'>"
      ]
     },
     "execution_count": 9,
     "metadata": {},
     "output_type": "execute_result"
    },
    {
     "data": {
      "image/png": "[encoded data removed]",
      "text/plain": [
       "<Figure size 432x288 with 1 Axes>"
      ]
     },
     "metadata": {
      "needs_background": "light"
     },
     "output_type": "display_data"
    }
   ],
   "source": [
    "seaborn.distplot(Xs[:, 1])"
   ]
  },
  {
   "cell_type": "markdown",
   "metadata": {},
   "source": [
    "the case that power injection hit the limit frequently..."
   ]
  },
  {
   "cell_type": "code",
   "execution_count": 10,
   "metadata": {
    "ExecuteTime": {
     "end_time": "2020-11-30T14:36:31.132946Z",
     "start_time": "2020-11-30T14:36:30.980233Z"
    }
   },
   "outputs": [
    {
     "data": {
      "text/plain": [
       "<AxesSubplot:ylabel='Density'>"
      ]
     },
     "execution_count": 10,
     "metadata": {},
     "output_type": "execute_result"
    },
    {
     "data": {
      "image/png": "[encoded data removed]",
      "text/plain": [
       "<Figure size 432x288 with 1 Axes>"
      ]
     },
     "metadata": {
      "needs_background": "light"
     },
     "output_type": "display_data"
    }
   ],
   "source": [
    "seaborn.distplot(Xs[:, 2])"
   ]
  },
  {
   "cell_type": "code",
   "execution_count": 11,
   "metadata": {
    "ExecuteTime": {
     "end_time": "2020-11-30T14:36:31.537270Z",
     "start_time": "2020-11-30T14:36:31.396631Z"
    }
   },
   "outputs": [
    {
     "data": {
      "text/plain": [
       "<AxesSubplot:ylabel='Density'>"
      ]
     },
     "execution_count": 11,
     "metadata": {},
     "output_type": "execute_result"
    },
    {
     "data": {
      "image/png": "[encoded data removed]",
      "text/plain": [
       "<Figure size 432x288 with 1 Axes>"
      ]
     },
     "metadata": {
      "needs_background": "light"
     },
     "output_type": "display_data"
    }
   ],
   "source": [
    "seaborn.distplot(Xs[:, 3])"
   ]
  },
  {
   "cell_type": "code",
   "execution_count": 12,
   "metadata": {
    "ExecuteTime": {
     "end_time": "2020-11-30T14:36:31.948032Z",
     "start_time": "2020-11-30T14:36:31.765074Z"
    }
   },
   "outputs": [
    {
     "data": {
      "text/plain": [
       "<AxesSubplot:ylabel='Density'>"
      ]
     },
     "execution_count": 12,
     "metadata": {},
     "output_type": "execute_result"
    },
    {
     "data": {
      "image/png": "[encoded data removed]",
      "text/plain": [
       "<Figure size 432x288 with 1 Axes>"
      ]
     },
     "metadata": {
      "needs_background": "light"
     },
     "output_type": "display_data"
    }
   ],
   "source": [
    "seaborn.distplot(Xs[:, 4])"
   ]
  },
  {
   "cell_type": "code",
   "execution_count": 13,
   "metadata": {
    "ExecuteTime": {
     "end_time": "2020-11-30T14:36:32.293744Z",
     "start_time": "2020-11-30T14:36:32.103282Z"
    }
   },
   "outputs": [
    {
     "data": {
      "text/plain": [
       "<AxesSubplot:ylabel='Density'>"
      ]
     },
     "execution_count": 13,
     "metadata": {},
     "output_type": "execute_result"
    },
    {
     "data": {
      "image/png": "[encoded data removed]",
      "text/plain": [
       "<Figure size 432x288 with 1 Axes>"
      ]
     },
     "metadata": {
      "needs_background": "light"
     },
     "output_type": "display_data"
    }
   ],
   "source": [
    "seaborn.distplot(Xs[:, 5])"
   ]
  },
  {
   "cell_type": "markdown",
   "metadata": {},
   "source": [
    "## 3.2. label data distribution"
   ]
  },
  {
   "cell_type": "code",
   "execution_count": 14,
   "metadata": {
    "ExecuteTime": {
     "end_time": "2020-11-30T14:36:32.862769Z",
     "start_time": "2020-11-30T14:36:32.698148Z"
    }
   },
   "outputs": [
    {
     "data": {
      "text/plain": [
       "<AxesSubplot:ylabel='Density'>"
      ]
     },
     "execution_count": 14,
     "metadata": {},
     "output_type": "execute_result"
    },
    {
     "data": {
      "image/png": "[encoded data removed]",
      "text/plain": [
       "<Figure size 432x288 with 1 Axes>"
      ]
     },
     "metadata": {
      "needs_background": "light"
     },
     "output_type": "display_data"
    }
   ],
   "source": [
    "seaborn.distplot(Ys[:, 0])"
   ]
  },
  {
   "cell_type": "code",
   "execution_count": 15,
   "metadata": {
    "ExecuteTime": {
     "end_time": "2020-11-30T14:36:33.135599Z",
     "start_time": "2020-11-30T14:36:32.992675Z"
    }
   },
   "outputs": [
    {
     "data": {
      "text/plain": [
       "<AxesSubplot:ylabel='Density'>"
      ]
     },
     "execution_count": 15,
     "metadata": {},
     "output_type": "execute_result"
    },
    {
     "data": {
      "image/png": "[encoded data removed]",
      "text/plain": [
       "<Figure size 432x288 with 1 Axes>"
      ]
     },
     "metadata": {
      "needs_background": "light"
     },
     "output_type": "display_data"
    }
   ],
   "source": [
    "seaborn.distplot(Ys[:, 1])"
   ]
  },
  {
   "cell_type": "code",
   "execution_count": 19,
   "metadata": {
    "ExecuteTime": {
     "end_time": "2020-11-30T14:36:39.687865Z",
     "start_time": "2020-11-30T14:36:39.541000Z"
    }
   },
   "outputs": [
    {
     "data": {
      "text/plain": [
       "<AxesSubplot:ylabel='Density'>"
      ]
     },
     "execution_count": 19,
     "metadata": {},
     "output_type": "execute_result"
    },
    {
     "data": {
      "image/png": "[encoded data removed]",
      "text/plain": [
       "<Figure size 432x288 with 1 Axes>"
      ]
     },
     "metadata": {
      "needs_background": "light"
     },
     "output_type": "display_data"
    }
   ],
   "source": [
    "seaborn.distplot(Ys[:, 2])"
   ]
  },
  {
   "cell_type": "code",
   "execution_count": 20,
   "metadata": {
    "ExecuteTime": {
     "end_time": "2020-11-30T14:36:40.251445Z",
     "start_time": "2020-11-30T14:36:40.102133Z"
    }
   },
   "outputs": [
    {
     "data": {
      "text/plain": [
       "<AxesSubplot:ylabel='Density'>"
      ]
     },
     "execution_count": 20,
     "metadata": {},
     "output_type": "execute_result"
    },
    {
     "data": {
      "image/png": "[encoded data removed]",
      "text/plain": [
       "<Figure size 432x288 with 1 Axes>"
      ]
     },
     "metadata": {
      "needs_background": "light"
     },
     "output_type": "display_data"
    }
   ],
   "source": [
    "seaborn.distplot(Ys[:, 3])"
   ]
  },
  {
   "cell_type": "code",
   "execution_count": 21,
   "metadata": {
    "ExecuteTime": {
     "end_time": "2020-11-30T14:36:40.766224Z",
     "start_time": "2020-11-30T14:36:40.599150Z"
    }
   },
   "outputs": [
    {
     "data": {
      "text/plain": [
       "<AxesSubplot:ylabel='Density'>"
      ]
     },
     "execution_count": 21,
     "metadata": {},
     "output_type": "execute_result"
    },
    {
     "data": {
      "image/png": "[encoded data removed]",
      "text/plain": [
       "<Figure size 432x288 with 1 Axes>"
      ]
     },
     "metadata": {
      "needs_background": "light"
     },
     "output_type": "display_data"
    }
   ],
   "source": [
    "seaborn.distplot(Ys[:, 4])"
   ]
  },
  {
   "cell_type": "code",
   "execution_count": 22,
   "metadata": {
    "ExecuteTime": {
     "end_time": "2020-11-30T14:36:41.268766Z",
     "start_time": "2020-11-30T14:36:41.103926Z"
    }
   },
   "outputs": [
    {
     "data": {
      "text/plain": [
       "<AxesSubplot:ylabel='Density'>"
      ]
     },
     "execution_count": 22,
     "metadata": {},
     "output_type": "execute_result"
    },
    {
     "data": {
      "image/png": "[encoded data removed]",
      "text/plain": [
       "<Figure size 432x288 with 1 Axes>"
      ]
     },
     "metadata": {
      "needs_background": "light"
     },
     "output_type": "display_data"
    }
   ],
   "source": [
    "seaborn.distplot(Ys[:, 5])"
   ]
  },
  {
   "cell_type": "code",
   "execution_count": null,
   "metadata": {
    "ExecuteTime": {
     "end_time": "2020-11-30T14:20:02.313602Z",
     "start_time": "2020-11-30T14:20:02.311059Z"
    }
   },
   "outputs": [],
   "source": []
  },
  {
   "cell_type": "code",
   "execution_count": null,
   "metadata": {},
   "outputs": [],
   "source": []
  }
 ],
 "metadata": {
  "kernelspec": {
   "display_name": "Python 3",
   "language": "python",
   "name": "python3"
  },
  "language_info": {
   "codemirror_mode": {
    "name": "ipython",
    "version": 3
   },
   "file_extension": ".py",
   "mimetype": "text/x-python",
   "name": "python",
   "nbconvert_exporter": "python",
   "pygments_lexer": "ipython3",
   "version": "3.7.9"
  },
  "latex_envs": {
   "LaTeX_envs_menu_present": true,
   "autoclose": false,
   "autocomplete": true,
   "bibliofile": "biblio.bib",
   "cite_by": "apalike",
   "current_citInitial": 1,
   "eqLabelWithNumbers": true,
   "eqNumInitial": 1,
   "hotkeys": {
    "equation": "Ctrl-E",
    "itemize": "Ctrl-I"
   },
   "labels_anchors": false,
   "latex_user_defs": false,
   "report_style_numbering": false,
   "user_envs_cfg": false
  },
  "toc": {
   "base_numbering": 1,
   "nav_menu": {},
   "number_sections": false,
   "sideBar": true,
   "skip_h1_title": false,
   "title_cell": "Table of Contents",
   "title_sidebar": "Contents",
   "toc_cell": false,
   "toc_position": {},
   "toc_section_display": true,
   "toc_window_display": true
  },
  "varInspector": {
   "cols": {
    "lenName": 16,
    "lenType": 16,
    "lenVar": 40
   },
   "kernels_config": {
    "python": {
     "delete_cmd_postfix": "",
     "delete_cmd_prefix": "del ",
     "library": "var_list.py",
     "varRefreshCmd": "print(var_dic_list())"
    },
    "r": {
     "delete_cmd_postfix": ") ",
     "delete_cmd_prefix": "rm(",
     "library": "var_list.r",
     "varRefreshCmd": "cat(var_dic_list()) "
    }
   },
   "types_to_exclude": [
    "module",
    "function",
    "builtin_function_or_method",
    "instance",
    "_Feature"
   ],
   "window_display": false
  }
 },
 "nbformat": 4,
 "nbformat_minor": 4
}
