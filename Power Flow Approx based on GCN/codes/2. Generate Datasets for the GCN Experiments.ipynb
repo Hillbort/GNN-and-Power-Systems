{
 "cells": [
  {
   "cell_type": "markdown",
   "metadata": {},
   "source": [
    "# 1. Generate dataset for GCN"
   ]
  },
  {
   "cell_type": "code",
   "execution_count": 1,
   "metadata": {
    "ExecuteTime": {
     "end_time": "2020-11-30T14:23:09.815338Z",
     "start_time": "2020-11-30T14:23:08.517868Z"
    }
   },
   "outputs": [
    {
     "name": "stdout",
     "output_type": "stream",
     "text": [
      "usage: gen_dataset.py [-h] [-i I] [-n N]\r\n",
      "\r\n",
      "optional arguments:\r\n",
      "  -h, --help  show this help message and exit\r\n",
      "  -i I        input mat file name\r\n",
      "  -n N        the number of generated samples\r\n"
     ]
    }
   ],
   "source": [
    "!python gen_dataset.py -h"
   ]
  },
  {
   "cell_type": "code",
   "execution_count": 2,
   "metadata": {
    "ExecuteTime": {
     "end_time": "2020-11-30T14:24:13.337326Z",
     "start_time": "2020-11-30T14:23:09.817185Z"
    },
    "scrolled": false
   },
   "outputs": [
    {
     "name": "stdout",
     "output_type": "stream",
     "text": [
      "> input args\n",
      "  - case_name: case39.m\n",
      "  - number of samples = 1000\n",
      "> start generating dastaset\n",
      "  0%|                                                  | 0/1000 [00:00<?, ?it/s]Warning: Matrix is close to singular or badly scaled. Results may be inaccurate. RCOND =  5.845718e-18.\n",
      "> In mplinsolve (line 70)\n",
      "  In mips (line 468)\n",
      "  In nlps_master (line 231)\n",
      "  In opt_model/solve (line 175)\n",
      "  In nlpopf_solver (line 123)\n",
      "  In opf_execute (line 134)\n",
      "  In opf (line 232)\n",
      "  In runopf (line 75)\n",
      "  In run_opf_ac (line 31)\n",
      "\n",
      "  1%|▍                                        | 11/1000 [00:04<06:10,  2.67it/s]Warning: Matrix is close to singular or badly scaled. Results may be inaccurate. RCOND =  3.795759e-20.\n",
      "> In mplinsolve (line 70)\n",
      "  In mips (line 468)\n",
      "  In nlps_master (line 231)\n",
      "  In opt_model/solve (line 175)\n",
      "  In nlpopf_solver (line 123)\n",
      "  In opf_execute (line 134)\n",
      "  In opf (line 232)\n",
      "  In runopf (line 75)\n",
      "  In run_opf_ac (line 31)\n",
      "\n",
      "  1%|▌                                        | 13/1000 [00:04<04:35,  3.58it/s]Warning: Matrix is close to singular or badly scaled. Results may be inaccurate. RCOND =  1.416326e-16.\n",
      "> In mplinsolve (line 70)\n",
      "  In mips (line 468)\n",
      "  In nlps_master (line 231)\n",
      "  In opt_model/solve (line 175)\n",
      "  In nlpopf_solver (line 123)\n",
      "  In opf_execute (line 134)\n",
      "  In opf (line 232)\n",
      "  In runopf (line 75)\n",
      "  In run_opf_ac (line 31)\n",
      "\n",
      "Warning: Matrix is close to singular or badly scaled. Results may be inaccurate. RCOND =  2.710636e-18.\n",
      "> In mplinsolve (line 70)\n",
      "  In mips (line 468)\n",
      "  In nlps_master (line 231)\n",
      "  In opt_model/solve (line 175)\n",
      "  In nlpopf_solver (line 123)\n",
      "  In opf_execute (line 134)\n",
      "  In opf (line 232)\n",
      "  In runopf (line 75)\n",
      "  In run_opf_ac (line 31)\n",
      "\n",
      "  2%|▋                                        | 17/1000 [00:05<02:43,  6.02it/s]Warning: Matrix is close to singular or badly scaled. Results may be inaccurate. RCOND =  3.636067e-17.\n",
      "> In mplinsolve (line 70)\n",
      "  In mips (line 468)\n",
      "  In nlps_master (line 231)\n",
      "  In opt_model/solve (line 175)\n",
      "  In nlpopf_solver (line 123)\n",
      "  In opf_execute (line 134)\n",
      "  In opf (line 232)\n",
      "  In runopf (line 75)\n",
      "  In run_opf_ac (line 31)\n",
      "\n",
      "  3%|█                                        | 27/1000 [00:05<01:13, 13.30it/s]Warning: Matrix is close to singular or badly scaled. Results may be inaccurate. RCOND =  1.717776e-16.\n",
      "> In mplinsolve (line 70)\n",
      "  In mips (line 468)\n",
      "  In nlps_master (line 231)\n",
      "  In opt_model/solve (line 175)\n",
      "  In nlpopf_solver (line 123)\n",
      "  In opf_execute (line 134)\n",
      "  In opf (line 232)\n",
      "  In runopf (line 75)\n",
      "  In run_opf_ac (line 31)\n",
      "\n",
      "Warning: Matrix is close to singular or badly scaled. Results may be inaccurate. RCOND =  6.385076e-18.\n",
      "> In mplinsolve (line 70)\n",
      "  In mips (line 468)\n",
      "  In nlps_master (line 231)\n",
      "  In opt_model/solve (line 175)\n",
      "  In nlpopf_solver (line 123)\n",
      "  In opf_execute (line 134)\n",
      "  In opf (line 232)\n",
      "  In runopf (line 75)\n",
      "  In run_opf_ac (line 31)\n",
      "\n",
      "  3%|█▎                                       | 33/1000 [00:06<01:01, 15.65it/s]Warning: Matrix is close to singular or badly scaled. Results may be inaccurate. RCOND =  1.674518e-18.\n",
      "> In mplinsolve (line 70)\n",
      "  In mips (line 468)\n",
      "  In nlps_master (line 231)\n",
      "  In opt_model/solve (line 175)\n",
      "  In nlpopf_solver (line 123)\n",
      "  In opf_execute (line 134)\n",
      "  In opf (line 232)\n",
      "  In runopf (line 75)\n",
      "  In run_opf_ac (line 31)\n",
      "\n",
      "Warning: Matrix is close to singular or badly scaled. Results may be inaccurate. RCOND =  2.924967e-20.\n",
      "> In mplinsolve (line 70)\n",
      "  In mips (line 468)\n",
      "  In nlps_master (line 231)\n",
      "  In opt_model/solve (line 175)\n",
      "  In nlpopf_solver (line 123)\n",
      "  In opf_execute (line 134)\n",
      "  In opf (line 232)\n",
      "  In runopf (line 75)\n",
      "  In run_opf_ac (line 31)\n",
      "\n",
      "  4%|█▍                                       | 35/1000 [00:06<00:59, 16.28it/s]Warning: Matrix is close to singular or badly scaled. Results may be inaccurate. RCOND =  8.814391e-17.\n",
      "> In mplinsolve (line 70)\n",
      "  In mips (line 468)\n",
      "  In nlps_master (line 231)\n",
      "  In opt_model/solve (line 175)\n",
      "  In nlpopf_solver (line 123)\n",
      "  In opf_execute (line 134)\n",
      "  In opf (line 232)\n",
      "  In runopf (line 75)\n",
      "  In run_opf_ac (line 31)\n",
      "\n",
      "Warning: Matrix is close to singular or badly scaled. Results may be inaccurate. RCOND =  1.110864e-17.\n",
      "> In mplinsolve (line 70)\n",
      "  In mips (line 468)\n",
      "  In nlps_master (line 231)\n",
      "  In opt_model/solve (line 175)\n",
      "  In nlpopf_solver (line 123)\n",
      "  In opf_execute (line 134)\n",
      "  In opf (line 232)\n",
      "  In runopf (line 75)\n",
      "  In run_opf_ac (line 31)\n",
      "\n",
      "Warning: Matrix is close to singular or badly scaled. Results may be inaccurate. RCOND =  7.029817e-19.\n",
      "> In mplinsolve (line 70)\n",
      "  In mips (line 468)\n",
      "  In nlps_master (line 231)\n",
      "  In opt_model/solve (line 175)\n",
      "  In nlpopf_solver (line 123)\n",
      "  In opf_execute (line 134)\n",
      "  In opf (line 232)\n",
      "  In runopf (line 75)\n",
      "  In run_opf_ac (line 31)\n",
      "\n",
      "  4%|█▊                                       | 43/1000 [00:06<00:56, 16.93it/s]Warning: Matrix is close to singular or badly scaled. Results may be inaccurate. RCOND =  1.469650e-19.\n",
      "> In mplinsolve (line 70)\n",
      "  In mips (line 468)\n",
      "  In nlps_master (line 231)\n",
      "  In opt_model/solve (line 175)\n",
      "  In nlpopf_solver (line 123)\n",
      "  In opf_execute (line 134)\n",
      "  In opf (line 232)\n",
      "  In runopf (line 75)\n",
      "  In run_opf_ac (line 31)\n",
      "\n",
      "  5%|█▉                                       | 47/1000 [00:06<00:56, 16.98it/s]Warning: Matrix is close to singular or badly scaled. Results may be inaccurate. RCOND =  2.753020e-18.\n",
      "> In mplinsolve (line 70)\n",
      "  In mips (line 468)\n",
      "  In nlps_master (line 231)\n",
      "  In opt_model/solve (line 175)\n",
      "  In nlpopf_solver (line 123)\n",
      "  In opf_execute (line 134)\n",
      "  In opf (line 232)\n",
      "  In runopf (line 75)\n",
      "  In run_opf_ac (line 31)\n",
      "\n",
      "  5%|██                                       | 51/1000 [00:07<00:53, 17.86it/s]Warning: Matrix is close to singular or badly scaled. Results may be inaccurate. RCOND =  7.131339e-17.\n",
      "> In mplinsolve (line 70)\n",
      "  In mips (line 468)\n",
      "  In nlps_master (line 231)\n",
      "  In opt_model/solve (line 175)\n",
      "  In nlpopf_solver (line 123)\n",
      "  In opf_execute (line 134)\n",
      "  In opf (line 232)\n",
      "  In runopf (line 75)\n",
      "  In run_opf_ac (line 31)\n",
      "\n",
      "Warning: Matrix is close to singular or badly scaled. Results may be inaccurate. RCOND =  5.534752e-19.\n",
      "> In mplinsolve (line 70)\n",
      "  In mips (line 468)\n",
      "  In nlps_master (line 231)\n",
      "  In opt_model/solve (line 175)\n",
      "  In nlpopf_solver (line 123)\n",
      "  In opf_execute (line 134)\n",
      "  In opf (line 232)\n",
      "  In runopf (line 75)\n",
      "  In run_opf_ac (line 31)\n",
      "\n",
      "  5%|██▏                                      | 54/1000 [00:07<00:51, 18.51it/s]Warning: Matrix is close to singular or badly scaled. Results may be inaccurate. RCOND =  1.807959e-18.\n",
      "> In mplinsolve (line 70)\n",
      "  In mips (line 468)\n",
      "  In nlps_master (line 231)\n",
      "  In opt_model/solve (line 175)\n",
      "  In nlpopf_solver (line 123)\n",
      "  In opf_execute (line 134)\n",
      "  In opf (line 232)\n",
      "  In runopf (line 75)\n",
      "  In run_opf_ac (line 31)\n",
      "\n",
      "Warning: Matrix is close to singular or badly scaled. Results may be inaccurate. RCOND =  3.383784e-23.\n",
      "> In mplinsolve (line 70)\n",
      "  In mips (line 468)\n",
      "  In nlps_master (line 231)\n",
      "  In opt_model/solve (line 175)\n",
      "  In nlpopf_solver (line 123)\n",
      "  In opf_execute (line 134)\n",
      "  In opf (line 232)\n",
      "  In runopf (line 75)\n",
      "  In run_opf_ac (line 31)\n",
      "\n",
      "  6%|██▎                                      | 56/1000 [00:07<00:50, 18.60it/s]Warning: Matrix is close to singular or badly scaled. Results may be inaccurate. RCOND =  1.041484e-16.\n",
      "> In mplinsolve (line 70)\n",
      "  In mips (line 468)\n",
      "  In nlps_master (line 231)\n",
      "  In opt_model/solve (line 175)\n",
      "  In nlpopf_solver (line 123)\n",
      "  In opf_execute (line 134)\n",
      "  In opf (line 232)\n",
      "  In runopf (line 75)\n",
      "  In run_opf_ac (line 31)\n",
      "\n",
      "Warning: Matrix is close to singular or badly scaled. Results may be inaccurate. RCOND =  1.102640e-20.\n",
      "> In mplinsolve (line 70)\n",
      "  In mips (line 468)\n",
      "  In nlps_master (line 231)\n",
      "  In opt_model/solve (line 175)\n",
      "  In nlpopf_solver (line 123)\n",
      "  In opf_execute (line 134)\n",
      "  In opf (line 232)\n",
      "  In runopf (line 75)\n",
      "  In run_opf_ac (line 31)\n",
      "\n",
      "Warning: Matrix is close to singular or badly scaled. Results may be inaccurate. RCOND =  1.320093e-16.\n",
      "> In mplinsolve (line 70)\n",
      "  In mips (line 468)\n",
      "  In nlps_master (line 231)\n",
      "  In opt_model/solve (line 175)\n",
      "  In nlpopf_solver (line 123)\n",
      "  In opf_execute (line 134)\n",
      "  In opf (line 232)\n",
      "  In runopf (line 75)\n",
      "  In run_opf_ac (line 31)\n",
      "\n",
      "Warning: Matrix is close to singular or badly scaled. Results "
     ]
    },
    {
     "data": {
      "text/html": [
       "<b>limit_output extension: Maximum message size of 10000 exceeded with 10287 characters</b>"
      ]
     },
     "metadata": {},
     "output_type": "display_data"
    }
   ],
   "source": [
    "!python gen_dataset.py -i \"case39.m\" -n 1000"
   ]
  },
  {
   "cell_type": "markdown",
   "metadata": {},
   "source": [
    "# 2. Check the generated dataset"
   ]
  },
  {
   "cell_type": "code",
   "execution_count": 3,
   "metadata": {
    "ExecuteTime": {
     "end_time": "2020-11-30T14:24:13.454821Z",
     "start_time": "2020-11-30T14:24:13.340106Z"
    }
   },
   "outputs": [
    {
     "ename": "FileNotFoundError",
     "evalue": "[Errno 2] No such file or directory: '../data/GCN_datasets/case39.pickle'",
     "output_type": "error",
     "traceback": [
      "\u001b[0;31m---------------------------------------------------------------------------\u001b[0m",
      "\u001b[0;31mFileNotFoundError\u001b[0m                         Traceback (most recent call last)",
      "\u001b[0;32m<ipython-input-3-88c83eee4524>\u001b[0m in \u001b[0;36m<module>\u001b[0;34m\u001b[0m\n\u001b[1;32m      1\u001b[0m \u001b[0;32mimport\u001b[0m \u001b[0mpickle\u001b[0m\u001b[0;34m\u001b[0m\u001b[0;34m\u001b[0m\u001b[0m\n\u001b[1;32m      2\u001b[0m \u001b[0;34m\u001b[0m\u001b[0m\n\u001b[0;32m----> 3\u001b[0;31m \u001b[0minfile\u001b[0m \u001b[0;34m=\u001b[0m \u001b[0mopen\u001b[0m\u001b[0;34m(\u001b[0m\u001b[0;34m'../data/GCN_datasets/case39.pickle'\u001b[0m\u001b[0;34m,\u001b[0m \u001b[0;34m'rb'\u001b[0m\u001b[0;34m)\u001b[0m\u001b[0;34m\u001b[0m\u001b[0;34m\u001b[0m\u001b[0m\n\u001b[0m\u001b[1;32m      4\u001b[0m \u001b[0mdataset\u001b[0m \u001b[0;34m=\u001b[0m \u001b[0mpickle\u001b[0m\u001b[0;34m.\u001b[0m\u001b[0mload\u001b[0m\u001b[0;34m(\u001b[0m\u001b[0minfile\u001b[0m\u001b[0;34m)\u001b[0m\u001b[0;34m\u001b[0m\u001b[0;34m\u001b[0m\u001b[0m\n\u001b[1;32m      5\u001b[0m \u001b[0minfile\u001b[0m\u001b[0;34m.\u001b[0m\u001b[0mclose\u001b[0m\u001b[0;34m(\u001b[0m\u001b[0;34m)\u001b[0m\u001b[0;34m\u001b[0m\u001b[0;34m\u001b[0m\u001b[0m\n",
      "\u001b[0;31mFileNotFoundError\u001b[0m: [Errno 2] No such file or directory: '../data/GCN_datasets/case39.pickle'"
     ]
    }
   ],
   "source": [
    "import pickle\n",
    "\n",
    "infile = open('../data/GCN_datasets/case39.pickle', 'rb')\n",
    "dataset = pickle.load(infile)\n",
    "infile.close()"
   ]
  },
  {
   "cell_type": "code",
   "execution_count": null,
   "metadata": {
    "ExecuteTime": {
     "end_time": "2020-11-30T14:24:13.461663Z",
     "start_time": "2020-11-30T14:23:08.545Z"
    }
   },
   "outputs": [],
   "source": [
    "Xs = dataset[\"feature\"]\n",
    "Xs.shape # [num_sample, num_feature, 1]"
   ]
  },
  {
   "cell_type": "code",
   "execution_count": null,
   "metadata": {
    "ExecuteTime": {
     "end_time": "2020-11-30T14:24:13.462678Z",
     "start_time": "2020-11-30T14:23:08.546Z"
    }
   },
   "outputs": [],
   "source": [
    "Ys = dataset[\"label\"]\n",
    "Ys.shape # [num_sample, num_label, 1]"
   ]
  },
  {
   "cell_type": "markdown",
   "metadata": {},
   "source": [
    "# 3. EDA with Generated dataset for GCN"
   ]
  },
  {
   "cell_type": "code",
   "execution_count": null,
   "metadata": {
    "ExecuteTime": {
     "end_time": "2020-11-30T14:24:13.463859Z",
     "start_time": "2020-11-30T14:23:08.575Z"
    }
   },
   "outputs": [],
   "source": [
    "import seaborn\n",
    "import warnings\n",
    "warnings.filterwarnings('ignore')"
   ]
  },
  {
   "cell_type": "markdown",
   "metadata": {},
   "source": [
    "## feature data distribution"
   ]
  },
  {
   "cell_type": "code",
   "execution_count": null,
   "metadata": {
    "ExecuteTime": {
     "end_time": "2020-11-30T14:24:13.465269Z",
     "start_time": "2020-11-30T14:23:08.600Z"
    }
   },
   "outputs": [],
   "source": [
    "seaborn.distplot(Xs[:, 0])"
   ]
  },
  {
   "cell_type": "markdown",
   "metadata": {},
   "source": [
    "the case that power injection did not hit the limit, since it is the slack bus case."
   ]
  },
  {
   "cell_type": "code",
   "execution_count": null,
   "metadata": {
    "ExecuteTime": {
     "end_time": "2020-11-30T14:24:13.466418Z",
     "start_time": "2020-11-30T14:23:08.622Z"
    }
   },
   "outputs": [],
   "source": [
    "seaborn.distplot(Xs[:, 1])"
   ]
  },
  {
   "cell_type": "markdown",
   "metadata": {},
   "source": [
    "the case that power injection hit the limit frequently..."
   ]
  },
  {
   "cell_type": "code",
   "execution_count": null,
   "metadata": {
    "ExecuteTime": {
     "end_time": "2020-11-30T14:24:13.467669Z",
     "start_time": "2020-11-30T14:23:08.643Z"
    }
   },
   "outputs": [],
   "source": [
    "seaborn.distplot(Xs[:, 2])"
   ]
  },
  {
   "cell_type": "code",
   "execution_count": null,
   "metadata": {
    "ExecuteTime": {
     "end_time": "2020-11-30T14:24:13.468877Z",
     "start_time": "2020-11-30T14:23:08.644Z"
    }
   },
   "outputs": [],
   "source": [
    "seaborn.distplot(Xs[:, 3])"
   ]
  },
  {
   "cell_type": "code",
   "execution_count": null,
   "metadata": {
    "ExecuteTime": {
     "end_time": "2020-11-30T14:24:13.469920Z",
     "start_time": "2020-11-30T14:23:08.646Z"
    }
   },
   "outputs": [],
   "source": [
    "seaborn.distplot(Xs[:, 4])"
   ]
  },
  {
   "cell_type": "code",
   "execution_count": null,
   "metadata": {
    "ExecuteTime": {
     "end_time": "2020-11-30T14:24:13.471475Z",
     "start_time": "2020-11-30T14:23:08.647Z"
    }
   },
   "outputs": [],
   "source": [
    "seaborn.distplot(Xs[:, 5])"
   ]
  },
  {
   "cell_type": "markdown",
   "metadata": {},
   "source": [
    "## label data distribution"
   ]
  },
  {
   "cell_type": "code",
   "execution_count": null,
   "metadata": {
    "ExecuteTime": {
     "end_time": "2020-11-30T14:24:13.472709Z",
     "start_time": "2020-11-30T14:23:08.669Z"
    }
   },
   "outputs": [],
   "source": [
    "seaborn.distplot(Ys[:, 0])"
   ]
  },
  {
   "cell_type": "code",
   "execution_count": null,
   "metadata": {
    "ExecuteTime": {
     "end_time": "2020-11-30T14:24:13.473813Z",
     "start_time": "2020-11-30T14:23:08.670Z"
    }
   },
   "outputs": [],
   "source": [
    "seaborn.distplot(Ys[:, 1])"
   ]
  },
  {
   "cell_type": "code",
   "execution_count": null,
   "metadata": {
    "ExecuteTime": {
     "end_time": "2020-11-30T14:24:13.474935Z",
     "start_time": "2020-11-30T14:23:08.671Z"
    }
   },
   "outputs": [],
   "source": [
    "seaborn.distplot(Ys[:, 2])"
   ]
  },
  {
   "cell_type": "code",
   "execution_count": null,
   "metadata": {
    "ExecuteTime": {
     "end_time": "2020-11-30T14:24:13.476072Z",
     "start_time": "2020-11-30T14:23:08.672Z"
    }
   },
   "outputs": [],
   "source": [
    "seaborn.distplot(Ys[:, 3])"
   ]
  },
  {
   "cell_type": "code",
   "execution_count": null,
   "metadata": {
    "ExecuteTime": {
     "end_time": "2020-11-30T14:24:13.477417Z",
     "start_time": "2020-11-30T14:23:08.673Z"
    }
   },
   "outputs": [],
   "source": [
    "seaborn.distplot(Ys[:, 4])"
   ]
  },
  {
   "cell_type": "code",
   "execution_count": null,
   "metadata": {
    "ExecuteTime": {
     "end_time": "2020-11-30T14:24:13.478424Z",
     "start_time": "2020-11-30T14:23:08.674Z"
    }
   },
   "outputs": [],
   "source": [
    "seaborn.distplot(Ys[:, 5])"
   ]
  },
  {
   "cell_type": "code",
   "execution_count": null,
   "metadata": {
    "ExecuteTime": {
     "end_time": "2020-11-30T14:20:02.313602Z",
     "start_time": "2020-11-30T14:20:02.311059Z"
    }
   },
   "outputs": [],
   "source": []
  },
  {
   "cell_type": "code",
   "execution_count": null,
   "metadata": {},
   "outputs": [],
   "source": []
  }
 ],
 "metadata": {
  "kernelspec": {
   "display_name": "Python 3",
   "language": "python",
   "name": "python3"
  },
  "language_info": {
   "codemirror_mode": {
    "name": "ipython",
    "version": 3
   },
   "file_extension": ".py",
   "mimetype": "text/x-python",
   "name": "python",
   "nbconvert_exporter": "python",
   "pygments_lexer": "ipython3",
   "version": "3.7.9"
  },
  "latex_envs": {
   "LaTeX_envs_menu_present": true,
   "autoclose": false,
   "autocomplete": true,
   "bibliofile": "biblio.bib",
   "cite_by": "apalike",
   "current_citInitial": 1,
   "eqLabelWithNumbers": true,
   "eqNumInitial": 1,
   "hotkeys": {
    "equation": "Ctrl-E",
    "itemize": "Ctrl-I"
   },
   "labels_anchors": false,
   "latex_user_defs": false,
   "report_style_numbering": false,
   "user_envs_cfg": false
  },
  "toc": {
   "base_numbering": 1,
   "nav_menu": {},
   "number_sections": false,
   "sideBar": true,
   "skip_h1_title": false,
   "title_cell": "Table of Contents",
   "title_sidebar": "Contents",
   "toc_cell": false,
   "toc_position": {},
   "toc_section_display": true,
   "toc_window_display": true
  },
  "varInspector": {
   "cols": {
    "lenName": 16,
    "lenType": 16,
    "lenVar": 40
   },
   "kernels_config": {
    "python": {
     "delete_cmd_postfix": "",
     "delete_cmd_prefix": "del ",
     "library": "var_list.py",
     "varRefreshCmd": "print(var_dic_list())"
    },
    "r": {
     "delete_cmd_postfix": ") ",
     "delete_cmd_prefix": "rm(",
     "library": "var_list.r",
     "varRefreshCmd": "cat(var_dic_list()) "
    }
   },
   "types_to_exclude": [
    "module",
    "function",
    "builtin_function_or_method",
    "instance",
    "_Feature"
   ],
   "window_display": false
  }
 },
 "nbformat": 4,
 "nbformat_minor": 4
}
